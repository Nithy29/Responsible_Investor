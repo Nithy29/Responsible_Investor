{
 "cells": [
  {
   "cell_type": "code",
   "execution_count": 57,
   "id": "1a3473c9",
   "metadata": {},
   "outputs": [],
   "source": [
    "import yfinance as yf\n",
    "from ipywidgets import *                                #Interactive Widgets library\n",
    "from IPython.display import clear_output\n",
    "from panel.interact import interact\n"
   ]
  },
  {
   "cell_type": "code",
   "execution_count": 58,
   "id": "f5da0096",
   "metadata": {},
   "outputs": [
    {
     "data": {
      "application/vnd.jupyter.widget-view+json": {
       "model_id": "fffc118f08ca4b43aacb9ef47a5a6d2a",
       "version_major": 2,
       "version_minor": 0
      },
      "text/plain": [
       "Label(value='Which symbol do you need information on?')"
      ]
     },
     "metadata": {},
     "output_type": "display_data"
    },
    {
     "data": {
      "application/vnd.jupyter.widget-view+json": {
       "model_id": "84962551234d44d2ae166f038ba71357",
       "version_major": 2,
       "version_minor": 0
      },
      "text/plain": [
       "interactive(children=(Dropdown(description='symbol', options=('APD', 'APH', 'RACE', 'TEL', 'IFF', 'GLW'), valu…"
      ]
     },
     "metadata": {},
     "output_type": "display_data"
    }
   ],
   "source": [
    "def get_news(symbol):\n",
    "    clear_output(wait=True)\n",
    "    yf_ticker = yf.Ticker(symbol)\n",
    "    new = yf_ticker.news\n",
    "    recommendation = yf_ticker.recommendations\n",
    "    financial = yf_ticker.financials\n",
    "    cal = yf_ticker.calendar\n",
    "    divident = yf_ticker.dividends\n",
    "    \n",
    "    for i in range(1, len(new)):\n",
    "            print(new[i]['title'])\n",
    "            print(new[i]['link'] )\n",
    "    print('\\n')\n",
    "    print('Calendar information')\n",
    "    display(cal)\n",
    "    print('\\n')\n",
    "    print('Recommendations')\n",
    "    display(recommendation)\n",
    "    print('\\n')\n",
    "    print('Financials')\n",
    "    display(financial)\n",
    "    print('\\n')\n",
    "    print('Divident')\n",
    "    display(divident)    \n",
    "    return\n",
    "                                                                                    \n",
    "\n",
    "heading = widgets.Label('Which symbol do you need information on?')   #Set the widget heading\n",
    "display(heading)                                       #Display the heading\n",
    "interactive(get_news, symbol=(['APD', 'APH', 'RACE', 'TEL', 'IFF', 'GLW']))          #Show the dropdown box\n"
   ]
  },
  {
   "cell_type": "code",
   "execution_count": null,
   "id": "e5bdcd7a",
   "metadata": {},
   "outputs": [],
   "source": []
  },
  {
   "cell_type": "code",
   "execution_count": null,
   "id": "78440696",
   "metadata": {},
   "outputs": [],
   "source": []
  }
 ],
 "metadata": {
  "kernelspec": {
   "display_name": "Python 3 (ipykernel)",
   "language": "python",
   "name": "python3"
  },
  "language_info": {
   "codemirror_mode": {
    "name": "ipython",
    "version": 3
   },
   "file_extension": ".py",
   "mimetype": "text/x-python",
   "name": "python",
   "nbconvert_exporter": "python",
   "pygments_lexer": "ipython3",
   "version": "3.7.11"
  }
 },
 "nbformat": 4,
 "nbformat_minor": 5
}
