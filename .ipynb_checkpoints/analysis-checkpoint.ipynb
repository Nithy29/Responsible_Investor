{
 "cells": [
  {
   "cell_type": "code",
   "execution_count": 1,
   "id": "87aa64e3",
   "metadata": {},
   "outputs": [],
   "source": [
    "\n",
    "import os                                               #os interface library \n",
    "import requests                                         #HTTP requests library\n",
    "import pandas as pd                                     #panda library\n",
    "from dotenv import load_dotenv                          #dotenv library to read keys and secrect key for api\n",
    "import alpaca_trade_api as trade_api                     #Alpaca library\n",
    "from MCForecastTools import MCSimulation                #Monta Carlos simulation apis\n",
    "import json                                             #JSON library ro work with JSON objects\n",
    "from datetime import date                               #Data-Time library\n",
    "\n",
    "#set the backend of matplotlib to the 'inline' backend \n",
    "%matplotlib inline "
   ]
  },
  {
   "cell_type": "code",
   "execution_count": 2,
   "id": "7bdd7c66",
   "metadata": {},
   "outputs": [
    {
     "data": {
      "text/plain": [
       "True"
      ]
     },
     "execution_count": 2,
     "metadata": {},
     "output_type": "execute_result"
    }
   ],
   "source": [
    "# Load .env enviroment variables\n",
    "load_dotenv()"
   ]
  },
  {
   "cell_type": "code",
   "execution_count": 3,
   "id": "33682b68-92e1-4913-a1c5-6936646a9f86",
   "metadata": {},
   "outputs": [],
   "source": [
    "def setting_api():\n",
    "    alpaca_api_key=os.getenv(\"ALPACA_API_KEY\")\n",
    "    alpaca_secret_key=os.getenv(\"ALPACA_SECRET_KEY\")\n",
    "    alpaca = trade_api.REST(alpaca_api_key, alpaca_secret_key, api_version='v2')\n",
    "    return alpaca\n",
    "    "
   ]
  },
  {
   "cell_type": "code",
   "execution_count": 5,
   "id": "b8b9c79c-8f13-43a2-8641-2c9296f9afef",
   "metadata": {},
   "outputs": [],
   "source": [
    "# Function for retrieving data relative to tickers/portfolio\n",
    "def portfolio_data(tickers):\n",
    "    today = date.today() + pd.DateOffset(years=-5)                        \n",
    "    today = pd.Timestamp(today, tz=\"America/New_York\").isoformat()  \n",
    "    timeframe ='1Day'\n",
    "    portfolio =alpaca.get_bars(tickers,timeframe,start=today,adjustment='raw').df\n",
    "    portfolio.index = portfolio.index.date\n",
    "    return portfolio\n",
    "# function for retrieving data related to benchmark:\n",
    "def bench_mark(symbol):\n",
    "    bench_mark = portfolio_data(symbol)\n",
    "    symbol = bench_mark[['close']].rename(columns = {'close': symbol})\n",
    "    return symbol\n",
    "# function to seperate the required data :\n",
    "def format_data(symbol):\n",
    "    ticker =portfolio[portfolio[\"symbol\"]==symbol].drop(\"symbol\", axis=1)\n",
    "    closing_price = ticker[['close']]\n",
    "    closing_price = closing_price.rename(columns={'close' : symbol})\n",
    "    return closing_price\n",
    "# function for calculating cuumulative returns:\n",
    "def cumulative_returns(data):\n",
    "    data_returns = data.pct_change()\n",
    "    data_cumulative = (1+data_returns).cumprod()\n",
    "    return data_cumulative\n",
    "# function for equally weghting stocks:\n",
    "def equal_weights(data):\n",
    "    weights = []\n",
    "    for i in range(0,len(portfolio.columns)):\n",
    "        w = 1/len(portfolio.columns)\n",
    "        weights.append(w)\n",
    "    return weights   \n",
    "\n",
    "  \n",
    "    \n",
    "    \n",
    "        \n",
    "  "
   ]
  },
  {
   "cell_type": "code",
   "execution_count": 6,
   "id": "781c262e-2c2b-461a-8553-2a2e01ee6b6b",
   "metadata": {},
   "outputs": [],
   "source": [
    "alpaca = setting_api()"
   ]
  },
  {
   "cell_type": "code",
   "execution_count": 7,
   "id": "02211cc8-fc24-444b-821f-c6b1b551af04",
   "metadata": {},
   "outputs": [],
   "source": [
    "tickers = ['APD', 'APH', 'RACE', 'TEL', 'IFF', 'GLW']\n",
    "portfolio = portfolio_data(tickers)"
   ]
  },
  {
   "cell_type": "code",
   "execution_count": 8,
   "id": "ab655c0e-f29c-4d66-9195-491e8613615a",
   "metadata": {},
   "outputs": [
    {
     "data": {
      "text/html": [
       "<div>\n",
       "<style scoped>\n",
       "    .dataframe tbody tr th:only-of-type {\n",
       "        vertical-align: middle;\n",
       "    }\n",
       "\n",
       "    .dataframe tbody tr th {\n",
       "        vertical-align: top;\n",
       "    }\n",
       "\n",
       "    .dataframe thead th {\n",
       "        text-align: right;\n",
       "    }\n",
       "</style>\n",
       "<table border=\"1\" class=\"dataframe\">\n",
       "  <thead>\n",
       "    <tr style=\"text-align: right;\">\n",
       "      <th></th>\n",
       "      <th>open</th>\n",
       "      <th>high</th>\n",
       "      <th>low</th>\n",
       "      <th>close</th>\n",
       "      <th>volume</th>\n",
       "      <th>trade_count</th>\n",
       "      <th>vwap</th>\n",
       "      <th>symbol</th>\n",
       "    </tr>\n",
       "  </thead>\n",
       "  <tbody>\n",
       "    <tr>\n",
       "      <th>2017-04-13</th>\n",
       "      <td>135.33</td>\n",
       "      <td>135.5800</td>\n",
       "      <td>134.17</td>\n",
       "      <td>134.30</td>\n",
       "      <td>626943</td>\n",
       "      <td>7518</td>\n",
       "      <td>134.705681</td>\n",
       "      <td>APD</td>\n",
       "    </tr>\n",
       "    <tr>\n",
       "      <th>2017-04-17</th>\n",
       "      <td>134.78</td>\n",
       "      <td>135.8950</td>\n",
       "      <td>134.42</td>\n",
       "      <td>135.86</td>\n",
       "      <td>1092375</td>\n",
       "      <td>11416</td>\n",
       "      <td>135.497295</td>\n",
       "      <td>APD</td>\n",
       "    </tr>\n",
       "    <tr>\n",
       "      <th>2017-04-18</th>\n",
       "      <td>135.04</td>\n",
       "      <td>136.0200</td>\n",
       "      <td>134.72</td>\n",
       "      <td>135.27</td>\n",
       "      <td>701020</td>\n",
       "      <td>10116</td>\n",
       "      <td>135.259170</td>\n",
       "      <td>APD</td>\n",
       "    </tr>\n",
       "    <tr>\n",
       "      <th>2017-04-19</th>\n",
       "      <td>135.73</td>\n",
       "      <td>136.0399</td>\n",
       "      <td>134.78</td>\n",
       "      <td>134.96</td>\n",
       "      <td>577819</td>\n",
       "      <td>7170</td>\n",
       "      <td>135.166924</td>\n",
       "      <td>APD</td>\n",
       "    </tr>\n",
       "    <tr>\n",
       "      <th>2017-04-20</th>\n",
       "      <td>135.62</td>\n",
       "      <td>137.3400</td>\n",
       "      <td>135.20</td>\n",
       "      <td>136.90</td>\n",
       "      <td>985329</td>\n",
       "      <td>10779</td>\n",
       "      <td>136.676759</td>\n",
       "      <td>APD</td>\n",
       "    </tr>\n",
       "  </tbody>\n",
       "</table>\n",
       "</div>"
      ],
      "text/plain": [
       "              open      high     low   close   volume  trade_count  \\\n",
       "2017-04-13  135.33  135.5800  134.17  134.30   626943         7518   \n",
       "2017-04-17  134.78  135.8950  134.42  135.86  1092375        11416   \n",
       "2017-04-18  135.04  136.0200  134.72  135.27   701020        10116   \n",
       "2017-04-19  135.73  136.0399  134.78  134.96   577819         7170   \n",
       "2017-04-20  135.62  137.3400  135.20  136.90   985329        10779   \n",
       "\n",
       "                  vwap symbol  \n",
       "2017-04-13  134.705681    APD  \n",
       "2017-04-17  135.497295    APD  \n",
       "2017-04-18  135.259170    APD  \n",
       "2017-04-19  135.166924    APD  \n",
       "2017-04-20  136.676759    APD  "
      ]
     },
     "execution_count": 8,
     "metadata": {},
     "output_type": "execute_result"
    }
   ],
   "source": [
    "portfolio.head()"
   ]
  },
  {
   "cell_type": "code",
   "execution_count": 9,
   "id": "1c5c4b2d-dc37-4d23-b94d-418741403047",
   "metadata": {},
   "outputs": [],
   "source": [
    "apd =format_data('APD')\n",
    "aph =format_data('APH')\n",
    "race=format_data('RACE')\n",
    "tel=format_data('TEL')\n",
    "iff=format_data('IFF')\n",
    "glw=format_data('GLW')"
   ]
  },
  {
   "cell_type": "code",
   "execution_count": 10,
   "id": "4a807afa-8e29-4537-90bf-4a1ccfc08c07",
   "metadata": {},
   "outputs": [
    {
     "data": {
      "text/html": [
       "<div>\n",
       "<style scoped>\n",
       "    .dataframe tbody tr th:only-of-type {\n",
       "        vertical-align: middle;\n",
       "    }\n",
       "\n",
       "    .dataframe tbody tr th {\n",
       "        vertical-align: top;\n",
       "    }\n",
       "\n",
       "    .dataframe thead th {\n",
       "        text-align: right;\n",
       "    }\n",
       "</style>\n",
       "<table border=\"1\" class=\"dataframe\">\n",
       "  <thead>\n",
       "    <tr style=\"text-align: right;\">\n",
       "      <th></th>\n",
       "      <th>APD</th>\n",
       "    </tr>\n",
       "  </thead>\n",
       "  <tbody>\n",
       "    <tr>\n",
       "      <th>2017-04-13</th>\n",
       "      <td>134.30</td>\n",
       "    </tr>\n",
       "    <tr>\n",
       "      <th>2017-04-17</th>\n",
       "      <td>135.86</td>\n",
       "    </tr>\n",
       "    <tr>\n",
       "      <th>2017-04-18</th>\n",
       "      <td>135.27</td>\n",
       "    </tr>\n",
       "    <tr>\n",
       "      <th>2017-04-19</th>\n",
       "      <td>134.96</td>\n",
       "    </tr>\n",
       "    <tr>\n",
       "      <th>2017-04-20</th>\n",
       "      <td>136.90</td>\n",
       "    </tr>\n",
       "  </tbody>\n",
       "</table>\n",
       "</div>"
      ],
      "text/plain": [
       "               APD\n",
       "2017-04-13  134.30\n",
       "2017-04-17  135.86\n",
       "2017-04-18  135.27\n",
       "2017-04-19  134.96\n",
       "2017-04-20  136.90"
      ]
     },
     "execution_count": 10,
     "metadata": {},
     "output_type": "execute_result"
    }
   ],
   "source": [
    "apd.head()"
   ]
  },
  {
   "cell_type": "code",
   "execution_count": 11,
   "id": "42e615ab-6253-414d-98ed-3f08a5127f81",
   "metadata": {},
   "outputs": [],
   "source": [
    "portfolio = pd.concat([apd,aph,race,tel,iff,glw],axis =1,join = 'inner')"
   ]
  },
  {
   "cell_type": "code",
   "execution_count": 12,
   "id": "30543dcc-2da0-46fe-862f-a116e259f88c",
   "metadata": {},
   "outputs": [
    {
     "data": {
      "text/html": [
       "<div>\n",
       "<style scoped>\n",
       "    .dataframe tbody tr th:only-of-type {\n",
       "        vertical-align: middle;\n",
       "    }\n",
       "\n",
       "    .dataframe tbody tr th {\n",
       "        vertical-align: top;\n",
       "    }\n",
       "\n",
       "    .dataframe thead th {\n",
       "        text-align: right;\n",
       "    }\n",
       "</style>\n",
       "<table border=\"1\" class=\"dataframe\">\n",
       "  <thead>\n",
       "    <tr style=\"text-align: right;\">\n",
       "      <th></th>\n",
       "      <th>APD</th>\n",
       "      <th>APH</th>\n",
       "      <th>RACE</th>\n",
       "      <th>TEL</th>\n",
       "      <th>IFF</th>\n",
       "      <th>GLW</th>\n",
       "    </tr>\n",
       "  </thead>\n",
       "  <tbody>\n",
       "    <tr>\n",
       "      <th>2017-04-13</th>\n",
       "      <td>134.30</td>\n",
       "      <td>68.65</td>\n",
       "      <td>70.63</td>\n",
       "      <td>71.93</td>\n",
       "      <td>131.94</td>\n",
       "      <td>26.32</td>\n",
       "    </tr>\n",
       "    <tr>\n",
       "      <th>2017-04-17</th>\n",
       "      <td>135.86</td>\n",
       "      <td>69.53</td>\n",
       "      <td>71.32</td>\n",
       "      <td>72.77</td>\n",
       "      <td>133.02</td>\n",
       "      <td>26.54</td>\n",
       "    </tr>\n",
       "    <tr>\n",
       "      <th>2017-04-18</th>\n",
       "      <td>135.27</td>\n",
       "      <td>69.96</td>\n",
       "      <td>70.59</td>\n",
       "      <td>73.08</td>\n",
       "      <td>134.07</td>\n",
       "      <td>26.89</td>\n",
       "    </tr>\n",
       "    <tr>\n",
       "      <th>2017-04-19</th>\n",
       "      <td>134.96</td>\n",
       "      <td>70.12</td>\n",
       "      <td>71.26</td>\n",
       "      <td>73.18</td>\n",
       "      <td>134.53</td>\n",
       "      <td>26.86</td>\n",
       "    </tr>\n",
       "    <tr>\n",
       "      <th>2017-04-20</th>\n",
       "      <td>136.90</td>\n",
       "      <td>70.82</td>\n",
       "      <td>71.40</td>\n",
       "      <td>74.12</td>\n",
       "      <td>135.80</td>\n",
       "      <td>27.11</td>\n",
       "    </tr>\n",
       "  </tbody>\n",
       "</table>\n",
       "</div>"
      ],
      "text/plain": [
       "               APD    APH   RACE    TEL     IFF    GLW\n",
       "2017-04-13  134.30  68.65  70.63  71.93  131.94  26.32\n",
       "2017-04-17  135.86  69.53  71.32  72.77  133.02  26.54\n",
       "2017-04-18  135.27  69.96  70.59  73.08  134.07  26.89\n",
       "2017-04-19  134.96  70.12  71.26  73.18  134.53  26.86\n",
       "2017-04-20  136.90  70.82  71.40  74.12  135.80  27.11"
      ]
     },
     "execution_count": 12,
     "metadata": {},
     "output_type": "execute_result"
    }
   ],
   "source": [
    "portfolio.head()"
   ]
  },
  {
   "cell_type": "code",
   "execution_count": 13,
   "id": "b304a288-c4d2-4292-8115-57b72ef2ee24",
   "metadata": {},
   "outputs": [
    {
     "data": {
      "text/html": [
       "<div>\n",
       "<style scoped>\n",
       "    .dataframe tbody tr th:only-of-type {\n",
       "        vertical-align: middle;\n",
       "    }\n",
       "\n",
       "    .dataframe tbody tr th {\n",
       "        vertical-align: top;\n",
       "    }\n",
       "\n",
       "    .dataframe thead th {\n",
       "        text-align: right;\n",
       "    }\n",
       "</style>\n",
       "<table border=\"1\" class=\"dataframe\">\n",
       "  <thead>\n",
       "    <tr style=\"text-align: right;\">\n",
       "      <th></th>\n",
       "      <th>SPY</th>\n",
       "    </tr>\n",
       "  </thead>\n",
       "  <tbody>\n",
       "    <tr>\n",
       "      <th>2017-04-13</th>\n",
       "      <td>232.51</td>\n",
       "    </tr>\n",
       "    <tr>\n",
       "      <th>2017-04-17</th>\n",
       "      <td>234.57</td>\n",
       "    </tr>\n",
       "    <tr>\n",
       "      <th>2017-04-18</th>\n",
       "      <td>233.87</td>\n",
       "    </tr>\n",
       "    <tr>\n",
       "      <th>2017-04-19</th>\n",
       "      <td>233.44</td>\n",
       "    </tr>\n",
       "    <tr>\n",
       "      <th>2017-04-20</th>\n",
       "      <td>235.34</td>\n",
       "    </tr>\n",
       "  </tbody>\n",
       "</table>\n",
       "</div>"
      ],
      "text/plain": [
       "               SPY\n",
       "2017-04-13  232.51\n",
       "2017-04-17  234.57\n",
       "2017-04-18  233.87\n",
       "2017-04-19  233.44\n",
       "2017-04-20  235.34"
      ]
     },
     "execution_count": 13,
     "metadata": {},
     "output_type": "execute_result"
    }
   ],
   "source": [
    "spy = bench_mark('SPY')\n",
    "spy.head()"
   ]
  },
  {
   "cell_type": "code",
   "execution_count": 14,
   "id": "acd70a88-0ef0-43ce-930e-33ee2d04c946",
   "metadata": {},
   "outputs": [
    {
     "data": {
      "text/plain": [
       "<AxesSubplot:>"
      ]
     },
     "execution_count": 14,
     "metadata": {},
     "output_type": "execute_result"
    },
    {
     "data": {
      "image/png": "[encoded data removed]",
      "text/plain": [
       "<Figure size 432x288 with 1 Axes>"
      ]
     },
     "metadata": {
      "needs_background": "light"
     },
     "output_type": "display_data"
    }
   ],
   "source": [
    "spy_cumulative = cumulative_returns(spy)\n",
    "portfolio_cumulative = cumulative_returns(portfolio)\n",
    "portfolio_cumulative.plot()"
   ]
  },
  {
   "cell_type": "code",
   "execution_count": 15,
   "id": "8b6afbae-5c53-4162-9ce8-62b7e4aee625",
   "metadata": {},
   "outputs": [],
   "source": [
    "weights = equal_weights(portfolio)"
   ]
  },
  {
   "cell_type": "code",
   "execution_count": 16,
   "id": "8f08cb93-7a26-4d3b-aecb-2e2823dce95f",
   "metadata": {},
   "outputs": [],
   "source": [
    "portfolio_price_action = portfolio_cumulative.dot(weights)"
   ]
  },
  {
   "cell_type": "code",
   "execution_count": 17,
   "id": "786c6445-981f-4a53-8bd2-cbb781ea54cc",
   "metadata": {},
   "outputs": [
    {
     "data": {
      "text/plain": [
       "<AxesSubplot:>"
      ]
     },
     "execution_count": 17,
     "metadata": {},
     "output_type": "execute_result"
    },
    {
     "data": {
      "image/png": "[encoded data removed]",
      "text/plain": [
       "<Figure size 432x288 with 1 Axes>"
      ]
     },
     "metadata": {
      "needs_background": "light"
     },
     "output_type": "display_data"
    }
   ],
   "source": [
    "portfolio_price_action.plot()"
   ]
  },
  {
   "cell_type": "code",
   "execution_count": 18,
   "id": "816b36a7-aa17-4b67-9bf2-0b8154598d7a",
   "metadata": {},
   "outputs": [],
   "source": [
    "comparison = pd.concat([portfolio_price_action,spy_cumulative],axis = 1 ,join = 'inner')"
   ]
  },
  {
   "cell_type": "code",
   "execution_count": 19,
   "id": "5e6be66a-875e-4492-b39f-df2a4a33f2b7",
   "metadata": {},
   "outputs": [
    {
     "data": {
      "text/plain": [
       "<AxesSubplot:>"
      ]
     },
     "execution_count": 19,
     "metadata": {},
     "output_type": "execute_result"
    },
    {
     "data": {
      "image/png": "[encoded data removed]",
      "text/plain": [
       "<Figure size 432x288 with 1 Axes>"
      ]
     },
     "metadata": {
      "needs_background": "light"
     },
     "output_type": "display_data"
    }
   ],
   "source": [
    "comparison.plot()"
   ]
  },
  {
   "cell_type": "code",
   "execution_count": null,
   "id": "440ad132-cf4d-436e-aa75-0dbfd12f60dd",
   "metadata": {},
   "outputs": [],
   "source": []
  }
 ],
 "metadata": {
  "kernelspec": {
   "display_name": "Python 3 (ipykernel)",
   "language": "python",
   "name": "python3"
  },
  "language_info": {
   "codemirror_mode": {
    "name": "ipython",
    "version": 3
   },
   "file_extension": ".py",
   "mimetype": "text/x-python",
   "name": "python",
   "nbconvert_exporter": "python",
   "pygments_lexer": "ipython3",
   "version": "3.7.11"
  }
 },
 "nbformat": 4,
 "nbformat_minor": 5
}
