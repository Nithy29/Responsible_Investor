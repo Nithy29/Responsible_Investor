{
 "cells": [
  {
   "cell_type": "code",
   "execution_count": 14,
   "id": "6564083e",
   "metadata": {},
   "outputs": [],
   "source": [
    "# Initial imports\n",
    "import os                                               #os interface library \n",
    "import requests                                         #HTTP requests library\n",
    "import pandas as pd                                     #panda library\n",
    "from dotenv import load_dotenv                          #dotenv library to read keys and secrect key for api\n",
    "import alpaca_trade_api as trade_api                     #Alpaca library\n",
    "#from alpaca_trade_api.rest import REST, TimeFrame       #Alpaca trading library\n",
    "from MCForecastTools import MCSimulation                #Monta Carlos simulation apis\n",
    "import json                                             #JSON library ro work with JSON objects\n",
    "from datetime import date                               #Data-Time library\n",
    "\n",
    "#set the backend of matplotlib to the 'inline' backend \n",
    "%matplotlib inline "
   ]
  },
  {
   "cell_type": "code",
   "execution_count": 7,
   "id": "2ac044b2",
   "metadata": {},
   "outputs": [
    {
     "data": {
      "text/plain": [
       "True"
      ]
     },
     "execution_count": 7,
     "metadata": {},
     "output_type": "execute_result"
    }
   ],
   "source": [
    "# Load .env enviroment variables\n",
    "load_dotenv()"
   ]
  },
  {
   "cell_type": "code",
   "execution_count": 12,
   "id": "3e385c90",
   "metadata": {},
   "outputs": [],
   "source": [
    "# Set Alpaca API key and secret\n",
    "alpaca_api_key=os.getenv(\"ALPACA_API_KEY\")\n",
    "alpaca_secret_key=os.getenv(\"ALPACA_SECRET_KEY\")\n",
    "\n",
    "# Create the Alpaca API object\n",
    "alpaca = tradeapi.REST(alpaca_api_key, alpaca_secret_key, api_version='v2')"
   ]
  },
  {
   "cell_type": "code",
   "execution_count": 15,
   "id": "31d167be",
   "metadata": {},
   "outputs": [],
   "source": [
    "alpaca = trade_api.REST(alpaca_api_key, alpaca_secret_key, api_version='v2')"
   ]
  },
  {
   "cell_type": "code",
   "execution_count": 38,
   "id": "16cbde85",
   "metadata": {},
   "outputs": [
    {
     "data": {
      "text/plain": [
       "3437"
      ]
     },
     "execution_count": 38,
     "metadata": {},
     "output_type": "execute_result"
    }
   ],
   "source": [
    "# Format current date as ISO format\n",
    "#today = pd.Timestamp(date.today(), tz=\"America/New_York\").isoformat()\n",
    "today =  pd.Timestamp(\"2020-05-01\", tz=\"America/New_York\").isoformat()    \n",
    "\n",
    "# Set the tickers\n",
    "tickes=['DD', 'LYB', 'WLK', 'RPM', 'AXTA', 'ASH', 'NEU']\n",
    "\n",
    "# Set timeframe to '1D' for Alpaca API\n",
    "timeframe = \"1Day\"\n",
    "\n",
    "# Get current closing prices for SPY and AGG\n",
    "portfolio = alpaca.get_bars(tickes, timeframe, start=today,  adjustment='raw').df"
   ]
  },
  {
   "cell_type": "code",
   "execution_count": null,
   "id": "2a8dfcd9",
   "metadata": {},
   "outputs": [],
   "source": [
    "#separate ticker data\n",
    "DD = portfolio[portfolio[\"symbol\"]==\"DD\"].drop(\"symbol\", axis=1)\n",
    "LYB = portfolio[portfolio[\"symbol\"]==\"LYB\"].drop(\"symbol\", axis=1)\n",
    "WLK = portfolio[portfolio[\"symbol\"]==\"WLK\"].drop(\"symbol\", axis=1)\n",
    "RPM = portfolio[portfolio[\"symbol\"]==\"RPM\"].drop(\"symbol\", axis=1)\n",
    "AXTA = portfolio[portfolio[\"symbol\"]==\"AXTA\"].drop(\"symbol\", axis=1)\n",
    "ASH = portfolio[portfolio[\"symbol\"]==\"ASH\"].drop(\"symbol\", axis=1)\n",
    "NEU = portfolio[portfolio[\"symbol\"]==\"NEU\"].drop(\"symbol\", axis=1)\n"
   ]
  }
 ],
 "metadata": {
  "kernelspec": {
   "display_name": "Python [conda env:pyvizenv] *",
   "language": "python",
   "name": "conda-env-pyvizenv-py"
  },
  "language_info": {
   "codemirror_mode": {
    "name": "ipython",
    "version": 3
   },
   "file_extension": ".py",
   "mimetype": "text/x-python",
   "name": "python",
   "nbconvert_exporter": "python",
   "pygments_lexer": "ipython3",
   "version": "3.7.11"
  }
 },
 "nbformat": 4,
 "nbformat_minor": 5
}
