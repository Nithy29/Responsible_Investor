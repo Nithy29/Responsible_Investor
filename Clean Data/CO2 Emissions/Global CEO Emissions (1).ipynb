{
 "cells": [
  {
   "cell_type": "code",
   "execution_count": 61,
   "id": "20d2477b",
   "metadata": {},
   "outputs": [
    {
     "name": "stderr",
     "output_type": "stream",
     "text": [
      "WARNING:param.panel_extension: A HoloViz extension was loaded previously. This means the extension is already initialized and the following Panel extensions could not be properly loaded: ['plotly']. If you are loading custom extensions with pn.extension(...) ensure that this is called before any other HoloViz extension such as hvPlot or HoloViews.\n"
     ]
    }
   ],
   "source": [
    "#Initial imports\n",
    "import pandas as pd\n",
    "import numpy as np\n",
    "import datetime as dt\n",
    "from pathlib import Path\n",
    "import plotly.express as px\n",
    "import hvplot.pandas\n",
    "import panel as pn\n",
    "from panel.interact import interact\n",
    "pn.extension(\"plotly\")\n",
    "\n",
    "%matplotlib inline"
   ]
  },
  {
   "cell_type": "code",
   "execution_count": 62,
   "id": "ad317a58",
   "metadata": {},
   "outputs": [
    {
     "data": {
      "text/html": [
       "<div>\n",
       "<style scoped>\n",
       "    .dataframe tbody tr th:only-of-type {\n",
       "        vertical-align: middle;\n",
       "    }\n",
       "\n",
       "    .dataframe tbody tr th {\n",
       "        vertical-align: top;\n",
       "    }\n",
       "\n",
       "    .dataframe thead th {\n",
       "        text-align: right;\n",
       "    }\n",
       "</style>\n",
       "<table border=\"1\" class=\"dataframe\">\n",
       "  <thead>\n",
       "    <tr style=\"text-align: right;\">\n",
       "      <th></th>\n",
       "      <th>Total</th>\n",
       "    </tr>\n",
       "    <tr>\n",
       "      <th>Year</th>\n",
       "      <th></th>\n",
       "    </tr>\n",
       "  </thead>\n",
       "  <tbody>\n",
       "    <tr>\n",
       "      <th>1750-01-01</th>\n",
       "      <td>9.350528</td>\n",
       "    </tr>\n",
       "    <tr>\n",
       "      <th>1751-01-01</th>\n",
       "      <td>9.350528</td>\n",
       "    </tr>\n",
       "    <tr>\n",
       "      <th>1752-01-01</th>\n",
       "      <td>9.354192</td>\n",
       "    </tr>\n",
       "    <tr>\n",
       "      <th>1753-01-01</th>\n",
       "      <td>9.354192</td>\n",
       "    </tr>\n",
       "    <tr>\n",
       "      <th>1754-01-01</th>\n",
       "      <td>9.357856</td>\n",
       "    </tr>\n",
       "    <tr>\n",
       "      <th>...</th>\n",
       "      <td>...</td>\n",
       "    </tr>\n",
       "    <tr>\n",
       "      <th>2016-01-01</th>\n",
       "      <td>35452.459300</td>\n",
       "    </tr>\n",
       "    <tr>\n",
       "      <th>2017-01-01</th>\n",
       "      <td>35925.737690</td>\n",
       "    </tr>\n",
       "    <tr>\n",
       "      <th>2018-01-01</th>\n",
       "      <td>36646.139790</td>\n",
       "    </tr>\n",
       "    <tr>\n",
       "      <th>2019-01-01</th>\n",
       "      <td>36702.502900</td>\n",
       "    </tr>\n",
       "    <tr>\n",
       "      <th>2020-01-01</th>\n",
       "      <td>34807.259100</td>\n",
       "    </tr>\n",
       "  </tbody>\n",
       "</table>\n",
       "<p>271 rows × 1 columns</p>\n",
       "</div>"
      ],
      "text/plain": [
       "                   Total\n",
       "Year                    \n",
       "1750-01-01      9.350528\n",
       "1751-01-01      9.350528\n",
       "1752-01-01      9.354192\n",
       "1753-01-01      9.354192\n",
       "1754-01-01      9.357856\n",
       "...                  ...\n",
       "2016-01-01  35452.459300\n",
       "2017-01-01  35925.737690\n",
       "2018-01-01  36646.139790\n",
       "2019-01-01  36702.502900\n",
       "2020-01-01  34807.259100\n",
       "\n",
       "[271 rows x 1 columns]"
      ]
     },
     "execution_count": 62,
     "metadata": {},
     "output_type": "execute_result"
    }
   ],
   "source": [
    "# Reading CO2 Global Data\n",
    "co2_global_csv = Path(\"co2_global_data.csv\")\n",
    "co2_global = pd.read_csv(co2_global_csv,index_col='Year', parse_dates=True, usecols=['Year', 'Total CO2'])\n",
    "co2_global"
   ]
  },
  {
   "cell_type": "code",
   "execution_count": 63,
   "id": "ac846172",
   "metadata": {},
   "outputs": [
    {
     "data": {
      "application/vnd.plotly.v1+json": {
       "config": {
        "plotlyServerURL": "https://plot.ly"
       },
       "data": [
        {
         "alignmentgroup": "True",
         "hovertemplate": "Year=%{x}<br>Total=%{y}<extra></extra>",
         "legendgroup": "",
         "marker": {
          "color": "#636efa",
          "pattern": {
           "shape": ""
          }
         },
         "name": "",
         "offsetgroup": "",
         "orientation": "v",
         "showlegend": false,
         "textposition": "auto",
         "type": "bar",
         "x": [
          "1750-01-01T00:00:00",
          "1751-01-01T00:00:00",
          "1752-01-01T00:00:00",
          "1753-01-01T00:00:00",
          "1754-01-01T00:00:00",
          "1755-01-01T00:00:00",
          "1756-01-01T00:00:00",
          "1757-01-01T00:00:00",
          "1758-01-01T00:00:00",
          "1759-01-01T00:00:00",
          "1760-01-01T00:00:00",
          "1761-01-01T00:00:00",
          "1762-01-01T00:00:00",
          "1763-01-01T00:00:00",
          "1764-01-01T00:00:00",
          "1765-01-01T00:00:00",
          "1766-01-01T00:00:00",
          "1767-01-01T00:00:00",
          "1768-01-01T00:00:00",
          "1769-01-01T00:00:00",
          "1770-01-01T00:00:00",
          "1771-01-01T00:00:00",
          "1772-01-01T00:00:00",
          "1773-01-01T00:00:00",
          "1774-01-01T00:00:00",
          "1775-01-01T00:00:00",
          "1776-01-01T00:00:00",
          "1777-01-01T00:00:00",
          "1778-01-01T00:00:00",
          "1779-01-01T00:00:00",
          "1780-01-01T00:00:00",
          "1781-01-01T00:00:00",
          "1782-01-01T00:00:00",
          "1783-01-01T00:00:00",
          "1784-01-01T00:00:00",
          "1785-01-01T00:00:00",
          "1786-01-01T00:00:00",
          "1787-01-01T00:00:00",
          "1788-01-01T00:00:00",
          "1789-01-01T00:00:00",
          "1790-01-01T00:00:00",
          "1791-01-01T00:00:00",
          "1792-01-01T00:00:00",
          "1793-01-01T00:00:00",
          "1794-01-01T00:00:00",
          "1795-01-01T00:00:00",
          "1796-01-01T00:00:00",
          "1797-01-01T00:00:00",
          "1798-01-01T00:00:00",
          "1799-01-01T00:00:00",
          "1800-01-01T00:00:00",
          "1801-01-01T00:00:00",
          "1802-01-01T00:00:00",
          "1803-01-01T00:00:00",
          "1804-01-01T00:00:00",
          "1805-01-01T00:00:00",
          "1806-01-01T00:00:00",
          "1807-01-01T00:00:00",
          "1808-01-01T00:00:00",
          "1809-01-01T00:00:00",
          "1810-01-01T00:00:00",
          "1811-01-01T00:00:00",
          "1812-01-01T00:00:00",
          "1813-01-01T00:00:00",
          "1814-01-01T00:00:00",
          "1815-01-01T00:00:00",
          "1816-01-01T00:00:00",
          "1817-01-01T00:00:00",
          "1818-01-01T00:00:00",
          "1819-01-01T00:00:00",
          "1820-01-01T00:00:00",
          "1821-01-01T00:00:00",
          "1822-01-01T00:00:00",
          "1823-01-01T00:00:00",
          "1824-01-01T00:00:00",
          "1825-01-01T00:00:00",
          "1826-01-01T00:00:00",
          "1827-01-01T00:00:00",
          "1828-01-01T00:00:00",
          "1829-01-01T00:00:00",
          "1830-01-01T00:00:00",
          "1831-01-01T00:00:00",
          "1832-01-01T00:00:00",
          "1833-01-01T00:00:00",
          "1834-01-01T00:00:00",
          "1835-01-01T00:00:00",
          "1836-01-01T00:00:00",
          "1837-01-01T00:00:00",
          "1838-01-01T00:00:00",
          "1839-01-01T00:00:00",
          "1840-01-01T00:00:00",
          "1841-01-01T00:00:00",
          "1842-01-01T00:00:00",
          "1843-01-01T00:00:00",
          "1844-01-01T00:00:00",
          "1845-01-01T00:00:00",
          "1846-01-01T00:00:00",
          "1847-01-01T00:00:00",
          "1848-01-01T00:00:00",
          "1849-01-01T00:00:00",
          "1850-01-01T00:00:00",
          "1851-01-01T00:00:00",
          "1852-01-01T00:00:00",
          "1853-01-01T00:00:00",
          "1854-01-01T00:00:00",
          "1855-01-01T00:00:00",
          "1856-01-01T00:00:00",
          "1857-01-01T00:00:00",
          "1858-01-01T00:00:00",
          "1859-01-01T00:00:00",
          "1860-01-01T00:00:00",
          "1861-01-01T00:00:00",
          "1862-01-01T00:00:00",
          "1863-01-01T00:00:00",
          "1864-01-01T00:00:00",
          "1865-01-01T00:00:00",
          "1866-01-01T00:00:00",
          "1867-01-01T00:00:00",
          "1868-01-01T00:00:00",
          "1869-01-01T00:00:00",
          "1870-01-01T00:00:00",
          "1871-01-01T00:00:00",
          "1872-01-01T00:00:00",
          "1873-01-01T00:00:00",
          "1874-01-01T00:00:00",
          "1875-01-01T00:00:00",
          "1876-01-01T00:00:00",
          "1877-01-01T00:00:00",
          "1878-01-01T00:00:00",
          "1879-01-01T00:00:00",
          "1880-01-01T00:00:00",
          "1881-01-01T00:00:00",
          "1882-01-01T00:00:00",
          "1883-01-01T00:00:00",
          "1884-01-01T00:00:00",
          "1885-01-01T00:00:00",
          "1886-01-01T00:00:00",
          "1887-01-01T00:00:00",
          "1888-01-01T00:00:00",
          "1889-01-01T00:00:00",
          "1890-01-01T00:00:00",
          "1891-01-01T00:00:00",
          "1892-01-01T00:00:00",
          "1893-01-01T00:00:00",
          "1894-01-01T00:00:00",
          "1895-01-01T00:00:00",
          "1896-01-01T00:00:00",
          "1897-01-01T00:00:00",
          "1898-01-01T00:00:00",
          "1899-01-01T00:00:00",
          "1900-01-01T00:00:00",
          "1901-01-01T00:00:00",
          "1902-01-01T00:00:00",
          "1903-01-01T00:00:00",
          "1904-01-01T00:00:00",
          "1905-01-01T00:00:00",
          "1906-01-01T00:00:00",
          "1907-01-01T00:00:00",
          "1908-01-01T00:00:00",
          "1909-01-01T00:00:00",
          "1910-01-01T00:00:00",
          "1911-01-01T00:00:00",
          "1912-01-01T00:00:00",
          "1913-01-01T00:00:00",
          "1914-01-01T00:00:00",
          "1915-01-01T00:00:00",
          "1916-01-01T00:00:00",
          "1917-01-01T00:00:00",
          "1918-01-01T00:00:00",
          "1919-01-01T00:00:00",
          "1920-01-01T00:00:00",
          "1921-01-01T00:00:00",
          "1922-01-01T00:00:00",
          "1923-01-01T00:00:00",
          "1924-01-01T00:00:00",
          "1925-01-01T00:00:00",
          "1926-01-01T00:00:00",
          "1927-01-01T00:00:00",
          "1928-01-01T00:00:00",
          "1929-01-01T00:00:00",
          "1930-01-01T00:00:00",
          "1931-01-01T00:00:00",
          "1932-01-01T00:00:00",
          "1933-01-01T00:00:00",
          "1934-01-01T00:00:00",
          "1935-01-01T00:00:00",
          "1936-01-01T00:00:00",
          "1937-01-01T00:00:00",
          "1938-01-01T00:00:00",
          "1939-01-01T00:00:00",
          "1940-01-01T00:00:00",
          "1941-01-01T00:00:00",
          "1942-01-01T00:00:00",
          "1943-01-01T00:00:00",
          "1944-01-01T00:00:00",
          "1945-01-01T00:00:00",
          "1946-01-01T00:00:00",
          "1947-01-01T00:00:00",
          "1948-01-01T00:00:00",
          "1949-01-01T00:00:00",
          "1950-01-01T00:00:00",
          "1951-01-01T00:00:00",
          "1952-01-01T00:00:00",
          "1953-01-01T00:00:00",
          "1954-01-01T00:00:00",
          "1955-01-01T00:00:00",
          "1956-01-01T00:00:00",
          "1957-01-01T00:00:00",
          "1958-01-01T00:00:00",
          "1959-01-01T00:00:00",
          "1960-01-01T00:00:00",
          "1961-01-01T00:00:00",
          "1962-01-01T00:00:00",
          "1963-01-01T00:00:00",
          "1964-01-01T00:00:00",
          "1965-01-01T00:00:00",
          "1966-01-01T00:00:00",
          "1967-01-01T00:00:00",
          "1968-01-01T00:00:00",
          "1969-01-01T00:00:00",
          "1970-01-01T00:00:00",
          "1971-01-01T00:00:00",
          "1972-01-01T00:00:00",
          "1973-01-01T00:00:00",
          "1974-01-01T00:00:00",
          "1975-01-01T00:00:00",
          "1976-01-01T00:00:00",
          "1977-01-01T00:00:00",
          "1978-01-01T00:00:00",
          "1979-01-01T00:00:00",
          "1980-01-01T00:00:00",
          "1981-01-01T00:00:00",
          "1982-01-01T00:00:00",
          "1983-01-01T00:00:00",
          "1984-01-01T00:00:00",
          "1985-01-01T00:00:00",
          "1986-01-01T00:00:00",
          "1987-01-01T00:00:00",
          "1988-01-01T00:00:00",
          "1989-01-01T00:00:00",
          "1990-01-01T00:00:00",
          "1991-01-01T00:00:00",
          "1992-01-01T00:00:00",
          "1993-01-01T00:00:00",
          "1994-01-01T00:00:00",
          "1995-01-01T00:00:00",
          "1996-01-01T00:00:00",
          "1997-01-01T00:00:00",
          "1998-01-01T00:00:00",
          "1999-01-01T00:00:00",
          "2000-01-01T00:00:00",
          "2001-01-01T00:00:00",
          "2002-01-01T00:00:00",
          "2003-01-01T00:00:00",
          "2004-01-01T00:00:00",
          "2005-01-01T00:00:00",
          "2006-01-01T00:00:00",
          "2007-01-01T00:00:00",
          "2008-01-01T00:00:00",
          "2009-01-01T00:00:00",
          "2010-01-01T00:00:00",
          "2011-01-01T00:00:00",
          "2012-01-01T00:00:00",
          "2013-01-01T00:00:00",
          "2014-01-01T00:00:00",
          "2015-01-01T00:00:00",
          "2016-01-01T00:00:00",
          "2017-01-01T00:00:00",
          "2018-01-01T00:00:00",
          "2019-01-01T00:00:00",
          "2020-01-01T00:00:00"
         ],
         "xaxis": "x",
         "y": [
          9.350528,
          9.350528,
          9.354192,
          9.354192,
          9.357856,
          9.36152,
          10.006384,
          10.010048,
          10.013712,
          10.017376,
          10.017376,
          10.97368,
          10.977344,
          10.981008,
          10.984672,
          10.988336,
          12.259744,
          12.263408,
          12.267072,
          12.270736,
          12.2744,
          13.61176,
          13.615424,
          13.619088,
          13.622752,
          13.626416,
          15.037056,
          15.04072,
          15.044384,
          15.048048,
          15.055376,
          16.843408,
          16.847072,
          16.8544,
          16.858064,
          16.869056,
          19.151728,
          19.159056,
          19.16272,
          19.170048,
          19.177376,
          21.419744,
          21.896064,
          21.914384,
          21.881408,
          21.8924,
          22.951296,
          24.094464,
          25.094736,
          26.428432,
          28.091888,
          27.959984,
          36.782896,
          31.488416,
          34.309696,
          33.419344,
          35.04616,
          36.874496,
          35.06448,
          35.090128,
          37.380128,
          39.582192,
          41.007488,
          41.22,
          42.128672,
          43.488016,
          47.664976,
          49.431024,
          49.643536,
          49.947648,
          50.687776,
          51.435232,
          53.465088,
          56.550176,
          58.525072,
          60.756448,
          61.419632,
          65.91536,
          66.637168,
          66.395344,
          89.123136,
          84.52848,
          85.111056,
          86.807488,
          88.4856,
          90.44584,
          104.775744,
          104.691472,
          108.044032,
          111.612768,
          118.929776,
          122.619424,
          129.50408,
          132.852976,
          141.423072,
          155.210704,
          157.793824,
          172.402192,
          173.816496,
          183.51144,
          196.896032,
          198.804976,
          207.550944,
          217.209248,
          255.138976,
          260.165984,
          277.29152,
          279.889296,
          284.17185,
          301.312559,
          330.642191,
          347.735242,
          354.057462,
          377.859938,
          407.091108,
          432.307789,
          445.970599,
          477.814912,
          490.752496,
          521.13072,
          532.536752,
          566.14296,
          626.371792,
          665.41904,
          622.997248,
          675.799152,
          685.55272,
          699.098528,
          704.381729,
          754.869509,
          853.707188,
          882.407475,
          931.92471,
          991.035684,
          1002.177745,
          1009.674571,
          1025.478884,
          1076.761678,
          1192.27607,
          1191.804432,
          1298.463581,
          1358.87969,
          1370.094534,
          1353.675035,
          1400.864597,
          1485.281339,
          1533.711001,
          1606.31064,
          1694.277167,
          1850.905966,
          1952.224654,
          2016.760928,
          2067.797613,
          2256.07725,
          2281.857535,
          2429.631367,
          2551.869513,
          2885.281242,
          2776.431591,
          2887.083061,
          3027.588864,
          3082.462274,
          3228.332151,
          3492.411249,
          3168.341359,
          3125.088543,
          3373.154069,
          3527.725678,
          3479.185579,
          3014.874203,
          3507.597636,
          3076.038222,
          3226.445037,
          3661.080742,
          3672.399351,
          3712.867713,
          3645.190242,
          3981.432883,
          3962.552527,
          4255.150726,
          3923.058343,
          3505.272053,
          3159.133411,
          3326.453782,
          3617.657544,
          3796.088336,
          4170.573685,
          4458.901333,
          4195.242758,
          4438.143987,
          4849.926545,
          4959.186226,
          4939.724859,
          5023.25064,
          5105.436673,
          4244.738093,
          4633.477283,
          5130.185429,
          5401.115478,
          5243.102933,
          6003.238189,
          6379.755941,
          6465.694232,
          6647.727815,
          6789.936494,
          7443.207067,
          7924.210548,
          8185.52397,
          8417.600054,
          8856.188671,
          9386.933671,
          9417.462637,
          9750.056664,
          10271.52439,
          10828.85757,
          11317.23292,
          11865.8614,
          12243.04554,
          12909.91252,
          13766.57065,
          14897.56709,
          15498.26668,
          16221.15227,
          17078.7921,
          17009.59441,
          17046.49722,
          17983.97285,
          18494.53082,
          19067.76718,
          19610.01773,
          19492.61352,
          19026.91018,
          18875.76028,
          18998.03156,
          19656.71687,
          20317.48352,
          20619.62366,
          21266.19453,
          22101.39949,
          22406.83252,
          22749.57436,
          23238.10215,
          22569.62428,
          22803.49535,
          22964.58336,
          23453.94445,
          24154.96121,
          24300.55043,
          24206.27127,
          24518.96229,
          25234.20725,
          25451.0545,
          26039.19148,
          27366.72329,
          28627.53303,
          29602.7772,
          30583.53008,
          31493.74159,
          32069.44401,
          31607.04241,
          33343.30045,
          34468.45105,
          34974.07515,
          35283.02544,
          35534.44295,
          35496.40634,
          35452.4593,
          35925.73769,
          36646.13979,
          36702.5029,
          34807.2591
         ],
         "yaxis": "y"
        }
       ],
       "layout": {
        "barmode": "relative",
        "height": 800,
        "legend": {
         "tracegroupgap": 0
        },
        "template": {
         "data": {
          "bar": [
           {
            "error_x": {
             "color": "#2a3f5f"
            },
            "error_y": {
             "color": "#2a3f5f"
            },
            "marker": {
             "line": {
              "color": "#E5ECF6",
              "width": 0.5
             },
             "pattern": {
              "fillmode": "overlay",
              "size": 10,
              "solidity": 0.2
             }
            },
            "type": "bar"
           }
          ],
          "barpolar": [
           {
            "marker": {
             "line": {
              "color": "#E5ECF6",
              "width": 0.5
             },
             "pattern": {
              "fillmode": "overlay",
              "size": 10,
              "solidity": 0.2
             }
            },
            "type": "barpolar"
           }
          ],
          "carpet": [
           {
            "aaxis": {
             "endlinecolor": "#2a3f5f",
             "gridcolor": "white",
             "linecolor": "white",
             "minorgridcolor": "white",
             "startlinecolor": "#2a3f5f"
            },
            "baxis": {
             "endlinecolor": "#2a3f5f",
             "gridcolor": "white",
             "linecolor": "white",
             "minorgridcolor": "white",
             "startlinecolor": "#2a3f5f"
            },
            "type": "carpet"
           }
          ],
          "choropleth": [
           {
            "colorbar": {
             "outlinewidth": 0,
             "ticks": ""
            },
            "type": "choropleth"
           }
          ],
          "contour": [
           {
            "colorbar": {
             "outlinewidth": 0,
             "ticks": ""
            },
            "colorscale": [
             [
              0,
              "#0d0887"
             ],
             [
              0.1111111111111111,
              "#46039f"
             ],
             [
              0.2222222222222222,
              "#7201a8"
             ],
             [
              0.3333333333333333,
              "#9c179e"
             ],
             [
              0.4444444444444444,
              "#bd3786"
             ],
             [
              0.5555555555555556,
              "#d8576b"
             ],
             [
              0.6666666666666666,
              "#ed7953"
             ],
             [
              0.7777777777777778,
              "#fb9f3a"
             ],
             [
              0.8888888888888888,
              "#fdca26"
             ],
             [
              1,
              "#f0f921"
             ]
            ],
            "type": "contour"
           }
          ],
          "contourcarpet": [
           {
            "colorbar": {
             "outlinewidth": 0,
             "ticks": ""
            },
            "type": "contourcarpet"
           }
          ],
          "heatmap": [
           {
            "colorbar": {
             "outlinewidth": 0,
             "ticks": ""
            },
            "colorscale": [
             [
              0,
              "#0d0887"
             ],
             [
              0.1111111111111111,
              "#46039f"
             ],
             [
              0.2222222222222222,
              "#7201a8"
             ],
             [
              0.3333333333333333,
              "#9c179e"
             ],
             [
              0.4444444444444444,
              "#bd3786"
             ],
             [
              0.5555555555555556,
              "#d8576b"
             ],
             [
              0.6666666666666666,
              "#ed7953"
             ],
             [
              0.7777777777777778,
              "#fb9f3a"
             ],
             [
              0.8888888888888888,
              "#fdca26"
             ],
             [
              1,
              "#f0f921"
             ]
            ],
            "type": "heatmap"
           }
          ],
          "heatmapgl": [
           {
            "colorbar": {
             "outlinewidth": 0,
             "ticks": ""
            },
            "colorscale": [
             [
              0,
              "#0d0887"
             ],
             [
              0.1111111111111111,
              "#46039f"
             ],
             [
              0.2222222222222222,
              "#7201a8"
             ],
             [
              0.3333333333333333,
              "#9c179e"
             ],
             [
              0.4444444444444444,
              "#bd3786"
             ],
             [
              0.5555555555555556,
              "#d8576b"
             ],
             [
              0.6666666666666666,
              "#ed7953"
             ],
             [
              0.7777777777777778,
              "#fb9f3a"
             ],
             [
              0.8888888888888888,
              "#fdca26"
             ],
             [
              1,
              "#f0f921"
             ]
            ],
            "type": "heatmapgl"
           }
          ],
          "histogram": [
           {
            "marker": {
             "pattern": {
              "fillmode": "overlay",
              "size": 10,
              "solidity": 0.2
             }
            },
            "type": "histogram"
           }
          ],
          "histogram2d": [
           {
            "colorbar": {
             "outlinewidth": 0,
             "ticks": ""
            },
            "colorscale": [
             [
              0,
              "#0d0887"
             ],
             [
              0.1111111111111111,
              "#46039f"
             ],
             [
              0.2222222222222222,
              "#7201a8"
             ],
             [
              0.3333333333333333,
              "#9c179e"
             ],
             [
              0.4444444444444444,
              "#bd3786"
             ],
             [
              0.5555555555555556,
              "#d8576b"
             ],
             [
              0.6666666666666666,
              "#ed7953"
             ],
             [
              0.7777777777777778,
              "#fb9f3a"
             ],
             [
              0.8888888888888888,
              "#fdca26"
             ],
             [
              1,
              "#f0f921"
             ]
            ],
            "type": "histogram2d"
           }
          ],
          "histogram2dcontour": [
           {
            "colorbar": {
             "outlinewidth": 0,
             "ticks": ""
            },
            "colorscale": [
             [
              0,
              "#0d0887"
             ],
             [
              0.1111111111111111,
              "#46039f"
             ],
             [
              0.2222222222222222,
              "#7201a8"
             ],
             [
              0.3333333333333333,
              "#9c179e"
             ],
             [
              0.4444444444444444,
              "#bd3786"
             ],
             [
              0.5555555555555556,
              "#d8576b"
             ],
             [
              0.6666666666666666,
              "#ed7953"
             ],
             [
              0.7777777777777778,
              "#fb9f3a"
             ],
             [
              0.8888888888888888,
              "#fdca26"
             ],
             [
              1,
              "#f0f921"
             ]
            ],
            "type": "histogram2dcontour"
           }
          ],
          "mesh3d": [
           {
            "colorbar": {
             "outlinewidth": 0,
             "ticks": ""
            },
            "type": "mesh3d"
           }
          ],
          "parcoords": [
           {
            "line": {
             "colorbar": {
              "outlinewidth": 0,
              "ticks": ""
             }
            },
            "type": "parcoords"
           }
          ],
          "pie": [
           {
            "automargin": true,
            "type": "pie"
           }
          ],
          "scatter": [
           {
            "marker": {
             "colorbar": {
              "outlinewidth": 0,
              "ticks": ""
             }
            },
            "type": "scatter"
           }
          ],
          "scatter3d": [
           {
            "line": {
             "colorbar": {
              "outlinewidth": 0,
              "ticks": ""
             }
            },
            "marker": {
             "colorbar": {
              "outlinewidth": 0,
              "ticks": ""
             }
            },
            "type": "scatter3d"
           }
          ],
          "scattercarpet": [
           {
            "marker": {
             "colorbar": {
              "outlinewidth": 0,
              "ticks": ""
             }
            },
            "type": "scattercarpet"
           }
          ],
          "scattergeo": [
           {
            "marker": {
             "colorbar": {
              "outlinewidth": 0,
              "ticks": ""
             }
            },
            "type": "scattergeo"
           }
          ],
          "scattergl": [
           {
            "marker": {
             "colorbar": {
              "outlinewidth": 0,
              "ticks": ""
             }
            },
            "type": "scattergl"
           }
          ],
          "scattermapbox": [
           {
            "marker": {
             "colorbar": {
              "outlinewidth": 0,
              "ticks": ""
             }
            },
            "type": "scattermapbox"
           }
          ],
          "scatterpolar": [
           {
            "marker": {
             "colorbar": {
              "outlinewidth": 0,
              "ticks": ""
             }
            },
            "type": "scatterpolar"
           }
          ],
          "scatterpolargl": [
           {
            "marker": {
             "colorbar": {
              "outlinewidth": 0,
              "ticks": ""
             }
            },
            "type": "scatterpolargl"
           }
          ],
          "scatterternary": [
           {
            "marker": {
             "colorbar": {
              "outlinewidth": 0,
              "ticks": ""
             }
            },
            "type": "scatterternary"
           }
          ],
          "surface": [
           {
            "colorbar": {
             "outlinewidth": 0,
             "ticks": ""
            },
            "colorscale": [
             [
              0,
              "#0d0887"
             ],
             [
              0.1111111111111111,
              "#46039f"
             ],
             [
              0.2222222222222222,
              "#7201a8"
             ],
             [
              0.3333333333333333,
              "#9c179e"
             ],
             [
              0.4444444444444444,
              "#bd3786"
             ],
             [
              0.5555555555555556,
              "#d8576b"
             ],
             [
              0.6666666666666666,
              "#ed7953"
             ],
             [
              0.7777777777777778,
              "#fb9f3a"
             ],
             [
              0.8888888888888888,
              "#fdca26"
             ],
             [
              1,
              "#f0f921"
             ]
            ],
            "type": "surface"
           }
          ],
          "table": [
           {
            "cells": {
             "fill": {
              "color": "#EBF0F8"
             },
             "line": {
              "color": "white"
             }
            },
            "header": {
             "fill": {
              "color": "#C8D4E3"
             },
             "line": {
              "color": "white"
             }
            },
            "type": "table"
           }
          ]
         },
         "layout": {
          "annotationdefaults": {
           "arrowcolor": "#2a3f5f",
           "arrowhead": 0,
           "arrowwidth": 1
          },
          "autotypenumbers": "strict",
          "coloraxis": {
           "colorbar": {
            "outlinewidth": 0,
            "ticks": ""
           }
          },
          "colorscale": {
           "diverging": [
            [
             0,
             "#8e0152"
            ],
            [
             0.1,
             "#c51b7d"
            ],
            [
             0.2,
             "#de77ae"
            ],
            [
             0.3,
             "#f1b6da"
            ],
            [
             0.4,
             "#fde0ef"
            ],
            [
             0.5,
             "#f7f7f7"
            ],
            [
             0.6,
             "#e6f5d0"
            ],
            [
             0.7,
             "#b8e186"
            ],
            [
             0.8,
             "#7fbc41"
            ],
            [
             0.9,
             "#4d9221"
            ],
            [
             1,
             "#276419"
            ]
           ],
           "sequential": [
            [
             0,
             "#0d0887"
            ],
            [
             0.1111111111111111,
             "#46039f"
            ],
            [
             0.2222222222222222,
             "#7201a8"
            ],
            [
             0.3333333333333333,
             "#9c179e"
            ],
            [
             0.4444444444444444,
             "#bd3786"
            ],
            [
             0.5555555555555556,
             "#d8576b"
            ],
            [
             0.6666666666666666,
             "#ed7953"
            ],
            [
             0.7777777777777778,
             "#fb9f3a"
            ],
            [
             0.8888888888888888,
             "#fdca26"
            ],
            [
             1,
             "#f0f921"
            ]
           ],
           "sequentialminus": [
            [
             0,
             "#0d0887"
            ],
            [
             0.1111111111111111,
             "#46039f"
            ],
            [
             0.2222222222222222,
             "#7201a8"
            ],
            [
             0.3333333333333333,
             "#9c179e"
            ],
            [
             0.4444444444444444,
             "#bd3786"
            ],
            [
             0.5555555555555556,
             "#d8576b"
            ],
            [
             0.6666666666666666,
             "#ed7953"
            ],
            [
             0.7777777777777778,
             "#fb9f3a"
            ],
            [
             0.8888888888888888,
             "#fdca26"
            ],
            [
             1,
             "#f0f921"
            ]
           ]
          },
          "colorway": [
           "#636efa",
           "#EF553B",
           "#00cc96",
           "#ab63fa",
           "#FFA15A",
           "#19d3f3",
           "#FF6692",
           "#B6E880",
           "#FF97FF",
           "#FECB52"
          ],
          "font": {
           "color": "#2a3f5f"
          },
          "geo": {
           "bgcolor": "white",
           "lakecolor": "white",
           "landcolor": "#E5ECF6",
           "showlakes": true,
           "showland": true,
           "subunitcolor": "white"
          },
          "hoverlabel": {
           "align": "left"
          },
          "hovermode": "closest",
          "mapbox": {
           "style": "light"
          },
          "paper_bgcolor": "white",
          "plot_bgcolor": "#E5ECF6",
          "polar": {
           "angularaxis": {
            "gridcolor": "white",
            "linecolor": "white",
            "ticks": ""
           },
           "bgcolor": "#E5ECF6",
           "radialaxis": {
            "gridcolor": "white",
            "linecolor": "white",
            "ticks": ""
           }
          },
          "scene": {
           "xaxis": {
            "backgroundcolor": "#E5ECF6",
            "gridcolor": "white",
            "gridwidth": 2,
            "linecolor": "white",
            "showbackground": true,
            "ticks": "",
            "zerolinecolor": "white"
           },
           "yaxis": {
            "backgroundcolor": "#E5ECF6",
            "gridcolor": "white",
            "gridwidth": 2,
            "linecolor": "white",
            "showbackground": true,
            "ticks": "",
            "zerolinecolor": "white"
           },
           "zaxis": {
            "backgroundcolor": "#E5ECF6",
            "gridcolor": "white",
            "gridwidth": 2,
            "linecolor": "white",
            "showbackground": true,
            "ticks": "",
            "zerolinecolor": "white"
           }
          },
          "shapedefaults": {
           "line": {
            "color": "#2a3f5f"
           }
          },
          "ternary": {
           "aaxis": {
            "gridcolor": "white",
            "linecolor": "white",
            "ticks": ""
           },
           "baxis": {
            "gridcolor": "white",
            "linecolor": "white",
            "ticks": ""
           },
           "bgcolor": "#E5ECF6",
           "caxis": {
            "gridcolor": "white",
            "linecolor": "white",
            "ticks": ""
           }
          },
          "title": {
           "x": 0.05
          },
          "xaxis": {
           "automargin": true,
           "gridcolor": "white",
           "linecolor": "white",
           "ticks": "",
           "title": {
            "standoff": 15
           },
           "zerolinecolor": "white",
           "zerolinewidth": 2
          },
          "yaxis": {
           "automargin": true,
           "gridcolor": "white",
           "linecolor": "white",
           "ticks": "",
           "title": {
            "standoff": 15
           },
           "zerolinecolor": "white",
           "zerolinewidth": 2
          }
         }
        },
        "title": {
         "text": "Global CO2 Emissions Per Year"
        },
        "width": 1500,
        "xaxis": {
         "anchor": "y",
         "autorange": true,
         "domain": [
          0,
          1
         ],
         "range": [
          "1749-07-02 12:00",
          "2020-07-01 12:00"
         ],
         "title": {
          "text": "Year"
         },
         "type": "date"
        },
        "yaxis": {
         "anchor": "x",
         "autorange": true,
         "domain": [
          0,
          1
         ],
         "range": [
          0,
          38634.21357894737
         ],
         "title": {
          "text": "Total"
         },
         "type": "linear"
        }
       }
      },
      "image/png": "[encoded data removed]",
      "text/html": [
       "<div>                            <div id=\"e64a9791-ce38-467b-8c20-7a0e31ae9079\" class=\"plotly-graph-div\" style=\"height:800px; width:1500px;\"></div>            <script type=\"text/javascript\">                require([\"plotly\"], function(Plotly) {                    window.PLOTLYENV=window.PLOTLYENV || {};                                    if (document.getElementById(\"e64a9791-ce38-467b-8c20-7a0e31ae9079\")) {                    Plotly.newPlot(                        \"e64a9791-ce38-467b-8c20-7a0e31ae9079\",                        [{\"alignmentgroup\":\"True\",\"hovertemplate\":\"Year=%{x}<br>Total=%{y}<extra></extra>\",\"legendgroup\":\"\",\"marker\":{\"color\":\"#636efa\",\"pattern\":{\"shape\":\"\"}},\"name\":\"\",\"offsetgroup\":\"\",\"orientation\":\"v\",\"showlegend\":false,\"textposition\":\"auto\",\"x\":[\"1750-01-01T00:00:00\",\"1751-01-01T00:00:00\",\"1752-01-01T00:00:00\",\"1753-01-01T00:00:00\",\"1754-01-01T00:00:00\",\"1755-01-01T00:00:00\",\"1756-01-01T00:00:00\",\"1757-01-01T00:00:00\",\"1758-01-01T00:00:00\",\"1759-01-01T00:00:00\",\"1760-01-01T00:00:00\",\"1761-01-01T00:00:00\",\"1762-01-01T00:00:00\",\"1763-01-01T00:00:00\",\"1764-01-01T00:00:00\",\"1765-01-01T00:00:00\",\"1766-01-01T00:00:00\",\"1767-01-01T00:00:00\",\"1768-01-01T00:00:00\",\"1769-01-01T00:00:00\",\"1770-01-01T00:00:00\",\"1771-01-01T00:00:00\",\"1772-01-01T00:00:00\",\"1773-01-01T00:00:00\",\"1774-01-01T00:00:00\",\"1775-01-01T00:00:00\",\"1776-01-01T00:00:00\",\"1777-01-01T00:00:00\",\"1778-01-01T00:00:00\",\"1779-01-01T00:00:00\",\"1780-01-01T00:00:00\",\"1781-01-01T00:00:00\",\"1782-01-01T00:00:00\",\"1783-01-01T00:00:00\",\"1784-01-01T00:00:00\",\"1785-01-01T00:00:00\",\"1786-01-01T00:00:00\",\"1787-01-01T00:00:00\",\"1788-01-01T00:00:00\",\"1789-01-01T00:00:00\",\"1790-01-01T00:00:00\",\"1791-01-01T00:00:00\",\"1792-01-01T00:00:00\",\"1793-01-01T00:00:00\",\"1794-01-01T00:00:00\",\"1795-01-01T00:00:00\",\"1796-01-01T00:00:00\",\"1797-01-01T00:00:00\",\"1798-01-01T00:00:00\",\"1799-01-01T00:00:00\",\"1800-01-01T00:00:00\",\"1801-01-01T00:00:00\",\"1802-01-01T00:00:00\",\"1803-01-01T00:00:00\",\"1804-01-01T00:00:00\",\"1805-01-01T00:00:00\",\"1806-01-01T00:00:00\",\"1807-01-01T00:00:00\",\"1808-01-01T00:00:00\",\"1809-01-01T00:00:00\",\"1810-01-01T00:00:00\",\"1811-01-01T00:00:00\",\"1812-01-01T00:00:00\",\"1813-01-01T00:00:00\",\"1814-01-01T00:00:00\",\"1815-01-01T00:00:00\",\"1816-01-01T00:00:00\",\"1817-01-01T00:00:00\",\"1818-01-01T00:00:00\",\"1819-01-01T00:00:00\",\"1820-01-01T00:00:00\",\"1821-01-01T00:00:00\",\"1822-01-01T00:00:00\",\"1823-01-01T00:00:00\",\"1824-01-01T00:00:00\",\"1825-01-01T00:00:00\",\"1826-01-01T00:00:00\",\"1827-01-01T00:00:00\",\"1828-01-01T00:00:00\",\"1829-01-01T00:00:00\",\"1830-01-01T00:00:00\",\"1831-01-01T00:00:00\",\"1832-01-01T00:00:00\",\"1833-01-01T00:00:00\",\"1834-01-01T00:00:00\",\"1835-01-01T00:00:00\",\"1836-01-01T00:00:00\",\"1837-01-01T00:00:00\",\"1838-01-01T00:00:00\",\"1839-01-01T00:00:00\",\"1840-01-01T00:00:00\",\"1841-01-01T00:00:00\",\"1842-01-01T00:00:00\",\"1843-01-01T00:00:00\",\"1844-01-01T00:00:00\",\"1845-01-01T00:00:00\",\"1846-01-01T00:00:00\",\"1847-01-01T00:00:00\",\"1848-01-01T00:00:00\",\"1849-01-01T00:00:00\",\"1850-01-01T00:00:00\",\"1851-01-01T00:00:00\",\"1852-01-01T00:00:00\",\"1853-01-01T00:00:00\",\"1854-01-01T00:00:00\",\"1855-01-01T00:00:00\",\"1856-01-01T00:00:00\",\"1857-01-01T00:00:00\",\"1858-01-01T00:00:00\",\"1859-01-01T00:00:00\",\"1860-01-01T00:00:00\",\"1861-01-01T00:00:00\",\"1862-01-01T00:00:00\",\"1863-01-01T00:00:00\",\"1864-01-01T00:00:00\",\"1865-01-01T00:00:00\",\"1866-01-01T00:00:00\",\"1867-01-01T00:00:00\",\"1868-01-01T00:00:00\",\"1869-01-01T00:00:00\",\"1870-01-01T00:00:00\",\"1871-01-01T00:00:00\",\"1872-01-01T00:00:00\",\"1873-01-01T00:00:00\",\"1874-01-01T00:00:00\",\"1875-01-01T00:00:00\",\"1876-01-01T00:00:00\",\"1877-01-01T00:00:00\",\"1878-01-01T00:00:00\",\"1879-01-01T00:00:00\",\"1880-01-01T00:00:00\",\"1881-01-01T00:00:00\",\"1882-01-01T00:00:00\",\"1883-01-01T00:00:00\",\"1884-01-01T00:00:00\",\"1885-01-01T00:00:00\",\"1886-01-01T00:00:00\",\"1887-01-01T00:00:00\",\"1888-01-01T00:00:00\",\"1889-01-01T00:00:00\",\"1890-01-01T00:00:00\",\"1891-01-01T00:00:00\",\"1892-01-01T00:00:00\",\"1893-01-01T00:00:00\",\"1894-01-01T00:00:00\",\"1895-01-01T00:00:00\",\"1896-01-01T00:00:00\",\"1897-01-01T00:00:00\",\"1898-01-01T00:00:00\",\"1899-01-01T00:00:00\",\"1900-01-01T00:00:00\",\"1901-01-01T00:00:00\",\"1902-01-01T00:00:00\",\"1903-01-01T00:00:00\",\"1904-01-01T00:00:00\",\"1905-01-01T00:00:00\",\"1906-01-01T00:00:00\",\"1907-01-01T00:00:00\",\"1908-01-01T00:00:00\",\"1909-01-01T00:00:00\",\"1910-01-01T00:00:00\",\"1911-01-01T00:00:00\",\"1912-01-01T00:00:00\",\"1913-01-01T00:00:00\",\"1914-01-01T00:00:00\",\"1915-01-01T00:00:00\",\"1916-01-01T00:00:00\",\"1917-01-01T00:00:00\",\"1918-01-01T00:00:00\",\"1919-01-01T00:00:00\",\"1920-01-01T00:00:00\",\"1921-01-01T00:00:00\",\"1922-01-01T00:00:00\",\"1923-01-01T00:00:00\",\"1924-01-01T00:00:00\",\"1925-01-01T00:00:00\",\"1926-01-01T00:00:00\",\"1927-01-01T00:00:00\",\"1928-01-01T00:00:00\",\"1929-01-01T00:00:00\",\"1930-01-01T00:00:00\",\"1931-01-01T00:00:00\",\"1932-01-01T00:00:00\",\"1933-01-01T00:00:00\",\"1934-01-01T00:00:00\",\"1935-01-01T00:00:00\",\"1936-01-01T00:00:00\",\"1937-01-01T00:00:00\",\"1938-01-01T00:00:00\",\"1939-01-01T00:00:00\",\"1940-01-01T00:00:00\",\"1941-01-01T00:00:00\",\"1942-01-01T00:00:00\",\"1943-01-01T00:00:00\",\"1944-01-01T00:00:00\",\"1945-01-01T00:00:00\",\"1946-01-01T00:00:00\",\"1947-01-01T00:00:00\",\"1948-01-01T00:00:00\",\"1949-01-01T00:00:00\",\"1950-01-01T00:00:00\",\"1951-01-01T00:00:00\",\"1952-01-01T00:00:00\",\"1953-01-01T00:00:00\",\"1954-01-01T00:00:00\",\"1955-01-01T00:00:00\",\"1956-01-01T00:00:00\",\"1957-01-01T00:00:00\",\"1958-01-01T00:00:00\",\"1959-01-01T00:00:00\",\"1960-01-01T00:00:00\",\"1961-01-01T00:00:00\",\"1962-01-01T00:00:00\",\"1963-01-01T00:00:00\",\"1964-01-01T00:00:00\",\"1965-01-01T00:00:00\",\"1966-01-01T00:00:00\",\"1967-01-01T00:00:00\",\"1968-01-01T00:00:00\",\"1969-01-01T00:00:00\",\"1970-01-01T00:00:00\",\"1971-01-01T00:00:00\",\"1972-01-01T00:00:00\",\"1973-01-01T00:00:00\",\"1974-01-01T00:00:00\",\"1975-01-01T00:00:00\",\"1976-01-01T00:00:00\",\"1977-01-01T00:00:00\",\"1978-01-01T00:00:00\",\"1979-01-01T00:00:00\",\"1980-01-01T00:00:00\",\"1981-01-01T00:00:00\",\"1982-01-01T00:00:00\",\"1983-01-01T00:00:00\",\"1984-01-01T00:00:00\",\"1985-01-01T00:00:00\",\"1986-01-01T00:00:00\",\"1987-01-01T00:00:00\",\"1988-01-01T00:00:00\",\"1989-01-01T00:00:00\",\"1990-01-01T00:00:00\",\"1991-01-01T00:00:00\",\"1992-01-01T00:00:00\",\"1993-01-01T00:00:00\",\"1994-01-01T00:00:00\",\"1995-01-01T00:00:00\",\"1996-01-01T00:00:00\",\"1997-01-01T00:00:00\",\"1998-01-01T00:00:00\",\"1999-01-01T00:00:00\",\"2000-01-01T00:00:00\",\"2001-01-01T00:00:00\",\"2002-01-01T00:00:00\",\"2003-01-01T00:00:00\",\"2004-01-01T00:00:00\",\"2005-01-01T00:00:00\",\"2006-01-01T00:00:00\",\"2007-01-01T00:00:00\",\"2008-01-01T00:00:00\",\"2009-01-01T00:00:00\",\"2010-01-01T00:00:00\",\"2011-01-01T00:00:00\",\"2012-01-01T00:00:00\",\"2013-01-01T00:00:00\",\"2014-01-01T00:00:00\",\"2015-01-01T00:00:00\",\"2016-01-01T00:00:00\",\"2017-01-01T00:00:00\",\"2018-01-01T00:00:00\",\"2019-01-01T00:00:00\",\"2020-01-01T00:00:00\"],\"xaxis\":\"x\",\"y\":[9.350528,9.350528,9.354192,9.354192,9.357856,9.36152,10.006384,10.010048,10.013712,10.017376,10.017376,10.97368,10.977344,10.981008,10.984672,10.988336,12.259744,12.263408,12.267072,12.270736,12.2744,13.61176,13.615424,13.619088,13.622752,13.626416,15.037056,15.04072,15.044384,15.048048,15.055376,16.843408,16.847072,16.8544,16.858064,16.869056,19.151728,19.159056,19.16272,19.170048,19.177376,21.419744,21.896064,21.914384,21.881408,21.8924,22.951296,24.094464,25.094736,26.428432,28.091888,27.959984,36.782896,31.488416,34.309696,33.419344,35.04616,36.874496,35.06448,35.090128,37.380128,39.582192,41.007488,41.22,42.128672,43.488016,47.664976,49.431024,49.643536,49.947648,50.687776,51.435232,53.465088,56.550176,58.525072,60.756448,61.419632,65.91536,66.637168,66.395344,89.123136,84.52848,85.111056,86.807488,88.4856,90.44584,104.775744,104.691472,108.044032,111.612768,118.929776,122.619424,129.50408,132.852976,141.423072,155.210704,157.793824,172.402192,173.816496,183.51144,196.896032,198.804976,207.550944,217.209248,255.138976,260.165984,277.29152,279.889296,284.17185,301.312559,330.642191,347.735242,354.057462,377.859938,407.091108,432.307789,445.970599,477.814912,490.752496,521.13072,532.536752,566.14296,626.371792,665.41904,622.997248,675.799152,685.55272,699.098528,704.381729,754.869509,853.707188,882.407475,931.92471,991.035684,1002.177745,1009.674571,1025.478884,1076.761678,1192.27607,1191.804432,1298.463581,1358.87969,1370.094534,1353.675035,1400.864597,1485.281339,1533.711001,1606.31064,1694.277167,1850.905966,1952.224654,2016.760928,2067.797613,2256.07725,2281.857535,2429.631367,2551.869513,2885.281242,2776.431591,2887.083061,3027.588864,3082.462274,3228.332151,3492.411249,3168.341359,3125.088543,3373.154069,3527.725678,3479.185579,3014.874203,3507.597636,3076.038222,3226.445037,3661.080742,3672.399351,3712.867713,3645.190242,3981.432883,3962.552527,4255.150726,3923.058343,3505.272053,3159.133411,3326.453782,3617.657544,3796.088336,4170.573685,4458.901333,4195.242758,4438.143987,4849.926545,4959.186226,4939.724859,5023.25064,5105.436673,4244.738093,4633.477283,5130.185429,5401.115478,5243.102933,6003.238189,6379.755941,6465.694232,6647.727815,6789.936494,7443.207067,7924.210548,8185.52397,8417.600054,8856.188671,9386.933671,9417.462637,9750.056664,10271.52439,10828.85757,11317.23292,11865.8614,12243.04554,12909.91252,13766.57065,14897.56709,15498.26668,16221.15227,17078.7921,17009.59441,17046.49722,17983.97285,18494.53082,19067.76718,19610.01773,19492.61352,19026.91018,18875.76028,18998.03156,19656.71687,20317.48352,20619.62366,21266.19453,22101.39949,22406.83252,22749.57436,23238.10215,22569.62428,22803.49535,22964.58336,23453.94445,24154.96121,24300.55043,24206.27127,24518.96229,25234.20725,25451.0545,26039.19148,27366.72329,28627.53303,29602.7772,30583.53008,31493.74159,32069.44401,31607.04241,33343.30045,34468.45105,34974.07515,35283.02544,35534.44295,35496.40634,35452.4593,35925.73769,36646.13979,36702.5029,34807.2591],\"yaxis\":\"y\",\"type\":\"bar\"}],                        {\"template\":{\"data\":{\"bar\":[{\"error_x\":{\"color\":\"#2a3f5f\"},\"error_y\":{\"color\":\"#2a3f5f\"},\"marker\":{\"line\":{\"color\":\"#E5ECF6\",\"width\":0.5},\"pattern\":{\"fillmode\":\"overlay\",\"size\":10,\"solidity\":0.2}},\"type\":\"bar\"}],\"barpolar\":[{\"marker\":{\"line\":{\"color\":\"#E5ECF6\",\"width\":0.5},\"pattern\":{\"fillmode\":\"overlay\",\"size\":10,\"solidity\":0.2}},\"type\":\"barpolar\"}],\"carpet\":[{\"aaxis\":{\"endlinecolor\":\"#2a3f5f\",\"gridcolor\":\"white\",\"linecolor\":\"white\",\"minorgridcolor\":\"white\",\"startlinecolor\":\"#2a3f5f\"},\"baxis\":{\"endlinecolor\":\"#2a3f5f\",\"gridcolor\":\"white\",\"linecolor\":\"white\",\"minorgridcolor\":\"white\",\"startlinecolor\":\"#2a3f5f\"},\"type\":\"carpet\"}],\"choropleth\":[{\"colorbar\":{\"outlinewidth\":0,\"ticks\":\"\"},\"type\":\"choropleth\"}],\"contour\":[{\"colorbar\":{\"outlinewidth\":0,\"ticks\":\"\"},\"colorscale\":[[0.0,\"#0d0887\"],[0.1111111111111111,\"#46039f\"],[0.2222222222222222,\"#7201a8\"],[0.3333333333333333,\"#9c179e\"],[0.4444444444444444,\"#bd3786\"],[0.5555555555555556,\"#d8576b\"],[0.6666666666666666,\"#ed7953\"],[0.7777777777777778,\"#fb9f3a\"],[0.8888888888888888,\"#fdca26\"],[1.0,\"#f0f921\"]],\"type\":\"contour\"}],\"contourcarpet\":[{\"colorbar\":{\"outlinewidth\":0,\"ticks\":\"\"},\"type\":\"contourcarpet\"}],\"heatmap\":[{\"colorbar\":{\"outlinewidth\":0,\"ticks\":\"\"},\"colorscale\":[[0.0,\"#0d0887\"],[0.1111111111111111,\"#46039f\"],[0.2222222222222222,\"#7201a8\"],[0.3333333333333333,\"#9c179e\"],[0.4444444444444444,\"#bd3786\"],[0.5555555555555556,\"#d8576b\"],[0.6666666666666666,\"#ed7953\"],[0.7777777777777778,\"#fb9f3a\"],[0.8888888888888888,\"#fdca26\"],[1.0,\"#f0f921\"]],\"type\":\"heatmap\"}],\"heatmapgl\":[{\"colorbar\":{\"outlinewidth\":0,\"ticks\":\"\"},\"colorscale\":[[0.0,\"#0d0887\"],[0.1111111111111111,\"#46039f\"],[0.2222222222222222,\"#7201a8\"],[0.3333333333333333,\"#9c179e\"],[0.4444444444444444,\"#bd3786\"],[0.5555555555555556,\"#d8576b\"],[0.6666666666666666,\"#ed7953\"],[0.7777777777777778,\"#fb9f3a\"],[0.8888888888888888,\"#fdca26\"],[1.0,\"#f0f921\"]],\"type\":\"heatmapgl\"}],\"histogram\":[{\"marker\":{\"pattern\":{\"fillmode\":\"overlay\",\"size\":10,\"solidity\":0.2}},\"type\":\"histogram\"}],\"histogram2d\":[{\"colorbar\":{\"outlinewidth\":0,\"ticks\":\"\"},\"colorscale\":[[0.0,\"#0d0887\"],[0.1111111111111111,\"#46039f\"],[0.2222222222222222,\"#7201a8\"],[0.3333333333333333,\"#9c179e\"],[0.4444444444444444,\"#bd3786\"],[0.5555555555555556,\"#d8576b\"],[0.6666666666666666,\"#ed7953\"],[0.7777777777777778,\"#fb9f3a\"],[0.8888888888888888,\"#fdca26\"],[1.0,\"#f0f921\"]],\"type\":\"histogram2d\"}],\"histogram2dcontour\":[{\"colorbar\":{\"outlinewidth\":0,\"ticks\":\"\"},\"colorscale\":[[0.0,\"#0d0887\"],[0.1111111111111111,\"#46039f\"],[0.2222222222222222,\"#7201a8\"],[0.3333333333333333,\"#9c179e\"],[0.4444444444444444,\"#bd3786\"],[0.5555555555555556,\"#d8576b\"],[0.6666666666666666,\"#ed7953\"],[0.7777777777777778,\"#fb9f3a\"],[0.8888888888888888,\"#fdca26\"],[1.0,\"#f0f921\"]],\"type\":\"histogram2dcontour\"}],\"mesh3d\":[{\"colorbar\":{\"outlinewidth\":0,\"ticks\":\"\"},\"type\":\"mesh3d\"}],\"parcoords\":[{\"line\":{\"colorbar\":{\"outlinewidth\":0,\"ticks\":\"\"}},\"type\":\"parcoords\"}],\"pie\":[{\"automargin\":true,\"type\":\"pie\"}],\"scatter\":[{\"marker\":{\"colorbar\":{\"outlinewidth\":0,\"ticks\":\"\"}},\"type\":\"scatter\"}],\"scatter3d\":[{\"line\":{\"colorbar\":{\"outlinewidth\":0,\"ticks\":\"\"}},\"marker\":{\"colorbar\":{\"outlinewidth\":0,\"ticks\":\"\"}},\"type\":\"scatter3d\"}],\"scattercarpet\":[{\"marker\":{\"colorbar\":{\"outlinewidth\":0,\"ticks\":\"\"}},\"type\":\"scattercarpet\"}],\"scattergeo\":[{\"marker\":{\"colorbar\":{\"outlinewidth\":0,\"ticks\":\"\"}},\"type\":\"scattergeo\"}],\"scattergl\":[{\"marker\":{\"colorbar\":{\"outlinewidth\":0,\"ticks\":\"\"}},\"type\":\"scattergl\"}],\"scattermapbox\":[{\"marker\":{\"colorbar\":{\"outlinewidth\":0,\"ticks\":\"\"}},\"type\":\"scattermapbox\"}],\"scatterpolar\":[{\"marker\":{\"colorbar\":{\"outlinewidth\":0,\"ticks\":\"\"}},\"type\":\"scatterpolar\"}],\"scatterpolargl\":[{\"marker\":{\"colorbar\":{\"outlinewidth\":0,\"ticks\":\"\"}},\"type\":\"scatterpolargl\"}],\"scatterternary\":[{\"marker\":{\"colorbar\":{\"outlinewidth\":0,\"ticks\":\"\"}},\"type\":\"scatterternary\"}],\"surface\":[{\"colorbar\":{\"outlinewidth\":0,\"ticks\":\"\"},\"colorscale\":[[0.0,\"#0d0887\"],[0.1111111111111111,\"#46039f\"],[0.2222222222222222,\"#7201a8\"],[0.3333333333333333,\"#9c179e\"],[0.4444444444444444,\"#bd3786\"],[0.5555555555555556,\"#d8576b\"],[0.6666666666666666,\"#ed7953\"],[0.7777777777777778,\"#fb9f3a\"],[0.8888888888888888,\"#fdca26\"],[1.0,\"#f0f921\"]],\"type\":\"surface\"}],\"table\":[{\"cells\":{\"fill\":{\"color\":\"#EBF0F8\"},\"line\":{\"color\":\"white\"}},\"header\":{\"fill\":{\"color\":\"#C8D4E3\"},\"line\":{\"color\":\"white\"}},\"type\":\"table\"}]},\"layout\":{\"annotationdefaults\":{\"arrowcolor\":\"#2a3f5f\",\"arrowhead\":0,\"arrowwidth\":1},\"autotypenumbers\":\"strict\",\"coloraxis\":{\"colorbar\":{\"outlinewidth\":0,\"ticks\":\"\"}},\"colorscale\":{\"diverging\":[[0,\"#8e0152\"],[0.1,\"#c51b7d\"],[0.2,\"#de77ae\"],[0.3,\"#f1b6da\"],[0.4,\"#fde0ef\"],[0.5,\"#f7f7f7\"],[0.6,\"#e6f5d0\"],[0.7,\"#b8e186\"],[0.8,\"#7fbc41\"],[0.9,\"#4d9221\"],[1,\"#276419\"]],\"sequential\":[[0.0,\"#0d0887\"],[0.1111111111111111,\"#46039f\"],[0.2222222222222222,\"#7201a8\"],[0.3333333333333333,\"#9c179e\"],[0.4444444444444444,\"#bd3786\"],[0.5555555555555556,\"#d8576b\"],[0.6666666666666666,\"#ed7953\"],[0.7777777777777778,\"#fb9f3a\"],[0.8888888888888888,\"#fdca26\"],[1.0,\"#f0f921\"]],\"sequentialminus\":[[0.0,\"#0d0887\"],[0.1111111111111111,\"#46039f\"],[0.2222222222222222,\"#7201a8\"],[0.3333333333333333,\"#9c179e\"],[0.4444444444444444,\"#bd3786\"],[0.5555555555555556,\"#d8576b\"],[0.6666666666666666,\"#ed7953\"],[0.7777777777777778,\"#fb9f3a\"],[0.8888888888888888,\"#fdca26\"],[1.0,\"#f0f921\"]]},\"colorway\":[\"#636efa\",\"#EF553B\",\"#00cc96\",\"#ab63fa\",\"#FFA15A\",\"#19d3f3\",\"#FF6692\",\"#B6E880\",\"#FF97FF\",\"#FECB52\"],\"font\":{\"color\":\"#2a3f5f\"},\"geo\":{\"bgcolor\":\"white\",\"lakecolor\":\"white\",\"landcolor\":\"#E5ECF6\",\"showlakes\":true,\"showland\":true,\"subunitcolor\":\"white\"},\"hoverlabel\":{\"align\":\"left\"},\"hovermode\":\"closest\",\"mapbox\":{\"style\":\"light\"},\"paper_bgcolor\":\"white\",\"plot_bgcolor\":\"#E5ECF6\",\"polar\":{\"angularaxis\":{\"gridcolor\":\"white\",\"linecolor\":\"white\",\"ticks\":\"\"},\"bgcolor\":\"#E5ECF6\",\"radialaxis\":{\"gridcolor\":\"white\",\"linecolor\":\"white\",\"ticks\":\"\"}},\"scene\":{\"xaxis\":{\"backgroundcolor\":\"#E5ECF6\",\"gridcolor\":\"white\",\"gridwidth\":2,\"linecolor\":\"white\",\"showbackground\":true,\"ticks\":\"\",\"zerolinecolor\":\"white\"},\"yaxis\":{\"backgroundcolor\":\"#E5ECF6\",\"gridcolor\":\"white\",\"gridwidth\":2,\"linecolor\":\"white\",\"showbackground\":true,\"ticks\":\"\",\"zerolinecolor\":\"white\"},\"zaxis\":{\"backgroundcolor\":\"#E5ECF6\",\"gridcolor\":\"white\",\"gridwidth\":2,\"linecolor\":\"white\",\"showbackground\":true,\"ticks\":\"\",\"zerolinecolor\":\"white\"}},\"shapedefaults\":{\"line\":{\"color\":\"#2a3f5f\"}},\"ternary\":{\"aaxis\":{\"gridcolor\":\"white\",\"linecolor\":\"white\",\"ticks\":\"\"},\"baxis\":{\"gridcolor\":\"white\",\"linecolor\":\"white\",\"ticks\":\"\"},\"bgcolor\":\"#E5ECF6\",\"caxis\":{\"gridcolor\":\"white\",\"linecolor\":\"white\",\"ticks\":\"\"}},\"title\":{\"x\":0.05},\"xaxis\":{\"automargin\":true,\"gridcolor\":\"white\",\"linecolor\":\"white\",\"ticks\":\"\",\"title\":{\"standoff\":15},\"zerolinecolor\":\"white\",\"zerolinewidth\":2},\"yaxis\":{\"automargin\":true,\"gridcolor\":\"white\",\"linecolor\":\"white\",\"ticks\":\"\",\"title\":{\"standoff\":15},\"zerolinecolor\":\"white\",\"zerolinewidth\":2}}},\"xaxis\":{\"anchor\":\"y\",\"domain\":[0.0,1.0],\"title\":{\"text\":\"Year\"}},\"yaxis\":{\"anchor\":\"x\",\"domain\":[0.0,1.0],\"title\":{\"text\":\"Total\"}},\"legend\":{\"tracegroupgap\":0},\"title\":{\"text\":\"Global CO2 Emissions Per Year\"},\"barmode\":\"relative\",\"height\":800,\"width\":1500},                        {\"responsive\": true}                    ).then(function(){\n",
       "                            \n",
       "var gd = document.getElementById('e64a9791-ce38-467b-8c20-7a0e31ae9079');\n",
       "var x = new MutationObserver(function (mutations, observer) {{\n",
       "        var display = window.getComputedStyle(gd).display;\n",
       "        if (!display || display === 'none') {{\n",
       "            console.log([gd, 'removed!']);\n",
       "            Plotly.purge(gd);\n",
       "            observer.disconnect();\n",
       "        }}\n",
       "}});\n",
       "\n",
       "// Listen for the removal of the full notebook cells\n",
       "var notebookContainer = gd.closest('#notebook-container');\n",
       "if (notebookContainer) {{\n",
       "    x.observe(notebookContainer, {childList: true});\n",
       "}}\n",
       "\n",
       "// Listen for the clearing of the current output cell\n",
       "var outputEl = gd.closest('.output');\n",
       "if (outputEl) {{\n",
       "    x.observe(outputEl, {childList: true});\n",
       "}}\n",
       "\n",
       "                        })                };                });            </script>        </div>"
      ]
     },
     "metadata": {},
     "output_type": "display_data"
    }
   ],
   "source": [
    "co2_per_year = co2_global.groupby(\"Year\").sum().reset_index()\n",
    "co2_plot = px.bar(\n",
    "    co2_per_year, x=\"Year\", y=\"Total\", title=\"Global CO2 Emissions Per Year\", width=1500, height=800\n",
    ")\n",
    "co2_plot"
   ]
  },
  {
   "cell_type": "code",
   "execution_count": 64,
   "id": "95898547",
   "metadata": {},
   "outputs": [
    {
     "data": {
      "text/html": [
       "<div>\n",
       "<style scoped>\n",
       "    .dataframe tbody tr th:only-of-type {\n",
       "        vertical-align: middle;\n",
       "    }\n",
       "\n",
       "    .dataframe tbody tr th {\n",
       "        vertical-align: top;\n",
       "    }\n",
       "\n",
       "    .dataframe thead th {\n",
       "        text-align: right;\n",
       "    }\n",
       "</style>\n",
       "<table border=\"1\" class=\"dataframe\">\n",
       "  <thead>\n",
       "    <tr style=\"text-align: right;\">\n",
       "      <th></th>\n",
       "      <th>Per Capita</th>\n",
       "    </tr>\n",
       "    <tr>\n",
       "      <th>Year</th>\n",
       "      <th></th>\n",
       "    </tr>\n",
       "  </thead>\n",
       "  <tbody>\n",
       "    <tr>\n",
       "      <th>1750-01-01</th>\n",
       "      <td>0.011492</td>\n",
       "    </tr>\n",
       "    <tr>\n",
       "      <th>1751-01-01</th>\n",
       "      <td>0.011438</td>\n",
       "    </tr>\n",
       "    <tr>\n",
       "      <th>1752-01-01</th>\n",
       "      <td>0.011390</td>\n",
       "    </tr>\n",
       "    <tr>\n",
       "      <th>1753-01-01</th>\n",
       "      <td>0.011339</td>\n",
       "    </tr>\n",
       "    <tr>\n",
       "      <th>1754-01-01</th>\n",
       "      <td>0.011294</td>\n",
       "    </tr>\n",
       "    <tr>\n",
       "      <th>...</th>\n",
       "      <td>...</td>\n",
       "    </tr>\n",
       "    <tr>\n",
       "      <th>2016-01-01</th>\n",
       "      <td>4.749780</td>\n",
       "    </tr>\n",
       "    <tr>\n",
       "      <th>2017-01-01</th>\n",
       "      <td>4.759726</td>\n",
       "    </tr>\n",
       "    <tr>\n",
       "      <th>2018-01-01</th>\n",
       "      <td>4.802215</td>\n",
       "    </tr>\n",
       "    <tr>\n",
       "      <th>2019-01-01</th>\n",
       "      <td>4.758236</td>\n",
       "    </tr>\n",
       "    <tr>\n",
       "      <th>2020-01-01</th>\n",
       "      <td>4.465447</td>\n",
       "    </tr>\n",
       "  </tbody>\n",
       "</table>\n",
       "<p>271 rows × 1 columns</p>\n",
       "</div>"
      ],
      "text/plain": [
       "            Per Capita\n",
       "Year                  \n",
       "1750-01-01    0.011492\n",
       "1751-01-01    0.011438\n",
       "1752-01-01    0.011390\n",
       "1753-01-01    0.011339\n",
       "1754-01-01    0.011294\n",
       "...                ...\n",
       "2016-01-01    4.749780\n",
       "2017-01-01    4.759726\n",
       "2018-01-01    4.802215\n",
       "2019-01-01    4.758236\n",
       "2020-01-01    4.465447\n",
       "\n",
       "[271 rows x 1 columns]"
      ]
     },
     "execution_count": 64,
     "metadata": {},
     "output_type": "execute_result"
    }
   ],
   "source": [
    "# Reading CO2 Global Data Per Capita\n",
    "co2_percapita_csv = Path(\"co2_global_data.csv\")\n",
    "co2_percapita = pd.read_csv(co2_percapita_csv,index_col='Year', parse_dates=True, usecols=['Year', 'CO2 Per Capita'])\n",
    "co2_percapita"
   ]
  },
  {
   "cell_type": "code",
   "execution_count": 66,
   "id": "8cf8b7b7",
   "metadata": {},
   "outputs": [
    {
     "data": {
      "application/vnd.plotly.v1+json": {
       "config": {
        "plotlyServerURL": "https://plot.ly"
       },
       "data": [
        {
         "alignmentgroup": "True",
         "hovertemplate": "Year=%{x}<br>Per Capita=%{y}<extra></extra>",
         "legendgroup": "",
         "marker": {
          "color": "#636efa",
          "pattern": {
           "shape": ""
          }
         },
         "name": "",
         "offsetgroup": "",
         "orientation": "v",
         "showlegend": false,
         "textposition": "auto",
         "type": "bar",
         "x": [
          "1750-01-01T00:00:00",
          "1751-01-01T00:00:00",
          "1752-01-01T00:00:00",
          "1753-01-01T00:00:00",
          "1754-01-01T00:00:00",
          "1755-01-01T00:00:00",
          "1756-01-01T00:00:00",
          "1757-01-01T00:00:00",
          "1758-01-01T00:00:00",
          "1759-01-01T00:00:00",
          "1760-01-01T00:00:00",
          "1761-01-01T00:00:00",
          "1762-01-01T00:00:00",
          "1763-01-01T00:00:00",
          "1764-01-01T00:00:00",
          "1765-01-01T00:00:00",
          "1766-01-01T00:00:00",
          "1767-01-01T00:00:00",
          "1768-01-01T00:00:00",
          "1769-01-01T00:00:00",
          "1770-01-01T00:00:00",
          "1771-01-01T00:00:00",
          "1772-01-01T00:00:00",
          "1773-01-01T00:00:00",
          "1774-01-01T00:00:00",
          "1775-01-01T00:00:00",
          "1776-01-01T00:00:00",
          "1777-01-01T00:00:00",
          "1778-01-01T00:00:00",
          "1779-01-01T00:00:00",
          "1780-01-01T00:00:00",
          "1781-01-01T00:00:00",
          "1782-01-01T00:00:00",
          "1783-01-01T00:00:00",
          "1784-01-01T00:00:00",
          "1785-01-01T00:00:00",
          "1786-01-01T00:00:00",
          "1787-01-01T00:00:00",
          "1788-01-01T00:00:00",
          "1789-01-01T00:00:00",
          "1790-01-01T00:00:00",
          "1791-01-01T00:00:00",
          "1792-01-01T00:00:00",
          "1793-01-01T00:00:00",
          "1794-01-01T00:00:00",
          "1795-01-01T00:00:00",
          "1796-01-01T00:00:00",
          "1797-01-01T00:00:00",
          "1798-01-01T00:00:00",
          "1799-01-01T00:00:00",
          "1800-01-01T00:00:00",
          "1801-01-01T00:00:00",
          "1802-01-01T00:00:00",
          "1803-01-01T00:00:00",
          "1804-01-01T00:00:00",
          "1805-01-01T00:00:00",
          "1806-01-01T00:00:00",
          "1807-01-01T00:00:00",
          "1808-01-01T00:00:00",
          "1809-01-01T00:00:00",
          "1810-01-01T00:00:00",
          "1811-01-01T00:00:00",
          "1812-01-01T00:00:00",
          "1813-01-01T00:00:00",
          "1814-01-01T00:00:00",
          "1815-01-01T00:00:00",
          "1816-01-01T00:00:00",
          "1817-01-01T00:00:00",
          "1818-01-01T00:00:00",
          "1819-01-01T00:00:00",
          "1820-01-01T00:00:00",
          "1821-01-01T00:00:00",
          "1822-01-01T00:00:00",
          "1823-01-01T00:00:00",
          "1824-01-01T00:00:00",
          "1825-01-01T00:00:00",
          "1826-01-01T00:00:00",
          "1827-01-01T00:00:00",
          "1828-01-01T00:00:00",
          "1829-01-01T00:00:00",
          "1830-01-01T00:00:00",
          "1831-01-01T00:00:00",
          "1832-01-01T00:00:00",
          "1833-01-01T00:00:00",
          "1834-01-01T00:00:00",
          "1835-01-01T00:00:00",
          "1836-01-01T00:00:00",
          "1837-01-01T00:00:00",
          "1838-01-01T00:00:00",
          "1839-01-01T00:00:00",
          "1840-01-01T00:00:00",
          "1841-01-01T00:00:00",
          "1842-01-01T00:00:00",
          "1843-01-01T00:00:00",
          "1844-01-01T00:00:00",
          "1845-01-01T00:00:00",
          "1846-01-01T00:00:00",
          "1847-01-01T00:00:00",
          "1848-01-01T00:00:00",
          "1849-01-01T00:00:00",
          "1850-01-01T00:00:00",
          "1851-01-01T00:00:00",
          "1852-01-01T00:00:00",
          "1853-01-01T00:00:00",
          "1854-01-01T00:00:00",
          "1855-01-01T00:00:00",
          "1856-01-01T00:00:00",
          "1857-01-01T00:00:00",
          "1858-01-01T00:00:00",
          "1859-01-01T00:00:00",
          "1860-01-01T00:00:00",
          "1861-01-01T00:00:00",
          "1862-01-01T00:00:00",
          "1863-01-01T00:00:00",
          "1864-01-01T00:00:00",
          "1865-01-01T00:00:00",
          "1866-01-01T00:00:00",
          "1867-01-01T00:00:00",
          "1868-01-01T00:00:00",
          "1869-01-01T00:00:00",
          "1870-01-01T00:00:00",
          "1871-01-01T00:00:00",
          "1872-01-01T00:00:00",
          "1873-01-01T00:00:00",
          "1874-01-01T00:00:00",
          "1875-01-01T00:00:00",
          "1876-01-01T00:00:00",
          "1877-01-01T00:00:00",
          "1878-01-01T00:00:00",
          "1879-01-01T00:00:00",
          "1880-01-01T00:00:00",
          "1881-01-01T00:00:00",
          "1882-01-01T00:00:00",
          "1883-01-01T00:00:00",
          "1884-01-01T00:00:00",
          "1885-01-01T00:00:00",
          "1886-01-01T00:00:00",
          "1887-01-01T00:00:00",
          "1888-01-01T00:00:00",
          "1889-01-01T00:00:00",
          "1890-01-01T00:00:00",
          "1891-01-01T00:00:00",
          "1892-01-01T00:00:00",
          "1893-01-01T00:00:00",
          "1894-01-01T00:00:00",
          "1895-01-01T00:00:00",
          "1896-01-01T00:00:00",
          "1897-01-01T00:00:00",
          "1898-01-01T00:00:00",
          "1899-01-01T00:00:00",
          "1900-01-01T00:00:00",
          "1901-01-01T00:00:00",
          "1902-01-01T00:00:00",
          "1903-01-01T00:00:00",
          "1904-01-01T00:00:00",
          "1905-01-01T00:00:00",
          "1906-01-01T00:00:00",
          "1907-01-01T00:00:00",
          "1908-01-01T00:00:00",
          "1909-01-01T00:00:00",
          "1910-01-01T00:00:00",
          "1911-01-01T00:00:00",
          "1912-01-01T00:00:00",
          "1913-01-01T00:00:00",
          "1914-01-01T00:00:00",
          "1915-01-01T00:00:00",
          "1916-01-01T00:00:00",
          "1917-01-01T00:00:00",
          "1918-01-01T00:00:00",
          "1919-01-01T00:00:00",
          "1920-01-01T00:00:00",
          "1921-01-01T00:00:00",
          "1922-01-01T00:00:00",
          "1923-01-01T00:00:00",
          "1924-01-01T00:00:00",
          "1925-01-01T00:00:00",
          "1926-01-01T00:00:00",
          "1927-01-01T00:00:00",
          "1928-01-01T00:00:00",
          "1929-01-01T00:00:00",
          "1930-01-01T00:00:00",
          "1931-01-01T00:00:00",
          "1932-01-01T00:00:00",
          "1933-01-01T00:00:00",
          "1934-01-01T00:00:00",
          "1935-01-01T00:00:00",
          "1936-01-01T00:00:00",
          "1937-01-01T00:00:00",
          "1938-01-01T00:00:00",
          "1939-01-01T00:00:00",
          "1940-01-01T00:00:00",
          "1941-01-01T00:00:00",
          "1942-01-01T00:00:00",
          "1943-01-01T00:00:00",
          "1944-01-01T00:00:00",
          "1945-01-01T00:00:00",
          "1946-01-01T00:00:00",
          "1947-01-01T00:00:00",
          "1948-01-01T00:00:00",
          "1949-01-01T00:00:00",
          "1950-01-01T00:00:00",
          "1951-01-01T00:00:00",
          "1952-01-01T00:00:00",
          "1953-01-01T00:00:00",
          "1954-01-01T00:00:00",
          "1955-01-01T00:00:00",
          "1956-01-01T00:00:00",
          "1957-01-01T00:00:00",
          "1958-01-01T00:00:00",
          "1959-01-01T00:00:00",
          "1960-01-01T00:00:00",
          "1961-01-01T00:00:00",
          "1962-01-01T00:00:00",
          "1963-01-01T00:00:00",
          "1964-01-01T00:00:00",
          "1965-01-01T00:00:00",
          "1966-01-01T00:00:00",
          "1967-01-01T00:00:00",
          "1968-01-01T00:00:00",
          "1969-01-01T00:00:00",
          "1970-01-01T00:00:00",
          "1971-01-01T00:00:00",
          "1972-01-01T00:00:00",
          "1973-01-01T00:00:00",
          "1974-01-01T00:00:00",
          "1975-01-01T00:00:00",
          "1976-01-01T00:00:00",
          "1977-01-01T00:00:00",
          "1978-01-01T00:00:00",
          "1979-01-01T00:00:00",
          "1980-01-01T00:00:00",
          "1981-01-01T00:00:00",
          "1982-01-01T00:00:00",
          "1983-01-01T00:00:00",
          "1984-01-01T00:00:00",
          "1985-01-01T00:00:00",
          "1986-01-01T00:00:00",
          "1987-01-01T00:00:00",
          "1988-01-01T00:00:00",
          "1989-01-01T00:00:00",
          "1990-01-01T00:00:00",
          "1991-01-01T00:00:00",
          "1992-01-01T00:00:00",
          "1993-01-01T00:00:00",
          "1994-01-01T00:00:00",
          "1995-01-01T00:00:00",
          "1996-01-01T00:00:00",
          "1997-01-01T00:00:00",
          "1998-01-01T00:00:00",
          "1999-01-01T00:00:00",
          "2000-01-01T00:00:00",
          "2001-01-01T00:00:00",
          "2002-01-01T00:00:00",
          "2003-01-01T00:00:00",
          "2004-01-01T00:00:00",
          "2005-01-01T00:00:00",
          "2006-01-01T00:00:00",
          "2007-01-01T00:00:00",
          "2008-01-01T00:00:00",
          "2009-01-01T00:00:00",
          "2010-01-01T00:00:00",
          "2011-01-01T00:00:00",
          "2012-01-01T00:00:00",
          "2013-01-01T00:00:00",
          "2014-01-01T00:00:00",
          "2015-01-01T00:00:00",
          "2016-01-01T00:00:00",
          "2017-01-01T00:00:00",
          "2018-01-01T00:00:00",
          "2019-01-01T00:00:00",
          "2020-01-01T00:00:00"
         ],
         "xaxis": "x",
         "y": [
          0.011492,
          0.011438,
          0.01139,
          0.011339,
          0.011294,
          0.011249,
          0.011973,
          0.011927,
          0.011881,
          0.011837,
          0.01179,
          0.012864,
          0.012817,
          0.012772,
          0.012727,
          0.012682,
          0.014096,
          0.014048,
          0.014,
          0.013952,
          0.013905,
          0.015364,
          0.015312,
          0.01526,
          0.015209,
          0.015158,
          0.016667,
          0.016611,
          0.016555,
          0.016499,
          0.016447,
          0.018333,
          0.01827,
          0.018211,
          0.018148,
          0.018092,
          0.020464,
          0.020395,
          0.020322,
          0.020252,
          0.020182,
          0.022454,
          0.022863,
          0.022792,
          0.022667,
          0.022586,
          0.023582,
          0.024654,
          0.02557,
          0.026815,
          0.028381,
          0.028125,
          0.036838,
          0.031397,
          0.034058,
          0.033026,
          0.034478,
          0.036112,
          0.034183,
          0.034051,
          0.036105,
          0.038055,
          0.039241,
          0.039259,
          0.039935,
          0.041028,
          0.044754,
          0.04619,
          0.046166,
          0.046224,
          0.046682,
          0.04714,
          0.048761,
          0.051322,
          0.052853,
          0.054598,
          0.054921,
          0.058649,
          0.058996,
          0.058489,
          0.078119,
          0.073721,
          0.073857,
          0.074951,
          0.076015,
          0.077308,
          0.089104,
          0.088583,
          0.090957,
          0.093486,
          0.09911,
          0.101666,
          0.10683,
          0.109036,
          0.11548,
          0.126094,
          0.127541,
          0.13864,
          0.139067,
          0.146077,
          0.155935,
          0.156647,
          0.162709,
          0.169417,
          0.197994,
          0.200872,
          0.213011,
          0.213918,
          0.21609,
          0.227963,
          0.248883,
          0.260419,
          0.263804,
          0.280104,
          0.300231,
          0.317196,
          0.325542,
          0.346993,
          0.354549,
          0.374548,
          0.380759,
          0.402678,
          0.443188,
          0.468346,
          0.436178,
          0.470644,
          0.474901,
          0.481702,
          0.482742,
          0.514559,
          0.578785,
          0.594993,
          0.62495,
          0.660943,
          0.664687,
          0.665946,
          0.672599,
          0.702276,
          0.773234,
          0.768548,
          0.832556,
          0.8663,
          0.868415,
          0.853034,
          0.877623,
          0.925051,
          0.949577,
          0.988623,
          1.036537,
          1.125558,
          1.179998,
          1.211371,
          1.233801,
          1.336831,
          1.342443,
          1.418923,
          1.479247,
          1.660018,
          1.585469,
          1.636454,
          1.703596,
          1.722066,
          1.790802,
          1.923657,
          1.732864,
          1.697088,
          1.818652,
          1.888098,
          1.848214,
          1.589283,
          1.834411,
          1.595565,
          1.659464,
          1.866701,
          1.855893,
          1.859435,
          1.808862,
          1.957479,
          1.93009,
          2.053277,
          1.875362,
          1.659847,
          1.481572,
          1.544849,
          1.663565,
          1.728351,
          1.880036,
          1.990123,
          1.854014,
          1.942216,
          2.101948,
          2.12962,
          2.103216,
          2.121369,
          2.138732,
          1.763571,
          1.908456,
          2.093382,
          2.181441,
          2.093627,
          2.366805,
          2.468913,
          2.457634,
          2.48271,
          2.49186,
          2.684152,
          2.807571,
          2.848817,
          2.877137,
          2.972298,
          3.092945,
          3.045905,
          3.094843,
          3.198854,
          3.307553,
          3.388816,
          3.481846,
          3.51936,
          3.634958,
          3.796962,
          4.025894,
          4.104675,
          4.211481,
          4.348205,
          4.248369,
          4.178595,
          4.32862,
          4.37274,
          4.429694,
          4.476656,
          4.372498,
          4.193724,
          4.087975,
          4.042505,
          4.108836,
          4.171178,
          4.156706,
          4.209025,
          4.295349,
          4.278202,
          4.270431,
          4.291995,
          4.104374,
          4.085478,
          4.05509,
          4.083056,
          4.146851,
          4.115218,
          4.044629,
          4.043205,
          4.107468,
          4.090082,
          4.132042,
          4.288658,
          4.430711,
          4.525099,
          4.617415,
          4.69639,
          4.723674,
          4.598882,
          4.792891,
          4.895256,
          4.908072,
          4.893229,
          4.870874,
          4.809943,
          4.74978,
          4.759726,
          4.802215,
          4.758236,
          4.465447
         ],
         "yaxis": "y"
        }
       ],
       "layout": {
        "barmode": "relative",
        "height": 800,
        "legend": {
         "tracegroupgap": 0
        },
        "template": {
         "data": {
          "bar": [
           {
            "error_x": {
             "color": "#2a3f5f"
            },
            "error_y": {
             "color": "#2a3f5f"
            },
            "marker": {
             "line": {
              "color": "#E5ECF6",
              "width": 0.5
             },
             "pattern": {
              "fillmode": "overlay",
              "size": 10,
              "solidity": 0.2
             }
            },
            "type": "bar"
           }
          ],
          "barpolar": [
           {
            "marker": {
             "line": {
              "color": "#E5ECF6",
              "width": 0.5
             },
             "pattern": {
              "fillmode": "overlay",
              "size": 10,
              "solidity": 0.2
             }
            },
            "type": "barpolar"
           }
          ],
          "carpet": [
           {
            "aaxis": {
             "endlinecolor": "#2a3f5f",
             "gridcolor": "white",
             "linecolor": "white",
             "minorgridcolor": "white",
             "startlinecolor": "#2a3f5f"
            },
            "baxis": {
             "endlinecolor": "#2a3f5f",
             "gridcolor": "white",
             "linecolor": "white",
             "minorgridcolor": "white",
             "startlinecolor": "#2a3f5f"
            },
            "type": "carpet"
           }
          ],
          "choropleth": [
           {
            "colorbar": {
             "outlinewidth": 0,
             "ticks": ""
            },
            "type": "choropleth"
           }
          ],
          "contour": [
           {
            "colorbar": {
             "outlinewidth": 0,
             "ticks": ""
            },
            "colorscale": [
             [
              0,
              "#0d0887"
             ],
             [
              0.1111111111111111,
              "#46039f"
             ],
             [
              0.2222222222222222,
              "#7201a8"
             ],
             [
              0.3333333333333333,
              "#9c179e"
             ],
             [
              0.4444444444444444,
              "#bd3786"
             ],
             [
              0.5555555555555556,
              "#d8576b"
             ],
             [
              0.6666666666666666,
              "#ed7953"
             ],
             [
              0.7777777777777778,
              "#fb9f3a"
             ],
             [
              0.8888888888888888,
              "#fdca26"
             ],
             [
              1,
              "#f0f921"
             ]
            ],
            "type": "contour"
           }
          ],
          "contourcarpet": [
           {
            "colorbar": {
             "outlinewidth": 0,
             "ticks": ""
            },
            "type": "contourcarpet"
           }
          ],
          "heatmap": [
           {
            "colorbar": {
             "outlinewidth": 0,
             "ticks": ""
            },
            "colorscale": [
             [
              0,
              "#0d0887"
             ],
             [
              0.1111111111111111,
              "#46039f"
             ],
             [
              0.2222222222222222,
              "#7201a8"
             ],
             [
              0.3333333333333333,
              "#9c179e"
             ],
             [
              0.4444444444444444,
              "#bd3786"
             ],
             [
              0.5555555555555556,
              "#d8576b"
             ],
             [
              0.6666666666666666,
              "#ed7953"
             ],
             [
              0.7777777777777778,
              "#fb9f3a"
             ],
             [
              0.8888888888888888,
              "#fdca26"
             ],
             [
              1,
              "#f0f921"
             ]
            ],
            "type": "heatmap"
           }
          ],
          "heatmapgl": [
           {
            "colorbar": {
             "outlinewidth": 0,
             "ticks": ""
            },
            "colorscale": [
             [
              0,
              "#0d0887"
             ],
             [
              0.1111111111111111,
              "#46039f"
             ],
             [
              0.2222222222222222,
              "#7201a8"
             ],
             [
              0.3333333333333333,
              "#9c179e"
             ],
             [
              0.4444444444444444,
              "#bd3786"
             ],
             [
              0.5555555555555556,
              "#d8576b"
             ],
             [
              0.6666666666666666,
              "#ed7953"
             ],
             [
              0.7777777777777778,
              "#fb9f3a"
             ],
             [
              0.8888888888888888,
              "#fdca26"
             ],
             [
              1,
              "#f0f921"
             ]
            ],
            "type": "heatmapgl"
           }
          ],
          "histogram": [
           {
            "marker": {
             "pattern": {
              "fillmode": "overlay",
              "size": 10,
              "solidity": 0.2
             }
            },
            "type": "histogram"
           }
          ],
          "histogram2d": [
           {
            "colorbar": {
             "outlinewidth": 0,
             "ticks": ""
            },
            "colorscale": [
             [
              0,
              "#0d0887"
             ],
             [
              0.1111111111111111,
              "#46039f"
             ],
             [
              0.2222222222222222,
              "#7201a8"
             ],
             [
              0.3333333333333333,
              "#9c179e"
             ],
             [
              0.4444444444444444,
              "#bd3786"
             ],
             [
              0.5555555555555556,
              "#d8576b"
             ],
             [
              0.6666666666666666,
              "#ed7953"
             ],
             [
              0.7777777777777778,
              "#fb9f3a"
             ],
             [
              0.8888888888888888,
              "#fdca26"
             ],
             [
              1,
              "#f0f921"
             ]
            ],
            "type": "histogram2d"
           }
          ],
          "histogram2dcontour": [
           {
            "colorbar": {
             "outlinewidth": 0,
             "ticks": ""
            },
            "colorscale": [
             [
              0,
              "#0d0887"
             ],
             [
              0.1111111111111111,
              "#46039f"
             ],
             [
              0.2222222222222222,
              "#7201a8"
             ],
             [
              0.3333333333333333,
              "#9c179e"
             ],
             [
              0.4444444444444444,
              "#bd3786"
             ],
             [
              0.5555555555555556,
              "#d8576b"
             ],
             [
              0.6666666666666666,
              "#ed7953"
             ],
             [
              0.7777777777777778,
              "#fb9f3a"
             ],
             [
              0.8888888888888888,
              "#fdca26"
             ],
             [
              1,
              "#f0f921"
             ]
            ],
            "type": "histogram2dcontour"
           }
          ],
          "mesh3d": [
           {
            "colorbar": {
             "outlinewidth": 0,
             "ticks": ""
            },
            "type": "mesh3d"
           }
          ],
          "parcoords": [
           {
            "line": {
             "colorbar": {
              "outlinewidth": 0,
              "ticks": ""
             }
            },
            "type": "parcoords"
           }
          ],
          "pie": [
           {
            "automargin": true,
            "type": "pie"
           }
          ],
          "scatter": [
           {
            "marker": {
             "colorbar": {
              "outlinewidth": 0,
              "ticks": ""
             }
            },
            "type": "scatter"
           }
          ],
          "scatter3d": [
           {
            "line": {
             "colorbar": {
              "outlinewidth": 0,
              "ticks": ""
             }
            },
            "marker": {
             "colorbar": {
              "outlinewidth": 0,
              "ticks": ""
             }
            },
            "type": "scatter3d"
           }
          ],
          "scattercarpet": [
           {
            "marker": {
             "colorbar": {
              "outlinewidth": 0,
              "ticks": ""
             }
            },
            "type": "scattercarpet"
           }
          ],
          "scattergeo": [
           {
            "marker": {
             "colorbar": {
              "outlinewidth": 0,
              "ticks": ""
             }
            },
            "type": "scattergeo"
           }
          ],
          "scattergl": [
           {
            "marker": {
             "colorbar": {
              "outlinewidth": 0,
              "ticks": ""
             }
            },
            "type": "scattergl"
           }
          ],
          "scattermapbox": [
           {
            "marker": {
             "colorbar": {
              "outlinewidth": 0,
              "ticks": ""
             }
            },
            "type": "scattermapbox"
           }
          ],
          "scatterpolar": [
           {
            "marker": {
             "colorbar": {
              "outlinewidth": 0,
              "ticks": ""
             }
            },
            "type": "scatterpolar"
           }
          ],
          "scatterpolargl": [
           {
            "marker": {
             "colorbar": {
              "outlinewidth": 0,
              "ticks": ""
             }
            },
            "type": "scatterpolargl"
           }
          ],
          "scatterternary": [
           {
            "marker": {
             "colorbar": {
              "outlinewidth": 0,
              "ticks": ""
             }
            },
            "type": "scatterternary"
           }
          ],
          "surface": [
           {
            "colorbar": {
             "outlinewidth": 0,
             "ticks": ""
            },
            "colorscale": [
             [
              0,
              "#0d0887"
             ],
             [
              0.1111111111111111,
              "#46039f"
             ],
             [
              0.2222222222222222,
              "#7201a8"
             ],
             [
              0.3333333333333333,
              "#9c179e"
             ],
             [
              0.4444444444444444,
              "#bd3786"
             ],
             [
              0.5555555555555556,
              "#d8576b"
             ],
             [
              0.6666666666666666,
              "#ed7953"
             ],
             [
              0.7777777777777778,
              "#fb9f3a"
             ],
             [
              0.8888888888888888,
              "#fdca26"
             ],
             [
              1,
              "#f0f921"
             ]
            ],
            "type": "surface"
           }
          ],
          "table": [
           {
            "cells": {
             "fill": {
              "color": "#EBF0F8"
             },
             "line": {
              "color": "white"
             }
            },
            "header": {
             "fill": {
              "color": "#C8D4E3"
             },
             "line": {
              "color": "white"
             }
            },
            "type": "table"
           }
          ]
         },
         "layout": {
          "annotationdefaults": {
           "arrowcolor": "#2a3f5f",
           "arrowhead": 0,
           "arrowwidth": 1
          },
          "autotypenumbers": "strict",
          "coloraxis": {
           "colorbar": {
            "outlinewidth": 0,
            "ticks": ""
           }
          },
          "colorscale": {
           "diverging": [
            [
             0,
             "#8e0152"
            ],
            [
             0.1,
             "#c51b7d"
            ],
            [
             0.2,
             "#de77ae"
            ],
            [
             0.3,
             "#f1b6da"
            ],
            [
             0.4,
             "#fde0ef"
            ],
            [
             0.5,
             "#f7f7f7"
            ],
            [
             0.6,
             "#e6f5d0"
            ],
            [
             0.7,
             "#b8e186"
            ],
            [
             0.8,
             "#7fbc41"
            ],
            [
             0.9,
             "#4d9221"
            ],
            [
             1,
             "#276419"
            ]
           ],
           "sequential": [
            [
             0,
             "#0d0887"
            ],
            [
             0.1111111111111111,
             "#46039f"
            ],
            [
             0.2222222222222222,
             "#7201a8"
            ],
            [
             0.3333333333333333,
             "#9c179e"
            ],
            [
             0.4444444444444444,
             "#bd3786"
            ],
            [
             0.5555555555555556,
             "#d8576b"
            ],
            [
             0.6666666666666666,
             "#ed7953"
            ],
            [
             0.7777777777777778,
             "#fb9f3a"
            ],
            [
             0.8888888888888888,
             "#fdca26"
            ],
            [
             1,
             "#f0f921"
            ]
           ],
           "sequentialminus": [
            [
             0,
             "#0d0887"
            ],
            [
             0.1111111111111111,
             "#46039f"
            ],
            [
             0.2222222222222222,
             "#7201a8"
            ],
            [
             0.3333333333333333,
             "#9c179e"
            ],
            [
             0.4444444444444444,
             "#bd3786"
            ],
            [
             0.5555555555555556,
             "#d8576b"
            ],
            [
             0.6666666666666666,
             "#ed7953"
            ],
            [
             0.7777777777777778,
             "#fb9f3a"
            ],
            [
             0.8888888888888888,
             "#fdca26"
            ],
            [
             1,
             "#f0f921"
            ]
           ]
          },
          "colorway": [
           "#636efa",
           "#EF553B",
           "#00cc96",
           "#ab63fa",
           "#FFA15A",
           "#19d3f3",
           "#FF6692",
           "#B6E880",
           "#FF97FF",
           "#FECB52"
          ],
          "font": {
           "color": "#2a3f5f"
          },
          "geo": {
           "bgcolor": "white",
           "lakecolor": "white",
           "landcolor": "#E5ECF6",
           "showlakes": true,
           "showland": true,
           "subunitcolor": "white"
          },
          "hoverlabel": {
           "align": "left"
          },
          "hovermode": "closest",
          "mapbox": {
           "style": "light"
          },
          "paper_bgcolor": "white",
          "plot_bgcolor": "#E5ECF6",
          "polar": {
           "angularaxis": {
            "gridcolor": "white",
            "linecolor": "white",
            "ticks": ""
           },
           "bgcolor": "#E5ECF6",
           "radialaxis": {
            "gridcolor": "white",
            "linecolor": "white",
            "ticks": ""
           }
          },
          "scene": {
           "xaxis": {
            "backgroundcolor": "#E5ECF6",
            "gridcolor": "white",
            "gridwidth": 2,
            "linecolor": "white",
            "showbackground": true,
            "ticks": "",
            "zerolinecolor": "white"
           },
           "yaxis": {
            "backgroundcolor": "#E5ECF6",
            "gridcolor": "white",
            "gridwidth": 2,
            "linecolor": "white",
            "showbackground": true,
            "ticks": "",
            "zerolinecolor": "white"
           },
           "zaxis": {
            "backgroundcolor": "#E5ECF6",
            "gridcolor": "white",
            "gridwidth": 2,
            "linecolor": "white",
            "showbackground": true,
            "ticks": "",
            "zerolinecolor": "white"
           }
          },
          "shapedefaults": {
           "line": {
            "color": "#2a3f5f"
           }
          },
          "ternary": {
           "aaxis": {
            "gridcolor": "white",
            "linecolor": "white",
            "ticks": ""
           },
           "baxis": {
            "gridcolor": "white",
            "linecolor": "white",
            "ticks": ""
           },
           "bgcolor": "#E5ECF6",
           "caxis": {
            "gridcolor": "white",
            "linecolor": "white",
            "ticks": ""
           }
          },
          "title": {
           "x": 0.05
          },
          "xaxis": {
           "automargin": true,
           "gridcolor": "white",
           "linecolor": "white",
           "ticks": "",
           "title": {
            "standoff": 15
           },
           "zerolinecolor": "white",
           "zerolinewidth": 2
          },
          "yaxis": {
           "automargin": true,
           "gridcolor": "white",
           "linecolor": "white",
           "ticks": "",
           "title": {
            "standoff": 15
           },
           "zerolinecolor": "white",
           "zerolinewidth": 2
          }
         }
        },
        "title": {
         "text": "Global CO2 Emissions Per Capita"
        },
        "width": 1500,
        "xaxis": {
         "anchor": "y",
         "autorange": true,
         "domain": [
          0,
          1
         ],
         "range": [
          "1749-07-02 12:00",
          "2020-07-01 12:00"
         ],
         "title": {
          "text": "Year"
         },
         "type": "date"
        },
        "yaxis": {
         "anchor": "x",
         "autorange": true,
         "domain": [
          0,
          1
         ],
         "range": [
          0,
          5.166391578947368
         ],
         "title": {
          "text": "Per Capita"
         },
         "type": "linear"
        }
       }
      },
      "image/png": "[encoded data removed]",
      "text/html": [
       "<div>                            <div id=\"722746e3-2369-4908-bab3-c9d075829b4d\" class=\"plotly-graph-div\" style=\"height:800px; width:1500px;\"></div>            <script type=\"text/javascript\">                require([\"plotly\"], function(Plotly) {                    window.PLOTLYENV=window.PLOTLYENV || {};                                    if (document.getElementById(\"722746e3-2369-4908-bab3-c9d075829b4d\")) {                    Plotly.newPlot(                        \"722746e3-2369-4908-bab3-c9d075829b4d\",                        [{\"alignmentgroup\":\"True\",\"hovertemplate\":\"Year=%{x}<br>Per Capita=%{y}<extra></extra>\",\"legendgroup\":\"\",\"marker\":{\"color\":\"#636efa\",\"pattern\":{\"shape\":\"\"}},\"name\":\"\",\"offsetgroup\":\"\",\"orientation\":\"v\",\"showlegend\":false,\"textposition\":\"auto\",\"x\":[\"1750-01-01T00:00:00\",\"1751-01-01T00:00:00\",\"1752-01-01T00:00:00\",\"1753-01-01T00:00:00\",\"1754-01-01T00:00:00\",\"1755-01-01T00:00:00\",\"1756-01-01T00:00:00\",\"1757-01-01T00:00:00\",\"1758-01-01T00:00:00\",\"1759-01-01T00:00:00\",\"1760-01-01T00:00:00\",\"1761-01-01T00:00:00\",\"1762-01-01T00:00:00\",\"1763-01-01T00:00:00\",\"1764-01-01T00:00:00\",\"1765-01-01T00:00:00\",\"1766-01-01T00:00:00\",\"1767-01-01T00:00:00\",\"1768-01-01T00:00:00\",\"1769-01-01T00:00:00\",\"1770-01-01T00:00:00\",\"1771-01-01T00:00:00\",\"1772-01-01T00:00:00\",\"1773-01-01T00:00:00\",\"1774-01-01T00:00:00\",\"1775-01-01T00:00:00\",\"1776-01-01T00:00:00\",\"1777-01-01T00:00:00\",\"1778-01-01T00:00:00\",\"1779-01-01T00:00:00\",\"1780-01-01T00:00:00\",\"1781-01-01T00:00:00\",\"1782-01-01T00:00:00\",\"1783-01-01T00:00:00\",\"1784-01-01T00:00:00\",\"1785-01-01T00:00:00\",\"1786-01-01T00:00:00\",\"1787-01-01T00:00:00\",\"1788-01-01T00:00:00\",\"1789-01-01T00:00:00\",\"1790-01-01T00:00:00\",\"1791-01-01T00:00:00\",\"1792-01-01T00:00:00\",\"1793-01-01T00:00:00\",\"1794-01-01T00:00:00\",\"1795-01-01T00:00:00\",\"1796-01-01T00:00:00\",\"1797-01-01T00:00:00\",\"1798-01-01T00:00:00\",\"1799-01-01T00:00:00\",\"1800-01-01T00:00:00\",\"1801-01-01T00:00:00\",\"1802-01-01T00:00:00\",\"1803-01-01T00:00:00\",\"1804-01-01T00:00:00\",\"1805-01-01T00:00:00\",\"1806-01-01T00:00:00\",\"1807-01-01T00:00:00\",\"1808-01-01T00:00:00\",\"1809-01-01T00:00:00\",\"1810-01-01T00:00:00\",\"1811-01-01T00:00:00\",\"1812-01-01T00:00:00\",\"1813-01-01T00:00:00\",\"1814-01-01T00:00:00\",\"1815-01-01T00:00:00\",\"1816-01-01T00:00:00\",\"1817-01-01T00:00:00\",\"1818-01-01T00:00:00\",\"1819-01-01T00:00:00\",\"1820-01-01T00:00:00\",\"1821-01-01T00:00:00\",\"1822-01-01T00:00:00\",\"1823-01-01T00:00:00\",\"1824-01-01T00:00:00\",\"1825-01-01T00:00:00\",\"1826-01-01T00:00:00\",\"1827-01-01T00:00:00\",\"1828-01-01T00:00:00\",\"1829-01-01T00:00:00\",\"1830-01-01T00:00:00\",\"1831-01-01T00:00:00\",\"1832-01-01T00:00:00\",\"1833-01-01T00:00:00\",\"1834-01-01T00:00:00\",\"1835-01-01T00:00:00\",\"1836-01-01T00:00:00\",\"1837-01-01T00:00:00\",\"1838-01-01T00:00:00\",\"1839-01-01T00:00:00\",\"1840-01-01T00:00:00\",\"1841-01-01T00:00:00\",\"1842-01-01T00:00:00\",\"1843-01-01T00:00:00\",\"1844-01-01T00:00:00\",\"1845-01-01T00:00:00\",\"1846-01-01T00:00:00\",\"1847-01-01T00:00:00\",\"1848-01-01T00:00:00\",\"1849-01-01T00:00:00\",\"1850-01-01T00:00:00\",\"1851-01-01T00:00:00\",\"1852-01-01T00:00:00\",\"1853-01-01T00:00:00\",\"1854-01-01T00:00:00\",\"1855-01-01T00:00:00\",\"1856-01-01T00:00:00\",\"1857-01-01T00:00:00\",\"1858-01-01T00:00:00\",\"1859-01-01T00:00:00\",\"1860-01-01T00:00:00\",\"1861-01-01T00:00:00\",\"1862-01-01T00:00:00\",\"1863-01-01T00:00:00\",\"1864-01-01T00:00:00\",\"1865-01-01T00:00:00\",\"1866-01-01T00:00:00\",\"1867-01-01T00:00:00\",\"1868-01-01T00:00:00\",\"1869-01-01T00:00:00\",\"1870-01-01T00:00:00\",\"1871-01-01T00:00:00\",\"1872-01-01T00:00:00\",\"1873-01-01T00:00:00\",\"1874-01-01T00:00:00\",\"1875-01-01T00:00:00\",\"1876-01-01T00:00:00\",\"1877-01-01T00:00:00\",\"1878-01-01T00:00:00\",\"1879-01-01T00:00:00\",\"1880-01-01T00:00:00\",\"1881-01-01T00:00:00\",\"1882-01-01T00:00:00\",\"1883-01-01T00:00:00\",\"1884-01-01T00:00:00\",\"1885-01-01T00:00:00\",\"1886-01-01T00:00:00\",\"1887-01-01T00:00:00\",\"1888-01-01T00:00:00\",\"1889-01-01T00:00:00\",\"1890-01-01T00:00:00\",\"1891-01-01T00:00:00\",\"1892-01-01T00:00:00\",\"1893-01-01T00:00:00\",\"1894-01-01T00:00:00\",\"1895-01-01T00:00:00\",\"1896-01-01T00:00:00\",\"1897-01-01T00:00:00\",\"1898-01-01T00:00:00\",\"1899-01-01T00:00:00\",\"1900-01-01T00:00:00\",\"1901-01-01T00:00:00\",\"1902-01-01T00:00:00\",\"1903-01-01T00:00:00\",\"1904-01-01T00:00:00\",\"1905-01-01T00:00:00\",\"1906-01-01T00:00:00\",\"1907-01-01T00:00:00\",\"1908-01-01T00:00:00\",\"1909-01-01T00:00:00\",\"1910-01-01T00:00:00\",\"1911-01-01T00:00:00\",\"1912-01-01T00:00:00\",\"1913-01-01T00:00:00\",\"1914-01-01T00:00:00\",\"1915-01-01T00:00:00\",\"1916-01-01T00:00:00\",\"1917-01-01T00:00:00\",\"1918-01-01T00:00:00\",\"1919-01-01T00:00:00\",\"1920-01-01T00:00:00\",\"1921-01-01T00:00:00\",\"1922-01-01T00:00:00\",\"1923-01-01T00:00:00\",\"1924-01-01T00:00:00\",\"1925-01-01T00:00:00\",\"1926-01-01T00:00:00\",\"1927-01-01T00:00:00\",\"1928-01-01T00:00:00\",\"1929-01-01T00:00:00\",\"1930-01-01T00:00:00\",\"1931-01-01T00:00:00\",\"1932-01-01T00:00:00\",\"1933-01-01T00:00:00\",\"1934-01-01T00:00:00\",\"1935-01-01T00:00:00\",\"1936-01-01T00:00:00\",\"1937-01-01T00:00:00\",\"1938-01-01T00:00:00\",\"1939-01-01T00:00:00\",\"1940-01-01T00:00:00\",\"1941-01-01T00:00:00\",\"1942-01-01T00:00:00\",\"1943-01-01T00:00:00\",\"1944-01-01T00:00:00\",\"1945-01-01T00:00:00\",\"1946-01-01T00:00:00\",\"1947-01-01T00:00:00\",\"1948-01-01T00:00:00\",\"1949-01-01T00:00:00\",\"1950-01-01T00:00:00\",\"1951-01-01T00:00:00\",\"1952-01-01T00:00:00\",\"1953-01-01T00:00:00\",\"1954-01-01T00:00:00\",\"1955-01-01T00:00:00\",\"1956-01-01T00:00:00\",\"1957-01-01T00:00:00\",\"1958-01-01T00:00:00\",\"1959-01-01T00:00:00\",\"1960-01-01T00:00:00\",\"1961-01-01T00:00:00\",\"1962-01-01T00:00:00\",\"1963-01-01T00:00:00\",\"1964-01-01T00:00:00\",\"1965-01-01T00:00:00\",\"1966-01-01T00:00:00\",\"1967-01-01T00:00:00\",\"1968-01-01T00:00:00\",\"1969-01-01T00:00:00\",\"1970-01-01T00:00:00\",\"1971-01-01T00:00:00\",\"1972-01-01T00:00:00\",\"1973-01-01T00:00:00\",\"1974-01-01T00:00:00\",\"1975-01-01T00:00:00\",\"1976-01-01T00:00:00\",\"1977-01-01T00:00:00\",\"1978-01-01T00:00:00\",\"1979-01-01T00:00:00\",\"1980-01-01T00:00:00\",\"1981-01-01T00:00:00\",\"1982-01-01T00:00:00\",\"1983-01-01T00:00:00\",\"1984-01-01T00:00:00\",\"1985-01-01T00:00:00\",\"1986-01-01T00:00:00\",\"1987-01-01T00:00:00\",\"1988-01-01T00:00:00\",\"1989-01-01T00:00:00\",\"1990-01-01T00:00:00\",\"1991-01-01T00:00:00\",\"1992-01-01T00:00:00\",\"1993-01-01T00:00:00\",\"1994-01-01T00:00:00\",\"1995-01-01T00:00:00\",\"1996-01-01T00:00:00\",\"1997-01-01T00:00:00\",\"1998-01-01T00:00:00\",\"1999-01-01T00:00:00\",\"2000-01-01T00:00:00\",\"2001-01-01T00:00:00\",\"2002-01-01T00:00:00\",\"2003-01-01T00:00:00\",\"2004-01-01T00:00:00\",\"2005-01-01T00:00:00\",\"2006-01-01T00:00:00\",\"2007-01-01T00:00:00\",\"2008-01-01T00:00:00\",\"2009-01-01T00:00:00\",\"2010-01-01T00:00:00\",\"2011-01-01T00:00:00\",\"2012-01-01T00:00:00\",\"2013-01-01T00:00:00\",\"2014-01-01T00:00:00\",\"2015-01-01T00:00:00\",\"2016-01-01T00:00:00\",\"2017-01-01T00:00:00\",\"2018-01-01T00:00:00\",\"2019-01-01T00:00:00\",\"2020-01-01T00:00:00\"],\"xaxis\":\"x\",\"y\":[0.011492,0.011438,0.01139,0.011339,0.011294,0.011249,0.011973,0.011927,0.011881,0.011837,0.01179,0.012864,0.012817,0.012772,0.012727,0.012682,0.014096,0.014048,0.014,0.013952,0.013905,0.015364,0.015312,0.01526,0.015209,0.015158,0.016667,0.016611,0.016555,0.016499,0.016447,0.018333,0.01827,0.018211,0.018148,0.018092,0.020464,0.020395,0.020322,0.020252,0.020182,0.022454,0.022863,0.022792,0.022667,0.022586,0.023582,0.024654,0.02557,0.026815,0.028381,0.028125,0.036838,0.031397,0.034058,0.033026,0.034478,0.036112,0.034183,0.034051,0.036105,0.038055,0.039241,0.039259,0.039935,0.041028,0.044754,0.04619,0.046166,0.046224,0.046682,0.04714,0.048761,0.051322,0.052853,0.054598,0.054921,0.058649,0.058996,0.058489,0.078119,0.073721,0.073857,0.074951,0.076015,0.077308,0.089104,0.088583,0.090957,0.093486,0.09911,0.101666,0.10683,0.109036,0.11548,0.126094,0.127541,0.13864,0.139067,0.146077,0.155935,0.156647,0.162709,0.169417,0.197994,0.200872,0.213011,0.213918,0.21609,0.227963,0.248883,0.260419,0.263804,0.280104,0.300231,0.317196,0.325542,0.346993,0.354549,0.374548,0.380759,0.402678,0.443188,0.468346,0.436178,0.470644,0.474901,0.481702,0.482742,0.514559,0.578785,0.594993,0.62495,0.660943,0.664687,0.665946,0.672599,0.702276,0.773234,0.768548,0.832556,0.8663,0.868415,0.853034,0.877623,0.925051,0.949577,0.988623,1.036537,1.125558,1.179998,1.211371,1.233801,1.336831,1.342443,1.418923,1.479247,1.660018,1.585469,1.636454,1.703596,1.722066,1.790802,1.923657,1.732864,1.697088,1.818652,1.888098,1.848214,1.589283,1.834411,1.595565,1.659464,1.866701,1.855893,1.859435,1.808862,1.957479,1.93009,2.053277,1.875362,1.659847,1.481572,1.544849,1.663565,1.728351,1.880036,1.990123,1.854014,1.942216,2.101948,2.12962,2.103216,2.121369,2.138732,1.763571,1.908456,2.093382,2.181441,2.093627,2.366805,2.468913,2.457634,2.48271,2.49186,2.684152,2.807571,2.848817,2.877137,2.972298,3.092945,3.045905,3.094843,3.198854,3.307553,3.388816,3.481846,3.51936,3.634958,3.796962,4.025894,4.104675,4.211481,4.348205,4.248369,4.178595,4.32862,4.37274,4.429694,4.476656,4.372498,4.193724,4.087975,4.042505,4.108836,4.171178,4.156706,4.209025,4.295349,4.278202,4.270431,4.291995,4.104374,4.085478,4.05509,4.083056,4.146851,4.115218,4.044629,4.043205,4.107468,4.090082,4.132042,4.288658,4.430711,4.525099,4.617415,4.69639,4.723674,4.598882,4.792891,4.895256,4.908072,4.893229,4.870874,4.809943,4.74978,4.759726,4.802215,4.758236,4.465447],\"yaxis\":\"y\",\"type\":\"bar\"}],                        {\"template\":{\"data\":{\"bar\":[{\"error_x\":{\"color\":\"#2a3f5f\"},\"error_y\":{\"color\":\"#2a3f5f\"},\"marker\":{\"line\":{\"color\":\"#E5ECF6\",\"width\":0.5},\"pattern\":{\"fillmode\":\"overlay\",\"size\":10,\"solidity\":0.2}},\"type\":\"bar\"}],\"barpolar\":[{\"marker\":{\"line\":{\"color\":\"#E5ECF6\",\"width\":0.5},\"pattern\":{\"fillmode\":\"overlay\",\"size\":10,\"solidity\":0.2}},\"type\":\"barpolar\"}],\"carpet\":[{\"aaxis\":{\"endlinecolor\":\"#2a3f5f\",\"gridcolor\":\"white\",\"linecolor\":\"white\",\"minorgridcolor\":\"white\",\"startlinecolor\":\"#2a3f5f\"},\"baxis\":{\"endlinecolor\":\"#2a3f5f\",\"gridcolor\":\"white\",\"linecolor\":\"white\",\"minorgridcolor\":\"white\",\"startlinecolor\":\"#2a3f5f\"},\"type\":\"carpet\"}],\"choropleth\":[{\"colorbar\":{\"outlinewidth\":0,\"ticks\":\"\"},\"type\":\"choropleth\"}],\"contour\":[{\"colorbar\":{\"outlinewidth\":0,\"ticks\":\"\"},\"colorscale\":[[0.0,\"#0d0887\"],[0.1111111111111111,\"#46039f\"],[0.2222222222222222,\"#7201a8\"],[0.3333333333333333,\"#9c179e\"],[0.4444444444444444,\"#bd3786\"],[0.5555555555555556,\"#d8576b\"],[0.6666666666666666,\"#ed7953\"],[0.7777777777777778,\"#fb9f3a\"],[0.8888888888888888,\"#fdca26\"],[1.0,\"#f0f921\"]],\"type\":\"contour\"}],\"contourcarpet\":[{\"colorbar\":{\"outlinewidth\":0,\"ticks\":\"\"},\"type\":\"contourcarpet\"}],\"heatmap\":[{\"colorbar\":{\"outlinewidth\":0,\"ticks\":\"\"},\"colorscale\":[[0.0,\"#0d0887\"],[0.1111111111111111,\"#46039f\"],[0.2222222222222222,\"#7201a8\"],[0.3333333333333333,\"#9c179e\"],[0.4444444444444444,\"#bd3786\"],[0.5555555555555556,\"#d8576b\"],[0.6666666666666666,\"#ed7953\"],[0.7777777777777778,\"#fb9f3a\"],[0.8888888888888888,\"#fdca26\"],[1.0,\"#f0f921\"]],\"type\":\"heatmap\"}],\"heatmapgl\":[{\"colorbar\":{\"outlinewidth\":0,\"ticks\":\"\"},\"colorscale\":[[0.0,\"#0d0887\"],[0.1111111111111111,\"#46039f\"],[0.2222222222222222,\"#7201a8\"],[0.3333333333333333,\"#9c179e\"],[0.4444444444444444,\"#bd3786\"],[0.5555555555555556,\"#d8576b\"],[0.6666666666666666,\"#ed7953\"],[0.7777777777777778,\"#fb9f3a\"],[0.8888888888888888,\"#fdca26\"],[1.0,\"#f0f921\"]],\"type\":\"heatmapgl\"}],\"histogram\":[{\"marker\":{\"pattern\":{\"fillmode\":\"overlay\",\"size\":10,\"solidity\":0.2}},\"type\":\"histogram\"}],\"histogram2d\":[{\"colorbar\":{\"outlinewidth\":0,\"ticks\":\"\"},\"colorscale\":[[0.0,\"#0d0887\"],[0.1111111111111111,\"#46039f\"],[0.2222222222222222,\"#7201a8\"],[0.3333333333333333,\"#9c179e\"],[0.4444444444444444,\"#bd3786\"],[0.5555555555555556,\"#d8576b\"],[0.6666666666666666,\"#ed7953\"],[0.7777777777777778,\"#fb9f3a\"],[0.8888888888888888,\"#fdca26\"],[1.0,\"#f0f921\"]],\"type\":\"histogram2d\"}],\"histogram2dcontour\":[{\"colorbar\":{\"outlinewidth\":0,\"ticks\":\"\"},\"colorscale\":[[0.0,\"#0d0887\"],[0.1111111111111111,\"#46039f\"],[0.2222222222222222,\"#7201a8\"],[0.3333333333333333,\"#9c179e\"],[0.4444444444444444,\"#bd3786\"],[0.5555555555555556,\"#d8576b\"],[0.6666666666666666,\"#ed7953\"],[0.7777777777777778,\"#fb9f3a\"],[0.8888888888888888,\"#fdca26\"],[1.0,\"#f0f921\"]],\"type\":\"histogram2dcontour\"}],\"mesh3d\":[{\"colorbar\":{\"outlinewidth\":0,\"ticks\":\"\"},\"type\":\"mesh3d\"}],\"parcoords\":[{\"line\":{\"colorbar\":{\"outlinewidth\":0,\"ticks\":\"\"}},\"type\":\"parcoords\"}],\"pie\":[{\"automargin\":true,\"type\":\"pie\"}],\"scatter\":[{\"marker\":{\"colorbar\":{\"outlinewidth\":0,\"ticks\":\"\"}},\"type\":\"scatter\"}],\"scatter3d\":[{\"line\":{\"colorbar\":{\"outlinewidth\":0,\"ticks\":\"\"}},\"marker\":{\"colorbar\":{\"outlinewidth\":0,\"ticks\":\"\"}},\"type\":\"scatter3d\"}],\"scattercarpet\":[{\"marker\":{\"colorbar\":{\"outlinewidth\":0,\"ticks\":\"\"}},\"type\":\"scattercarpet\"}],\"scattergeo\":[{\"marker\":{\"colorbar\":{\"outlinewidth\":0,\"ticks\":\"\"}},\"type\":\"scattergeo\"}],\"scattergl\":[{\"marker\":{\"colorbar\":{\"outlinewidth\":0,\"ticks\":\"\"}},\"type\":\"scattergl\"}],\"scattermapbox\":[{\"marker\":{\"colorbar\":{\"outlinewidth\":0,\"ticks\":\"\"}},\"type\":\"scattermapbox\"}],\"scatterpolar\":[{\"marker\":{\"colorbar\":{\"outlinewidth\":0,\"ticks\":\"\"}},\"type\":\"scatterpolar\"}],\"scatterpolargl\":[{\"marker\":{\"colorbar\":{\"outlinewidth\":0,\"ticks\":\"\"}},\"type\":\"scatterpolargl\"}],\"scatterternary\":[{\"marker\":{\"colorbar\":{\"outlinewidth\":0,\"ticks\":\"\"}},\"type\":\"scatterternary\"}],\"surface\":[{\"colorbar\":{\"outlinewidth\":0,\"ticks\":\"\"},\"colorscale\":[[0.0,\"#0d0887\"],[0.1111111111111111,\"#46039f\"],[0.2222222222222222,\"#7201a8\"],[0.3333333333333333,\"#9c179e\"],[0.4444444444444444,\"#bd3786\"],[0.5555555555555556,\"#d8576b\"],[0.6666666666666666,\"#ed7953\"],[0.7777777777777778,\"#fb9f3a\"],[0.8888888888888888,\"#fdca26\"],[1.0,\"#f0f921\"]],\"type\":\"surface\"}],\"table\":[{\"cells\":{\"fill\":{\"color\":\"#EBF0F8\"},\"line\":{\"color\":\"white\"}},\"header\":{\"fill\":{\"color\":\"#C8D4E3\"},\"line\":{\"color\":\"white\"}},\"type\":\"table\"}]},\"layout\":{\"annotationdefaults\":{\"arrowcolor\":\"#2a3f5f\",\"arrowhead\":0,\"arrowwidth\":1},\"autotypenumbers\":\"strict\",\"coloraxis\":{\"colorbar\":{\"outlinewidth\":0,\"ticks\":\"\"}},\"colorscale\":{\"diverging\":[[0,\"#8e0152\"],[0.1,\"#c51b7d\"],[0.2,\"#de77ae\"],[0.3,\"#f1b6da\"],[0.4,\"#fde0ef\"],[0.5,\"#f7f7f7\"],[0.6,\"#e6f5d0\"],[0.7,\"#b8e186\"],[0.8,\"#7fbc41\"],[0.9,\"#4d9221\"],[1,\"#276419\"]],\"sequential\":[[0.0,\"#0d0887\"],[0.1111111111111111,\"#46039f\"],[0.2222222222222222,\"#7201a8\"],[0.3333333333333333,\"#9c179e\"],[0.4444444444444444,\"#bd3786\"],[0.5555555555555556,\"#d8576b\"],[0.6666666666666666,\"#ed7953\"],[0.7777777777777778,\"#fb9f3a\"],[0.8888888888888888,\"#fdca26\"],[1.0,\"#f0f921\"]],\"sequentialminus\":[[0.0,\"#0d0887\"],[0.1111111111111111,\"#46039f\"],[0.2222222222222222,\"#7201a8\"],[0.3333333333333333,\"#9c179e\"],[0.4444444444444444,\"#bd3786\"],[0.5555555555555556,\"#d8576b\"],[0.6666666666666666,\"#ed7953\"],[0.7777777777777778,\"#fb9f3a\"],[0.8888888888888888,\"#fdca26\"],[1.0,\"#f0f921\"]]},\"colorway\":[\"#636efa\",\"#EF553B\",\"#00cc96\",\"#ab63fa\",\"#FFA15A\",\"#19d3f3\",\"#FF6692\",\"#B6E880\",\"#FF97FF\",\"#FECB52\"],\"font\":{\"color\":\"#2a3f5f\"},\"geo\":{\"bgcolor\":\"white\",\"lakecolor\":\"white\",\"landcolor\":\"#E5ECF6\",\"showlakes\":true,\"showland\":true,\"subunitcolor\":\"white\"},\"hoverlabel\":{\"align\":\"left\"},\"hovermode\":\"closest\",\"mapbox\":{\"style\":\"light\"},\"paper_bgcolor\":\"white\",\"plot_bgcolor\":\"#E5ECF6\",\"polar\":{\"angularaxis\":{\"gridcolor\":\"white\",\"linecolor\":\"white\",\"ticks\":\"\"},\"bgcolor\":\"#E5ECF6\",\"radialaxis\":{\"gridcolor\":\"white\",\"linecolor\":\"white\",\"ticks\":\"\"}},\"scene\":{\"xaxis\":{\"backgroundcolor\":\"#E5ECF6\",\"gridcolor\":\"white\",\"gridwidth\":2,\"linecolor\":\"white\",\"showbackground\":true,\"ticks\":\"\",\"zerolinecolor\":\"white\"},\"yaxis\":{\"backgroundcolor\":\"#E5ECF6\",\"gridcolor\":\"white\",\"gridwidth\":2,\"linecolor\":\"white\",\"showbackground\":true,\"ticks\":\"\",\"zerolinecolor\":\"white\"},\"zaxis\":{\"backgroundcolor\":\"#E5ECF6\",\"gridcolor\":\"white\",\"gridwidth\":2,\"linecolor\":\"white\",\"showbackground\":true,\"ticks\":\"\",\"zerolinecolor\":\"white\"}},\"shapedefaults\":{\"line\":{\"color\":\"#2a3f5f\"}},\"ternary\":{\"aaxis\":{\"gridcolor\":\"white\",\"linecolor\":\"white\",\"ticks\":\"\"},\"baxis\":{\"gridcolor\":\"white\",\"linecolor\":\"white\",\"ticks\":\"\"},\"bgcolor\":\"#E5ECF6\",\"caxis\":{\"gridcolor\":\"white\",\"linecolor\":\"white\",\"ticks\":\"\"}},\"title\":{\"x\":0.05},\"xaxis\":{\"automargin\":true,\"gridcolor\":\"white\",\"linecolor\":\"white\",\"ticks\":\"\",\"title\":{\"standoff\":15},\"zerolinecolor\":\"white\",\"zerolinewidth\":2},\"yaxis\":{\"automargin\":true,\"gridcolor\":\"white\",\"linecolor\":\"white\",\"ticks\":\"\",\"title\":{\"standoff\":15},\"zerolinecolor\":\"white\",\"zerolinewidth\":2}}},\"xaxis\":{\"anchor\":\"y\",\"domain\":[0.0,1.0],\"title\":{\"text\":\"Year\"}},\"yaxis\":{\"anchor\":\"x\",\"domain\":[0.0,1.0],\"title\":{\"text\":\"Per Capita\"}},\"legend\":{\"tracegroupgap\":0},\"title\":{\"text\":\"Global CO2 Emissions Per Capita\"},\"barmode\":\"relative\",\"height\":800,\"width\":1500},                        {\"responsive\": true}                    ).then(function(){\n",
       "                            \n",
       "var gd = document.getElementById('722746e3-2369-4908-bab3-c9d075829b4d');\n",
       "var x = new MutationObserver(function (mutations, observer) {{\n",
       "        var display = window.getComputedStyle(gd).display;\n",
       "        if (!display || display === 'none') {{\n",
       "            console.log([gd, 'removed!']);\n",
       "            Plotly.purge(gd);\n",
       "            observer.disconnect();\n",
       "        }}\n",
       "}});\n",
       "\n",
       "// Listen for the removal of the full notebook cells\n",
       "var notebookContainer = gd.closest('#notebook-container');\n",
       "if (notebookContainer) {{\n",
       "    x.observe(notebookContainer, {childList: true});\n",
       "}}\n",
       "\n",
       "// Listen for the clearing of the current output cell\n",
       "var outputEl = gd.closest('.output');\n",
       "if (outputEl) {{\n",
       "    x.observe(outputEl, {childList: true});\n",
       "}}\n",
       "\n",
       "                        })                };                });            </script>        </div>"
      ]
     },
     "metadata": {},
     "output_type": "display_data"
    }
   ],
   "source": [
    "co2_per_capita = co2_percapita.groupby(\"Year\").sum().reset_index()\n",
    "co2_percapita_plot = px.bar(\n",
    "    co2_per_capita, x=\"Year\", y=\"CO2 Per Capita\", title=\"Global CO2 Emissions Per Capita\", width=1500, height=800\n",
    ")\n",
    "co2_percapita_plot"
   ]
  },
  {
   "cell_type": "code",
   "execution_count": 67,
   "id": "f6857336",
   "metadata": {},
   "outputs": [
    {
     "data": {},
     "metadata": {},
     "output_type": "display_data"
    },
    {
     "data": {
      "application/vnd.holoviews_exec.v0+json": "",
      "text/html": [
       "<div id='3871'>\n",
       "\n",
       "\n",
       "\n",
       "\n",
       "\n",
       "  <div class=\"bk-root\" id=\"04527430-2db2-4719-8516-c7c215b370f8\" data-root-id=\"3871\"></div>\n",
       "</div>\n",
       "<script type=\"application/javascript\">(function(root) {\n",
       "  function embed_document(root) {\n",
       "    var docs_json = {\"1afca142-46e7-40e1-9d3d-ad6c6550cfdc\":{\"defs\":[{\"extends\":null,\"module\":null,\"name\":\"ReactiveHTML1\",\"overrides\":[],\"properties\":[]},{\"extends\":null,\"module\":null,\"name\":\"FlexBox1\",\"overrides\":[],\"properties\":[{\"default\":\"flex-start\",\"kind\":null,\"name\":\"align_content\"},{\"default\":\"flex-start\",\"kind\":null,\"name\":\"align_items\"},{\"default\":\"row\",\"kind\":null,\"name\":\"flex_direction\"},{\"default\":\"wrap\",\"kind\":null,\"name\":\"flex_wrap\"},{\"default\":\"flex-start\",\"kind\":null,\"name\":\"justify_content\"}]},{\"extends\":null,\"module\":null,\"name\":\"TemplateActions1\",\"overrides\":[],\"properties\":[{\"default\":0,\"kind\":null,\"name\":\"open_modal\"},{\"default\":0,\"kind\":null,\"name\":\"close_modal\"}]},{\"extends\":null,\"module\":null,\"name\":\"MaterialTemplateActions1\",\"overrides\":[],\"properties\":[{\"default\":0,\"kind\":null,\"name\":\"open_modal\"},{\"default\":0,\"kind\":null,\"name\":\"close_modal\"}]}],\"roots\":{\"references\":[{\"attributes\":{\"args\":{\"model\":{\"id\":\"3873\"}},\"code\":\"try { model.visibility = (cb_obj.active == 0); } catch { }\",\"tags\":[\"plotly_tab_fix3873\"]},\"id\":\"3900\",\"type\":\"CustomJS\"},{\"attributes\":{\"data\":[{\"alignmentgroup\":\"True\",\"hovertemplate\":\"Year=%{x}<br>Total=%{y}<extra></extra>\",\"legendgroup\":\"\",\"marker\":{\"color\":\"#636efa\",\"pattern\":{\"shape\":\"\"}},\"name\":\"\",\"offsetgroup\":\"\",\"orientation\":\"v\",\"showlegend\":false,\"textposition\":\"auto\",\"type\":\"bar\",\"xaxis\":\"x\",\"yaxis\":\"y\"}],\"data_sources\":[{\"id\":\"3872\"}],\"layout\":{\"barmode\":\"relative\",\"height\":800,\"legend\":{\"tracegroupgap\":0},\"template\":{\"data\":{\"bar\":[{\"error_x\":{\"color\":\"#2a3f5f\"},\"error_y\":{\"color\":\"#2a3f5f\"},\"marker\":{\"line\":{\"color\":\"#E5ECF6\",\"width\":0.5},\"pattern\":{\"fillmode\":\"overlay\",\"size\":10,\"solidity\":0.2}},\"type\":\"bar\"}],\"barpolar\":[{\"marker\":{\"line\":{\"color\":\"#E5ECF6\",\"width\":0.5},\"pattern\":{\"fillmode\":\"overlay\",\"size\":10,\"solidity\":0.2}},\"type\":\"barpolar\"}],\"carpet\":[{\"aaxis\":{\"endlinecolor\":\"#2a3f5f\",\"gridcolor\":\"white\",\"linecolor\":\"white\",\"minorgridcolor\":\"white\",\"startlinecolor\":\"#2a3f5f\"},\"baxis\":{\"endlinecolor\":\"#2a3f5f\",\"gridcolor\":\"white\",\"linecolor\":\"white\",\"minorgridcolor\":\"white\",\"startlinecolor\":\"#2a3f5f\"},\"type\":\"carpet\"}],\"choropleth\":[{\"colorbar\":{\"outlinewidth\":0,\"ticks\":\"\"},\"type\":\"choropleth\"}],\"contour\":[{\"colorbar\":{\"outlinewidth\":0,\"ticks\":\"\"},\"colorscale\":[[0.0,\"#0d0887\"],[0.1111111111111111,\"#46039f\"],[0.2222222222222222,\"#7201a8\"],[0.3333333333333333,\"#9c179e\"],[0.4444444444444444,\"#bd3786\"],[0.5555555555555556,\"#d8576b\"],[0.6666666666666666,\"#ed7953\"],[0.7777777777777778,\"#fb9f3a\"],[0.8888888888888888,\"#fdca26\"],[1.0,\"#f0f921\"]],\"type\":\"contour\"}],\"contourcarpet\":[{\"colorbar\":{\"outlinewidth\":0,\"ticks\":\"\"},\"type\":\"contourcarpet\"}],\"heatmap\":[{\"colorbar\":{\"outlinewidth\":0,\"ticks\":\"\"},\"colorscale\":[[0.0,\"#0d0887\"],[0.1111111111111111,\"#46039f\"],[0.2222222222222222,\"#7201a8\"],[0.3333333333333333,\"#9c179e\"],[0.4444444444444444,\"#bd3786\"],[0.5555555555555556,\"#d8576b\"],[0.6666666666666666,\"#ed7953\"],[0.7777777777777778,\"#fb9f3a\"],[0.8888888888888888,\"#fdca26\"],[1.0,\"#f0f921\"]],\"type\":\"heatmap\"}],\"heatmapgl\":[{\"colorbar\":{\"outlinewidth\":0,\"ticks\":\"\"},\"colorscale\":[[0.0,\"#0d0887\"],[0.1111111111111111,\"#46039f\"],[0.2222222222222222,\"#7201a8\"],[0.3333333333333333,\"#9c179e\"],[0.4444444444444444,\"#bd3786\"],[0.5555555555555556,\"#d8576b\"],[0.6666666666666666,\"#ed7953\"],[0.7777777777777778,\"#fb9f3a\"],[0.8888888888888888,\"#fdca26\"],[1.0,\"#f0f921\"]],\"type\":\"heatmapgl\"}],\"histogram\":[{\"marker\":{\"pattern\":{\"fillmode\":\"overlay\",\"size\":10,\"solidity\":0.2}},\"type\":\"histogram\"}],\"histogram2d\":[{\"colorbar\":{\"outlinewidth\":0,\"ticks\":\"\"},\"colorscale\":[[0.0,\"#0d0887\"],[0.1111111111111111,\"#46039f\"],[0.2222222222222222,\"#7201a8\"],[0.3333333333333333,\"#9c179e\"],[0.4444444444444444,\"#bd3786\"],[0.5555555555555556,\"#d8576b\"],[0.6666666666666666,\"#ed7953\"],[0.7777777777777778,\"#fb9f3a\"],[0.8888888888888888,\"#fdca26\"],[1.0,\"#f0f921\"]],\"type\":\"histogram2d\"}],\"histogram2dcontour\":[{\"colorbar\":{\"outlinewidth\":0,\"ticks\":\"\"},\"colorscale\":[[0.0,\"#0d0887\"],[0.1111111111111111,\"#46039f\"],[0.2222222222222222,\"#7201a8\"],[0.3333333333333333,\"#9c179e\"],[0.4444444444444444,\"#bd3786\"],[0.5555555555555556,\"#d8576b\"],[0.6666666666666666,\"#ed7953\"],[0.7777777777777778,\"#fb9f3a\"],[0.8888888888888888,\"#fdca26\"],[1.0,\"#f0f921\"]],\"type\":\"histogram2dcontour\"}],\"mesh3d\":[{\"colorbar\":{\"outlinewidth\":0,\"ticks\":\"\"},\"type\":\"mesh3d\"}],\"parcoords\":[{\"line\":{\"colorbar\":{\"outlinewidth\":0,\"ticks\":\"\"}},\"type\":\"parcoords\"}],\"pie\":[{\"automargin\":true,\"type\":\"pie\"}],\"scatter\":[{\"marker\":{\"colorbar\":{\"outlinewidth\":0,\"ticks\":\"\"}},\"type\":\"scatter\"}],\"scatter3d\":[{\"line\":{\"colorbar\":{\"outlinewidth\":0,\"ticks\":\"\"}},\"marker\":{\"colorbar\":{\"outlinewidth\":0,\"ticks\":\"\"}},\"type\":\"scatter3d\"}],\"scattercarpet\":[{\"marker\":{\"colorbar\":{\"outlinewidth\":0,\"ticks\":\"\"}},\"type\":\"scattercarpet\"}],\"scattergeo\":[{\"marker\":{\"colorbar\":{\"outlinewidth\":0,\"ticks\":\"\"}},\"type\":\"scattergeo\"}],\"scattergl\":[{\"marker\":{\"colorbar\":{\"outlinewidth\":0,\"ticks\":\"\"}},\"type\":\"scattergl\"}],\"scattermapbox\":[{\"marker\":{\"colorbar\":{\"outlinewidth\":0,\"ticks\":\"\"}},\"type\":\"scattermapbox\"}],\"scatterpolar\":[{\"marker\":{\"colorbar\":{\"outlinewidth\":0,\"ticks\":\"\"}},\"type\":\"scatterpolar\"}],\"scatterpolargl\":[{\"marker\":{\"colorbar\":{\"outlinewidth\":0,\"ticks\":\"\"}},\"type\":\"scatterpolargl\"}],\"scatterternary\":[{\"marker\":{\"colorbar\":{\"outlinewidth\":0,\"ticks\":\"\"}},\"type\":\"scatterternary\"}],\"surface\":[{\"colorbar\":{\"outlinewidth\":0,\"ticks\":\"\"},\"colorscale\":[[0.0,\"#0d0887\"],[0.1111111111111111,\"#46039f\"],[0.2222222222222222,\"#7201a8\"],[0.3333333333333333,\"#9c179e\"],[0.4444444444444444,\"#bd3786\"],[0.5555555555555556,\"#d8576b\"],[0.6666666666666666,\"#ed7953\"],[0.7777777777777778,\"#fb9f3a\"],[0.8888888888888888,\"#fdca26\"],[1.0,\"#f0f921\"]],\"type\":\"surface\"}],\"table\":[{\"cells\":{\"fill\":{\"color\":\"#EBF0F8\"},\"line\":{\"color\":\"white\"}},\"header\":{\"fill\":{\"color\":\"#C8D4E3\"},\"line\":{\"color\":\"white\"}},\"type\":\"table\"}]},\"layout\":{\"annotationdefaults\":{\"arrowcolor\":\"#2a3f5f\",\"arrowhead\":0,\"arrowwidth\":1},\"autotypenumbers\":\"strict\",\"coloraxis\":{\"colorbar\":{\"outlinewidth\":0,\"ticks\":\"\"}},\"colorscale\":{\"diverging\":[[0,\"#8e0152\"],[0.1,\"#c51b7d\"],[0.2,\"#de77ae\"],[0.3,\"#f1b6da\"],[0.4,\"#fde0ef\"],[0.5,\"#f7f7f7\"],[0.6,\"#e6f5d0\"],[0.7,\"#b8e186\"],[0.8,\"#7fbc41\"],[0.9,\"#4d9221\"],[1,\"#276419\"]],\"sequential\":[[0.0,\"#0d0887\"],[0.1111111111111111,\"#46039f\"],[0.2222222222222222,\"#7201a8\"],[0.3333333333333333,\"#9c179e\"],[0.4444444444444444,\"#bd3786\"],[0.5555555555555556,\"#d8576b\"],[0.6666666666666666,\"#ed7953\"],[0.7777777777777778,\"#fb9f3a\"],[0.8888888888888888,\"#fdca26\"],[1.0,\"#f0f921\"]],\"sequentialminus\":[[0.0,\"#0d0887\"],[0.1111111111111111,\"#46039f\"],[0.2222222222222222,\"#7201a8\"],[0.3333333333333333,\"#9c179e\"],[0.4444444444444444,\"#bd3786\"],[0.5555555555555556,\"#d8576b\"],[0.6666666666666666,\"#ed7953\"],[0.7777777777777778,\"#fb9f3a\"],[0.8888888888888888,\"#fdca26\"],[1.0,\"#f0f921\"]]},\"colorway\":[\"#636efa\",\"#EF553B\",\"#00cc96\",\"#ab63fa\",\"#FFA15A\",\"#19d3f3\",\"#FF6692\",\"#B6E880\",\"#FF97FF\",\"#FECB52\"],\"font\":{\"color\":\"#2a3f5f\"},\"geo\":{\"bgcolor\":\"white\",\"lakecolor\":\"white\",\"landcolor\":\"#E5ECF6\",\"showlakes\":true,\"showland\":true,\"subunitcolor\":\"white\"},\"hoverlabel\":{\"align\":\"left\"},\"hovermode\":\"closest\",\"mapbox\":{\"style\":\"light\"},\"paper_bgcolor\":\"white\",\"plot_bgcolor\":\"#E5ECF6\",\"polar\":{\"angularaxis\":{\"gridcolor\":\"white\",\"linecolor\":\"white\",\"ticks\":\"\"},\"bgcolor\":\"#E5ECF6\",\"radialaxis\":{\"gridcolor\":\"white\",\"linecolor\":\"white\",\"ticks\":\"\"}},\"scene\":{\"xaxis\":{\"backgroundcolor\":\"#E5ECF6\",\"gridcolor\":\"white\",\"gridwidth\":2,\"linecolor\":\"white\",\"showbackground\":true,\"ticks\":\"\",\"zerolinecolor\":\"white\"},\"yaxis\":{\"backgroundcolor\":\"#E5ECF6\",\"gridcolor\":\"white\",\"gridwidth\":2,\"linecolor\":\"white\",\"showbackground\":true,\"ticks\":\"\",\"zerolinecolor\":\"white\"},\"zaxis\":{\"backgroundcolor\":\"#E5ECF6\",\"gridcolor\":\"white\",\"gridwidth\":2,\"linecolor\":\"white\",\"showbackground\":true,\"ticks\":\"\",\"zerolinecolor\":\"white\"}},\"shapedefaults\":{\"line\":{\"color\":\"#2a3f5f\"}},\"ternary\":{\"aaxis\":{\"gridcolor\":\"white\",\"linecolor\":\"white\",\"ticks\":\"\"},\"baxis\":{\"gridcolor\":\"white\",\"linecolor\":\"white\",\"ticks\":\"\"},\"bgcolor\":\"#E5ECF6\",\"caxis\":{\"gridcolor\":\"white\",\"linecolor\":\"white\",\"ticks\":\"\"}},\"title\":{\"x\":0.05},\"xaxis\":{\"automargin\":true,\"gridcolor\":\"white\",\"linecolor\":\"white\",\"ticks\":\"\",\"title\":{\"standoff\":15},\"zerolinecolor\":\"white\",\"zerolinewidth\":2},\"yaxis\":{\"automargin\":true,\"gridcolor\":\"white\",\"linecolor\":\"white\",\"ticks\":\"\",\"title\":{\"standoff\":15},\"zerolinecolor\":\"white\",\"zerolinewidth\":2}}},\"title\":{\"text\":\"Global CO2 Emissions Per Year\"},\"width\":1500,\"xaxis\":{\"anchor\":\"y\",\"domain\":[0.0,1.0],\"title\":{\"text\":\"Year\"}},\"yaxis\":{\"anchor\":\"x\",\"domain\":[0.0,1.0],\"title\":{\"text\":\"Total\"}}},\"margin\":[5,5,5,5],\"name\":\"Global CO2 Emissions Per Year\",\"viewport_update_throttle\":200},\"id\":\"3873\",\"type\":\"panel.models.plotly.PlotlyPlot\"},{\"attributes\":{},\"id\":\"3879\",\"type\":\"Selection\"},{\"attributes\":{},\"id\":\"3880\",\"type\":\"UnionRenderers\"},{\"attributes\":{},\"id\":\"3881\",\"type\":\"Selection\"},{\"attributes\":{\"data\":{\"x\":[[\"1750-01-01 00:00:00\",\"1751-01-01 00:00:00\",\"1752-01-01 00:00:00\",\"1753-01-01 00:00:00\",\"1754-01-01 00:00:00\",\"1755-01-01 00:00:00\",\"1756-01-01 00:00:00\",\"1757-01-01 00:00:00\",\"1758-01-01 00:00:00\",\"1759-01-01 00:00:00\",\"1760-01-01 00:00:00\",\"1761-01-01 00:00:00\",\"1762-01-01 00:00:00\",\"1763-01-01 00:00:00\",\"1764-01-01 00:00:00\",\"1765-01-01 00:00:00\",\"1766-01-01 00:00:00\",\"1767-01-01 00:00:00\",\"1768-01-01 00:00:00\",\"1769-01-01 00:00:00\",\"1770-01-01 00:00:00\",\"1771-01-01 00:00:00\",\"1772-01-01 00:00:00\",\"1773-01-01 00:00:00\",\"1774-01-01 00:00:00\",\"1775-01-01 00:00:00\",\"1776-01-01 00:00:00\",\"1777-01-01 00:00:00\",\"1778-01-01 00:00:00\",\"1779-01-01 00:00:00\",\"1780-01-01 00:00:00\",\"1781-01-01 00:00:00\",\"1782-01-01 00:00:00\",\"1783-01-01 00:00:00\",\"1784-01-01 00:00:00\",\"1785-01-01 00:00:00\",\"1786-01-01 00:00:00\",\"1787-01-01 00:00:00\",\"1788-01-01 00:00:00\",\"1789-01-01 00:00:00\",\"1790-01-01 00:00:00\",\"1791-01-01 00:00:00\",\"1792-01-01 00:00:00\",\"1793-01-01 00:00:00\",\"1794-01-01 00:00:00\",\"1795-01-01 00:00:00\",\"1796-01-01 00:00:00\",\"1797-01-01 00:00:00\",\"1798-01-01 00:00:00\",\"1799-01-01 00:00:00\",\"1800-01-01 00:00:00\",\"1801-01-01 00:00:00\",\"1802-01-01 00:00:00\",\"1803-01-01 00:00:00\",\"1804-01-01 00:00:00\",\"1805-01-01 00:00:00\",\"1806-01-01 00:00:00\",\"1807-01-01 00:00:00\",\"1808-01-01 00:00:00\",\"1809-01-01 00:00:00\",\"1810-01-01 00:00:00\",\"1811-01-01 00:00:00\",\"1812-01-01 00:00:00\",\"1813-01-01 00:00:00\",\"1814-01-01 00:00:00\",\"1815-01-01 00:00:00\",\"1816-01-01 00:00:00\",\"1817-01-01 00:00:00\",\"1818-01-01 00:00:00\",\"1819-01-01 00:00:00\",\"1820-01-01 00:00:00\",\"1821-01-01 00:00:00\",\"1822-01-01 00:00:00\",\"1823-01-01 00:00:00\",\"1824-01-01 00:00:00\",\"1825-01-01 00:00:00\",\"1826-01-01 00:00:00\",\"1827-01-01 00:00:00\",\"1828-01-01 00:00:00\",\"1829-01-01 00:00:00\",\"1830-01-01 00:00:00\",\"1831-01-01 00:00:00\",\"1832-01-01 00:00:00\",\"1833-01-01 00:00:00\",\"1834-01-01 00:00:00\",\"1835-01-01 00:00:00\",\"1836-01-01 00:00:00\",\"1837-01-01 00:00:00\",\"1838-01-01 00:00:00\",\"1839-01-01 00:00:00\",\"1840-01-01 00:00:00\",\"1841-01-01 00:00:00\",\"1842-01-01 00:00:00\",\"1843-01-01 00:00:00\",\"1844-01-01 00:00:00\",\"1845-01-01 00:00:00\",\"1846-01-01 00:00:00\",\"1847-01-01 00:00:00\",\"1848-01-01 00:00:00\",\"1849-01-01 00:00:00\",\"1850-01-01 00:00:00\",\"1851-01-01 00:00:00\",\"1852-01-01 00:00:00\",\"1853-01-01 00:00:00\",\"1854-01-01 00:00:00\",\"1855-01-01 00:00:00\",\"1856-01-01 00:00:00\",\"1857-01-01 00:00:00\",\"1858-01-01 00:00:00\",\"1859-01-01 00:00:00\",\"1860-01-01 00:00:00\",\"1861-01-01 00:00:00\",\"1862-01-01 00:00:00\",\"1863-01-01 00:00:00\",\"1864-01-01 00:00:00\",\"1865-01-01 00:00:00\",\"1866-01-01 00:00:00\",\"1867-01-01 00:00:00\",\"1868-01-01 00:00:00\",\"1869-01-01 00:00:00\",\"1870-01-01 00:00:00\",\"1871-01-01 00:00:00\",\"1872-01-01 00:00:00\",\"1873-01-01 00:00:00\",\"1874-01-01 00:00:00\",\"1875-01-01 00:00:00\",\"1876-01-01 00:00:00\",\"1877-01-01 00:00:00\",\"1878-01-01 00:00:00\",\"1879-01-01 00:00:00\",\"1880-01-01 00:00:00\",\"1881-01-01 00:00:00\",\"1882-01-01 00:00:00\",\"1883-01-01 00:00:00\",\"1884-01-01 00:00:00\",\"1885-01-01 00:00:00\",\"1886-01-01 00:00:00\",\"1887-01-01 00:00:00\",\"1888-01-01 00:00:00\",\"1889-01-01 00:00:00\",\"1890-01-01 00:00:00\",\"1891-01-01 00:00:00\",\"1892-01-01 00:00:00\",\"1893-01-01 00:00:00\",\"1894-01-01 00:00:00\",\"1895-01-01 00:00:00\",\"1896-01-01 00:00:00\",\"1897-01-01 00:00:00\",\"1898-01-01 00:00:00\",\"1899-01-01 00:00:00\",\"1900-01-01 00:00:00\",\"1901-01-01 00:00:00\",\"1902-01-01 00:00:00\",\"1903-01-01 00:00:00\",\"1904-01-01 00:00:00\",\"1905-01-01 00:00:00\",\"1906-01-01 00:00:00\",\"1907-01-01 00:00:00\",\"1908-01-01 00:00:00\",\"1909-01-01 00:00:00\",\"1910-01-01 00:00:00\",\"1911-01-01 00:00:00\",\"1912-01-01 00:00:00\",\"1913-01-01 00:00:00\",\"1914-01-01 00:00:00\",\"1915-01-01 00:00:00\",\"1916-01-01 00:00:00\",\"1917-01-01 00:00:00\",\"1918-01-01 00:00:00\",\"1919-01-01 00:00:00\",\"1920-01-01 00:00:00\",\"1921-01-01 00:00:00\",\"1922-01-01 00:00:00\",\"1923-01-01 00:00:00\",\"1924-01-01 00:00:00\",\"1925-01-01 00:00:00\",\"1926-01-01 00:00:00\",\"1927-01-01 00:00:00\",\"1928-01-01 00:00:00\",\"1929-01-01 00:00:00\",\"1930-01-01 00:00:00\",\"1931-01-01 00:00:00\",\"1932-01-01 00:00:00\",\"1933-01-01 00:00:00\",\"1934-01-01 00:00:00\",\"1935-01-01 00:00:00\",\"1936-01-01 00:00:00\",\"1937-01-01 00:00:00\",\"1938-01-01 00:00:00\",\"1939-01-01 00:00:00\",\"1940-01-01 00:00:00\",\"1941-01-01 00:00:00\",\"1942-01-01 00:00:00\",\"1943-01-01 00:00:00\",\"1944-01-01 00:00:00\",\"1945-01-01 00:00:00\",\"1946-01-01 00:00:00\",\"1947-01-01 00:00:00\",\"1948-01-01 00:00:00\",\"1949-01-01 00:00:00\",\"1950-01-01 00:00:00\",\"1951-01-01 00:00:00\",\"1952-01-01 00:00:00\",\"1953-01-01 00:00:00\",\"1954-01-01 00:00:00\",\"1955-01-01 00:00:00\",\"1956-01-01 00:00:00\",\"1957-01-01 00:00:00\",\"1958-01-01 00:00:00\",\"1959-01-01 00:00:00\",\"1960-01-01 00:00:00\",\"1961-01-01 00:00:00\",\"1962-01-01 00:00:00\",\"1963-01-01 00:00:00\",\"1964-01-01 00:00:00\",\"1965-01-01 00:00:00\",\"1966-01-01 00:00:00\",\"1967-01-01 00:00:00\",\"1968-01-01 00:00:00\",\"1969-01-01 00:00:00\",\"1970-01-01 00:00:00\",\"1971-01-01 00:00:00\",\"1972-01-01 00:00:00\",\"1973-01-01 00:00:00\",\"1974-01-01 00:00:00\",\"1975-01-01 00:00:00\",\"1976-01-01 00:00:00\",\"1977-01-01 00:00:00\",\"1978-01-01 00:00:00\",\"1979-01-01 00:00:00\",\"1980-01-01 00:00:00\",\"1981-01-01 00:00:00\",\"1982-01-01 00:00:00\",\"1983-01-01 00:00:00\",\"1984-01-01 00:00:00\",\"1985-01-01 00:00:00\",\"1986-01-01 00:00:00\",\"1987-01-01 00:00:00\",\"1988-01-01 00:00:00\",\"1989-01-01 00:00:00\",\"1990-01-01 00:00:00\",\"1991-01-01 00:00:00\",\"1992-01-01 00:00:00\",\"1993-01-01 00:00:00\",\"1994-01-01 00:00:00\",\"1995-01-01 00:00:00\",\"1996-01-01 00:00:00\",\"1997-01-01 00:00:00\",\"1998-01-01 00:00:00\",\"1999-01-01 00:00:00\",\"2000-01-01 00:00:00\",\"2001-01-01 00:00:00\",\"2002-01-01 00:00:00\",\"2003-01-01 00:00:00\",\"2004-01-01 00:00:00\",\"2005-01-01 00:00:00\",\"2006-01-01 00:00:00\",\"2007-01-01 00:00:00\",\"2008-01-01 00:00:00\",\"2009-01-01 00:00:00\",\"2010-01-01 00:00:00\",\"2011-01-01 00:00:00\",\"2012-01-01 00:00:00\",\"2013-01-01 00:00:00\",\"2014-01-01 00:00:00\",\"2015-01-01 00:00:00\",\"2016-01-01 00:00:00\",\"2017-01-01 00:00:00\",\"2018-01-01 00:00:00\",\"2019-01-01 00:00:00\",\"2020-01-01 00:00:00\"]],\"y\":[{\"__ndarray__\":\"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\",\"dtype\":\"float64\",\"order\":\"little\",\"shape\":[271]}]},\"selected\":{\"id\":\"3879\"},\"selection_policy\":{\"id\":\"3878\"}},\"id\":\"3872\",\"type\":\"ColumnDataSource\"},{\"attributes\":{\"data\":[{\"alignmentgroup\":\"True\",\"hovertemplate\":\"Year=%{x}<br>Per Capita=%{y}<extra></extra>\",\"legendgroup\":\"\",\"marker\":{\"color\":\"#636efa\",\"pattern\":{\"shape\":\"\"}},\"name\":\"\",\"offsetgroup\":\"\",\"orientation\":\"v\",\"showlegend\":false,\"textposition\":\"auto\",\"type\":\"bar\",\"xaxis\":\"x\",\"yaxis\":\"y\"}],\"data_sources\":[{\"id\":\"3875\"}],\"layout\":{\"barmode\":\"relative\",\"height\":800,\"legend\":{\"tracegroupgap\":0},\"template\":{\"data\":{\"bar\":[{\"error_x\":{\"color\":\"#2a3f5f\"},\"error_y\":{\"color\":\"#2a3f5f\"},\"marker\":{\"line\":{\"color\":\"#E5ECF6\",\"width\":0.5},\"pattern\":{\"fillmode\":\"overlay\",\"size\":10,\"solidity\":0.2}},\"type\":\"bar\"}],\"barpolar\":[{\"marker\":{\"line\":{\"color\":\"#E5ECF6\",\"width\":0.5},\"pattern\":{\"fillmode\":\"overlay\",\"size\":10,\"solidity\":0.2}},\"type\":\"barpolar\"}],\"carpet\":[{\"aaxis\":{\"endlinecolor\":\"#2a3f5f\",\"gridcolor\":\"white\",\"linecolor\":\"white\",\"minorgridcolor\":\"white\",\"startlinecolor\":\"#2a3f5f\"},\"baxis\":{\"endlinecolor\":\"#2a3f5f\",\"gridcolor\":\"white\",\"linecolor\":\"white\",\"minorgridcolor\":\"white\",\"startlinecolor\":\"#2a3f5f\"},\"type\":\"carpet\"}],\"choropleth\":[{\"colorbar\":{\"outlinewidth\":0,\"ticks\":\"\"},\"type\":\"choropleth\"}],\"contour\":[{\"colorbar\":{\"outlinewidth\":0,\"ticks\":\"\"},\"colorscale\":[[0.0,\"#0d0887\"],[0.1111111111111111,\"#46039f\"],[0.2222222222222222,\"#7201a8\"],[0.3333333333333333,\"#9c179e\"],[0.4444444444444444,\"#bd3786\"],[0.5555555555555556,\"#d8576b\"],[0.6666666666666666,\"#ed7953\"],[0.7777777777777778,\"#fb9f3a\"],[0.8888888888888888,\"#fdca26\"],[1.0,\"#f0f921\"]],\"type\":\"contour\"}],\"contourcarpet\":[{\"colorbar\":{\"outlinewidth\":0,\"ticks\":\"\"},\"type\":\"contourcarpet\"}],\"heatmap\":[{\"colorbar\":{\"outlinewidth\":0,\"ticks\":\"\"},\"colorscale\":[[0.0,\"#0d0887\"],[0.1111111111111111,\"#46039f\"],[0.2222222222222222,\"#7201a8\"],[0.3333333333333333,\"#9c179e\"],[0.4444444444444444,\"#bd3786\"],[0.5555555555555556,\"#d8576b\"],[0.6666666666666666,\"#ed7953\"],[0.7777777777777778,\"#fb9f3a\"],[0.8888888888888888,\"#fdca26\"],[1.0,\"#f0f921\"]],\"type\":\"heatmap\"}],\"heatmapgl\":[{\"colorbar\":{\"outlinewidth\":0,\"ticks\":\"\"},\"colorscale\":[[0.0,\"#0d0887\"],[0.1111111111111111,\"#46039f\"],[0.2222222222222222,\"#7201a8\"],[0.3333333333333333,\"#9c179e\"],[0.4444444444444444,\"#bd3786\"],[0.5555555555555556,\"#d8576b\"],[0.6666666666666666,\"#ed7953\"],[0.7777777777777778,\"#fb9f3a\"],[0.8888888888888888,\"#fdca26\"],[1.0,\"#f0f921\"]],\"type\":\"heatmapgl\"}],\"histogram\":[{\"marker\":{\"pattern\":{\"fillmode\":\"overlay\",\"size\":10,\"solidity\":0.2}},\"type\":\"histogram\"}],\"histogram2d\":[{\"colorbar\":{\"outlinewidth\":0,\"ticks\":\"\"},\"colorscale\":[[0.0,\"#0d0887\"],[0.1111111111111111,\"#46039f\"],[0.2222222222222222,\"#7201a8\"],[0.3333333333333333,\"#9c179e\"],[0.4444444444444444,\"#bd3786\"],[0.5555555555555556,\"#d8576b\"],[0.6666666666666666,\"#ed7953\"],[0.7777777777777778,\"#fb9f3a\"],[0.8888888888888888,\"#fdca26\"],[1.0,\"#f0f921\"]],\"type\":\"histogram2d\"}],\"histogram2dcontour\":[{\"colorbar\":{\"outlinewidth\":0,\"ticks\":\"\"},\"colorscale\":[[0.0,\"#0d0887\"],[0.1111111111111111,\"#46039f\"],[0.2222222222222222,\"#7201a8\"],[0.3333333333333333,\"#9c179e\"],[0.4444444444444444,\"#bd3786\"],[0.5555555555555556,\"#d8576b\"],[0.6666666666666666,\"#ed7953\"],[0.7777777777777778,\"#fb9f3a\"],[0.8888888888888888,\"#fdca26\"],[1.0,\"#f0f921\"]],\"type\":\"histogram2dcontour\"}],\"mesh3d\":[{\"colorbar\":{\"outlinewidth\":0,\"ticks\":\"\"},\"type\":\"mesh3d\"}],\"parcoords\":[{\"line\":{\"colorbar\":{\"outlinewidth\":0,\"ticks\":\"\"}},\"type\":\"parcoords\"}],\"pie\":[{\"automargin\":true,\"type\":\"pie\"}],\"scatter\":[{\"marker\":{\"colorbar\":{\"outlinewidth\":0,\"ticks\":\"\"}},\"type\":\"scatter\"}],\"scatter3d\":[{\"line\":{\"colorbar\":{\"outlinewidth\":0,\"ticks\":\"\"}},\"marker\":{\"colorbar\":{\"outlinewidth\":0,\"ticks\":\"\"}},\"type\":\"scatter3d\"}],\"scattercarpet\":[{\"marker\":{\"colorbar\":{\"outlinewidth\":0,\"ticks\":\"\"}},\"type\":\"scattercarpet\"}],\"scattergeo\":[{\"marker\":{\"colorbar\":{\"outlinewidth\":0,\"ticks\":\"\"}},\"type\":\"scattergeo\"}],\"scattergl\":[{\"marker\":{\"colorbar\":{\"outlinewidth\":0,\"ticks\":\"\"}},\"type\":\"scattergl\"}],\"scattermapbox\":[{\"marker\":{\"colorbar\":{\"outlinewidth\":0,\"ticks\":\"\"}},\"type\":\"scattermapbox\"}],\"scatterpolar\":[{\"marker\":{\"colorbar\":{\"outlinewidth\":0,\"ticks\":\"\"}},\"type\":\"scatterpolar\"}],\"scatterpolargl\":[{\"marker\":{\"colorbar\":{\"outlinewidth\":0,\"ticks\":\"\"}},\"type\":\"scatterpolargl\"}],\"scatterternary\":[{\"marker\":{\"colorbar\":{\"outlinewidth\":0,\"ticks\":\"\"}},\"type\":\"scatterternary\"}],\"surface\":[{\"colorbar\":{\"outlinewidth\":0,\"ticks\":\"\"},\"colorscale\":[[0.0,\"#0d0887\"],[0.1111111111111111,\"#46039f\"],[0.2222222222222222,\"#7201a8\"],[0.3333333333333333,\"#9c179e\"],[0.4444444444444444,\"#bd3786\"],[0.5555555555555556,\"#d8576b\"],[0.6666666666666666,\"#ed7953\"],[0.7777777777777778,\"#fb9f3a\"],[0.8888888888888888,\"#fdca26\"],[1.0,\"#f0f921\"]],\"type\":\"surface\"}],\"table\":[{\"cells\":{\"fill\":{\"color\":\"#EBF0F8\"},\"line\":{\"color\":\"white\"}},\"header\":{\"fill\":{\"color\":\"#C8D4E3\"},\"line\":{\"color\":\"white\"}},\"type\":\"table\"}]},\"layout\":{\"annotationdefaults\":{\"arrowcolor\":\"#2a3f5f\",\"arrowhead\":0,\"arrowwidth\":1},\"autotypenumbers\":\"strict\",\"coloraxis\":{\"colorbar\":{\"outlinewidth\":0,\"ticks\":\"\"}},\"colorscale\":{\"diverging\":[[0,\"#8e0152\"],[0.1,\"#c51b7d\"],[0.2,\"#de77ae\"],[0.3,\"#f1b6da\"],[0.4,\"#fde0ef\"],[0.5,\"#f7f7f7\"],[0.6,\"#e6f5d0\"],[0.7,\"#b8e186\"],[0.8,\"#7fbc41\"],[0.9,\"#4d9221\"],[1,\"#276419\"]],\"sequential\":[[0.0,\"#0d0887\"],[0.1111111111111111,\"#46039f\"],[0.2222222222222222,\"#7201a8\"],[0.3333333333333333,\"#9c179e\"],[0.4444444444444444,\"#bd3786\"],[0.5555555555555556,\"#d8576b\"],[0.6666666666666666,\"#ed7953\"],[0.7777777777777778,\"#fb9f3a\"],[0.8888888888888888,\"#fdca26\"],[1.0,\"#f0f921\"]],\"sequentialminus\":[[0.0,\"#0d0887\"],[0.1111111111111111,\"#46039f\"],[0.2222222222222222,\"#7201a8\"],[0.3333333333333333,\"#9c179e\"],[0.4444444444444444,\"#bd3786\"],[0.5555555555555556,\"#d8576b\"],[0.6666666666666666,\"#ed7953\"],[0.7777777777777778,\"#fb9f3a\"],[0.8888888888888888,\"#fdca26\"],[1.0,\"#f0f921\"]]},\"colorway\":[\"#636efa\",\"#EF553B\",\"#00cc96\",\"#ab63fa\",\"#FFA15A\",\"#19d3f3\",\"#FF6692\",\"#B6E880\",\"#FF97FF\",\"#FECB52\"],\"font\":{\"color\":\"#2a3f5f\"},\"geo\":{\"bgcolor\":\"white\",\"lakecolor\":\"white\",\"landcolor\":\"#E5ECF6\",\"showlakes\":true,\"showland\":true,\"subunitcolor\":\"white\"},\"hoverlabel\":{\"align\":\"left\"},\"hovermode\":\"closest\",\"mapbox\":{\"style\":\"light\"},\"paper_bgcolor\":\"white\",\"plot_bgcolor\":\"#E5ECF6\",\"polar\":{\"angularaxis\":{\"gridcolor\":\"white\",\"linecolor\":\"white\",\"ticks\":\"\"},\"bgcolor\":\"#E5ECF6\",\"radialaxis\":{\"gridcolor\":\"white\",\"linecolor\":\"white\",\"ticks\":\"\"}},\"scene\":{\"xaxis\":{\"backgroundcolor\":\"#E5ECF6\",\"gridcolor\":\"white\",\"gridwidth\":2,\"linecolor\":\"white\",\"showbackground\":true,\"ticks\":\"\",\"zerolinecolor\":\"white\"},\"yaxis\":{\"backgroundcolor\":\"#E5ECF6\",\"gridcolor\":\"white\",\"gridwidth\":2,\"linecolor\":\"white\",\"showbackground\":true,\"ticks\":\"\",\"zerolinecolor\":\"white\"},\"zaxis\":{\"backgroundcolor\":\"#E5ECF6\",\"gridcolor\":\"white\",\"gridwidth\":2,\"linecolor\":\"white\",\"showbackground\":true,\"ticks\":\"\",\"zerolinecolor\":\"white\"}},\"shapedefaults\":{\"line\":{\"color\":\"#2a3f5f\"}},\"ternary\":{\"aaxis\":{\"gridcolor\":\"white\",\"linecolor\":\"white\",\"ticks\":\"\"},\"baxis\":{\"gridcolor\":\"white\",\"linecolor\":\"white\",\"ticks\":\"\"},\"bgcolor\":\"#E5ECF6\",\"caxis\":{\"gridcolor\":\"white\",\"linecolor\":\"white\",\"ticks\":\"\"}},\"title\":{\"x\":0.05},\"xaxis\":{\"automargin\":true,\"gridcolor\":\"white\",\"linecolor\":\"white\",\"ticks\":\"\",\"title\":{\"standoff\":15},\"zerolinecolor\":\"white\",\"zerolinewidth\":2},\"yaxis\":{\"automargin\":true,\"gridcolor\":\"white\",\"linecolor\":\"white\",\"ticks\":\"\",\"title\":{\"standoff\":15},\"zerolinecolor\":\"white\",\"zerolinewidth\":2}}},\"title\":{\"text\":\"Global CO2 Emissions Per Capita\"},\"width\":1500,\"xaxis\":{\"anchor\":\"y\",\"domain\":[0.0,1.0],\"title\":{\"text\":\"Year\"}},\"yaxis\":{\"anchor\":\"x\",\"domain\":[0.0,1.0],\"title\":{\"text\":\"Per Capita\"}}},\"margin\":[5,5,5,5],\"name\":\"Global CO2 Emissions Per Capita\",\"viewport_update_throttle\":200,\"visibility\":false},\"id\":\"3876\",\"type\":\"panel.models.plotly.PlotlyPlot\"},{\"attributes\":{\"data\":{\"x\":[[\"1750-01-01 00:00:00\",\"1751-01-01 00:00:00\",\"1752-01-01 00:00:00\",\"1753-01-01 00:00:00\",\"1754-01-01 00:00:00\",\"1755-01-01 00:00:00\",\"1756-01-01 00:00:00\",\"1757-01-01 00:00:00\",\"1758-01-01 00:00:00\",\"1759-01-01 00:00:00\",\"1760-01-01 00:00:00\",\"1761-01-01 00:00:00\",\"1762-01-01 00:00:00\",\"1763-01-01 00:00:00\",\"1764-01-01 00:00:00\",\"1765-01-01 00:00:00\",\"1766-01-01 00:00:00\",\"1767-01-01 00:00:00\",\"1768-01-01 00:00:00\",\"1769-01-01 00:00:00\",\"1770-01-01 00:00:00\",\"1771-01-01 00:00:00\",\"1772-01-01 00:00:00\",\"1773-01-01 00:00:00\",\"1774-01-01 00:00:00\",\"1775-01-01 00:00:00\",\"1776-01-01 00:00:00\",\"1777-01-01 00:00:00\",\"1778-01-01 00:00:00\",\"1779-01-01 00:00:00\",\"1780-01-01 00:00:00\",\"1781-01-01 00:00:00\",\"1782-01-01 00:00:00\",\"1783-01-01 00:00:00\",\"1784-01-01 00:00:00\",\"1785-01-01 00:00:00\",\"1786-01-01 00:00:00\",\"1787-01-01 00:00:00\",\"1788-01-01 00:00:00\",\"1789-01-01 00:00:00\",\"1790-01-01 00:00:00\",\"1791-01-01 00:00:00\",\"1792-01-01 00:00:00\",\"1793-01-01 00:00:00\",\"1794-01-01 00:00:00\",\"1795-01-01 00:00:00\",\"1796-01-01 00:00:00\",\"1797-01-01 00:00:00\",\"1798-01-01 00:00:00\",\"1799-01-01 00:00:00\",\"1800-01-01 00:00:00\",\"1801-01-01 00:00:00\",\"1802-01-01 00:00:00\",\"1803-01-01 00:00:00\",\"1804-01-01 00:00:00\",\"1805-01-01 00:00:00\",\"1806-01-01 00:00:00\",\"1807-01-01 00:00:00\",\"1808-01-01 00:00:00\",\"1809-01-01 00:00:00\",\"1810-01-01 00:00:00\",\"1811-01-01 00:00:00\",\"1812-01-01 00:00:00\",\"1813-01-01 00:00:00\",\"1814-01-01 00:00:00\",\"1815-01-01 00:00:00\",\"1816-01-01 00:00:00\",\"1817-01-01 00:00:00\",\"1818-01-01 00:00:00\",\"1819-01-01 00:00:00\",\"1820-01-01 00:00:00\",\"1821-01-01 00:00:00\",\"1822-01-01 00:00:00\",\"1823-01-01 00:00:00\",\"1824-01-01 00:00:00\",\"1825-01-01 00:00:00\",\"1826-01-01 00:00:00\",\"1827-01-01 00:00:00\",\"1828-01-01 00:00:00\",\"1829-01-01 00:00:00\",\"1830-01-01 00:00:00\",\"1831-01-01 00:00:00\",\"1832-01-01 00:00:00\",\"1833-01-01 00:00:00\",\"1834-01-01 00:00:00\",\"1835-01-01 00:00:00\",\"1836-01-01 00:00:00\",\"1837-01-01 00:00:00\",\"1838-01-01 00:00:00\",\"1839-01-01 00:00:00\",\"1840-01-01 00:00:00\",\"1841-01-01 00:00:00\",\"1842-01-01 00:00:00\",\"1843-01-01 00:00:00\",\"1844-01-01 00:00:00\",\"1845-01-01 00:00:00\",\"1846-01-01 00:00:00\",\"1847-01-01 00:00:00\",\"1848-01-01 00:00:00\",\"1849-01-01 00:00:00\",\"1850-01-01 00:00:00\",\"1851-01-01 00:00:00\",\"1852-01-01 00:00:00\",\"1853-01-01 00:00:00\",\"1854-01-01 00:00:00\",\"1855-01-01 00:00:00\",\"1856-01-01 00:00:00\",\"1857-01-01 00:00:00\",\"1858-01-01 00:00:00\",\"1859-01-01 00:00:00\",\"1860-01-01 00:00:00\",\"1861-01-01 00:00:00\",\"1862-01-01 00:00:00\",\"1863-01-01 00:00:00\",\"1864-01-01 00:00:00\",\"1865-01-01 00:00:00\",\"1866-01-01 00:00:00\",\"1867-01-01 00:00:00\",\"1868-01-01 00:00:00\",\"1869-01-01 00:00:00\",\"1870-01-01 00:00:00\",\"1871-01-01 00:00:00\",\"1872-01-01 00:00:00\",\"1873-01-01 00:00:00\",\"1874-01-01 00:00:00\",\"1875-01-01 00:00:00\",\"1876-01-01 00:00:00\",\"1877-01-01 00:00:00\",\"1878-01-01 00:00:00\",\"1879-01-01 00:00:00\",\"1880-01-01 00:00:00\",\"1881-01-01 00:00:00\",\"1882-01-01 00:00:00\",\"1883-01-01 00:00:00\",\"1884-01-01 00:00:00\",\"1885-01-01 00:00:00\",\"1886-01-01 00:00:00\",\"1887-01-01 00:00:00\",\"1888-01-01 00:00:00\",\"1889-01-01 00:00:00\",\"1890-01-01 00:00:00\",\"1891-01-01 00:00:00\",\"1892-01-01 00:00:00\",\"1893-01-01 00:00:00\",\"1894-01-01 00:00:00\",\"1895-01-01 00:00:00\",\"1896-01-01 00:00:00\",\"1897-01-01 00:00:00\",\"1898-01-01 00:00:00\",\"1899-01-01 00:00:00\",\"1900-01-01 00:00:00\",\"1901-01-01 00:00:00\",\"1902-01-01 00:00:00\",\"1903-01-01 00:00:00\",\"1904-01-01 00:00:00\",\"1905-01-01 00:00:00\",\"1906-01-01 00:00:00\",\"1907-01-01 00:00:00\",\"1908-01-01 00:00:00\",\"1909-01-01 00:00:00\",\"1910-01-01 00:00:00\",\"1911-01-01 00:00:00\",\"1912-01-01 00:00:00\",\"1913-01-01 00:00:00\",\"1914-01-01 00:00:00\",\"1915-01-01 00:00:00\",\"1916-01-01 00:00:00\",\"1917-01-01 00:00:00\",\"1918-01-01 00:00:00\",\"1919-01-01 00:00:00\",\"1920-01-01 00:00:00\",\"1921-01-01 00:00:00\",\"1922-01-01 00:00:00\",\"1923-01-01 00:00:00\",\"1924-01-01 00:00:00\",\"1925-01-01 00:00:00\",\"1926-01-01 00:00:00\",\"1927-01-01 00:00:00\",\"1928-01-01 00:00:00\",\"1929-01-01 00:00:00\",\"1930-01-01 00:00:00\",\"1931-01-01 00:00:00\",\"1932-01-01 00:00:00\",\"1933-01-01 00:00:00\",\"1934-01-01 00:00:00\",\"1935-01-01 00:00:00\",\"1936-01-01 00:00:00\",\"1937-01-01 00:00:00\",\"1938-01-01 00:00:00\",\"1939-01-01 00:00:00\",\"1940-01-01 00:00:00\",\"1941-01-01 00:00:00\",\"1942-01-01 00:00:00\",\"1943-01-01 00:00:00\",\"1944-01-01 00:00:00\",\"1945-01-01 00:00:00\",\"1946-01-01 00:00:00\",\"1947-01-01 00:00:00\",\"1948-01-01 00:00:00\",\"1949-01-01 00:00:00\",\"1950-01-01 00:00:00\",\"1951-01-01 00:00:00\",\"1952-01-01 00:00:00\",\"1953-01-01 00:00:00\",\"1954-01-01 00:00:00\",\"1955-01-01 00:00:00\",\"1956-01-01 00:00:00\",\"1957-01-01 00:00:00\",\"1958-01-01 00:00:00\",\"1959-01-01 00:00:00\",\"1960-01-01 00:00:00\",\"1961-01-01 00:00:00\",\"1962-01-01 00:00:00\",\"1963-01-01 00:00:00\",\"1964-01-01 00:00:00\",\"1965-01-01 00:00:00\",\"1966-01-01 00:00:00\",\"1967-01-01 00:00:00\",\"1968-01-01 00:00:00\",\"1969-01-01 00:00:00\",\"1970-01-01 00:00:00\",\"1971-01-01 00:00:00\",\"1972-01-01 00:00:00\",\"1973-01-01 00:00:00\",\"1974-01-01 00:00:00\",\"1975-01-01 00:00:00\",\"1976-01-01 00:00:00\",\"1977-01-01 00:00:00\",\"1978-01-01 00:00:00\",\"1979-01-01 00:00:00\",\"1980-01-01 00:00:00\",\"1981-01-01 00:00:00\",\"1982-01-01 00:00:00\",\"1983-01-01 00:00:00\",\"1984-01-01 00:00:00\",\"1985-01-01 00:00:00\",\"1986-01-01 00:00:00\",\"1987-01-01 00:00:00\",\"1988-01-01 00:00:00\",\"1989-01-01 00:00:00\",\"1990-01-01 00:00:00\",\"1991-01-01 00:00:00\",\"1992-01-01 00:00:00\",\"1993-01-01 00:00:00\",\"1994-01-01 00:00:00\",\"1995-01-01 00:00:00\",\"1996-01-01 00:00:00\",\"1997-01-01 00:00:00\",\"1998-01-01 00:00:00\",\"1999-01-01 00:00:00\",\"2000-01-01 00:00:00\",\"2001-01-01 00:00:00\",\"2002-01-01 00:00:00\",\"2003-01-01 00:00:00\",\"2004-01-01 00:00:00\",\"2005-01-01 00:00:00\",\"2006-01-01 00:00:00\",\"2007-01-01 00:00:00\",\"2008-01-01 00:00:00\",\"2009-01-01 00:00:00\",\"2010-01-01 00:00:00\",\"2011-01-01 00:00:00\",\"2012-01-01 00:00:00\",\"2013-01-01 00:00:00\",\"2014-01-01 00:00:00\",\"2015-01-01 00:00:00\",\"2016-01-01 00:00:00\",\"2017-01-01 00:00:00\",\"2018-01-01 00:00:00\",\"2019-01-01 00:00:00\",\"2020-01-01 00:00:00\"]],\"y\":[{\"__ndarray__\":\"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\",\"dtype\":\"float64\",\"order\":\"little\",\"shape\":[271]}]},\"selected\":{\"id\":\"3881\"},\"selection_policy\":{\"id\":\"3880\"}},\"id\":\"3875\",\"type\":\"ColumnDataSource\"},{\"attributes\":{},\"id\":\"3878\",\"type\":\"UnionRenderers\"},{\"attributes\":{\"client_comm_id\":\"4a3f97b0864a454dbe5c58ef769ba94b\",\"comm_id\":\"ddede5818add45ceaf1bee69b473f09f\",\"plot_id\":\"3871\"},\"id\":\"3918\",\"type\":\"panel.models.comm_manager.CommManager\"},{\"attributes\":{\"args\":{\"model\":{\"id\":\"3876\"}},\"code\":\"try { model.visibility = (cb_obj.active == 1); } catch { }\",\"tags\":[\"plotly_tab_fix3876\"]},\"id\":\"3909\",\"type\":\"CustomJS\"},{\"attributes\":{\"child\":{\"id\":\"3873\"},\"name\":\"Global CO2 Emissions Per Year\",\"title\":\"Global CO2 Emissions Per Year\"},\"id\":\"3874\",\"type\":\"Panel\"},{\"attributes\":{\"js_property_callbacks\":{\"change:active\":[{\"id\":\"3900\"},{\"id\":\"3909\"}]},\"margin\":[0,0,0,0],\"tabs\":[{\"id\":\"3874\"},{\"id\":\"3877\"}]},\"id\":\"3871\",\"type\":\"Tabs\"},{\"attributes\":{\"child\":{\"id\":\"3876\"},\"name\":\"Global CO2 Emissions Per Capita\",\"title\":\"Global CO2 Emissions Per Capita\"},\"id\":\"3877\",\"type\":\"Panel\"}],\"root_ids\":[\"3871\",\"3918\"]},\"title\":\"Bokeh Application\",\"version\":\"2.4.1\"}};\n",
       "    var render_items = [{\"docid\":\"1afca142-46e7-40e1-9d3d-ad6c6550cfdc\",\"root_ids\":[\"3871\"],\"roots\":{\"3871\":\"04527430-2db2-4719-8516-c7c215b370f8\"}}];\n",
       "    root.Bokeh.embed.embed_items_notebook(docs_json, render_items);\n",
       "  }\n",
       "  if (root.Bokeh !== undefined && root.Bokeh.Panel !== undefined) {\n",
       "    embed_document(root);\n",
       "  } else {\n",
       "    var attempts = 0;\n",
       "    var timer = setInterval(function(root) {\n",
       "      if (root.Bokeh !== undefined && root.Bokeh.Panel !== undefined) {\n",
       "        clearInterval(timer);\n",
       "        embed_document(root);\n",
       "      } else if (document.readyState == \"complete\") {\n",
       "        attempts++;\n",
       "        if (attempts > 200) {\n",
       "          clearInterval(timer);\n",
       "          console.log(\"Bokeh: ERROR: Unable to run BokehJS code because BokehJS library is missing\");\n",
       "        }\n",
       "      }\n",
       "    }, 25, root)\n",
       "  }\n",
       "})(window);</script>"
      ],
      "text/plain": [
       "Tabs\n",
       "    [0] Plotly(Figure, name='Global CO2 Emissions P...)\n",
       "    [1] Plotly(Figure, name='Global CO2 Emissions P...)"
      ]
     },
     "execution_count": 67,
     "metadata": {
      "application/vnd.holoviews_exec.v0+json": {
       "id": "3871"
      }
     },
     "output_type": "execute_result"
    }
   ],
   "source": [
    "# Create tabs\n",
    "tabs = pn.Tabs(\n",
    "    (\"Global CO2 Emissions Per Year\", co2_plot),\n",
    "    (\"Global CO2 Emissions Per Capita\", co2_percapita_plot))\n",
    "tabs"
   ]
  }
 ],
 "metadata": {
  "kernelspec": {
   "display_name": "Python [conda env:pyvizenv] *",
   "language": "python",
   "name": "conda-env-pyvizenv-py"
  },
  "language_info": {
   "codemirror_mode": {
    "name": "ipython",
    "version": 3
   },
   "file_extension": ".py",
   "mimetype": "text/x-python",
   "name": "python",
   "nbconvert_exporter": "python",
   "pygments_lexer": "ipython3",
   "version": "3.7.11"
  }
 },
 "nbformat": 4,
 "nbformat_minor": 5
}
